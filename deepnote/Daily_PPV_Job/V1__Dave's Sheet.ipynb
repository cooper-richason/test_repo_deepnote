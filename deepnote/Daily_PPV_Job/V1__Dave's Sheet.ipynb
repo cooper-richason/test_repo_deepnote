{
  "cells": [
    {
      "cell_type": "markdown",
      "source": "# Daily Job to Get PPV Values",
      "metadata": {
        "formattedRanges": [],
        "cell_id": "2198122d41f34d26b7e34296edc4d0d2",
        "deepnote_cell_type": "text-cell-h1"
      },
      "block_group": "e82de278b5b34c41bc4b09cdae43e558"
    },
    {
      "cell_type": "markdown",
      "source": "> See V2__ SnowFlake Data for latest version",
      "metadata": {
        "formattedRanges": [
          {
            "type": "marks",
            "marks": {
              "bold": true
            },
            "toCodePoint": 24,
            "fromCodePoint": 3
          }
        ],
        "cell_id": "a07614f8de9f4d6a98896cc12bc693b6",
        "deepnote_cell_type": "text-cell-callout"
      },
      "block_group": "eb7d405f242b4290a5291bfa6874a53b"
    },
    {
      "cell_type": "code",
      "source": "import os\nimport requests\nimport os.path\nimport pandas as pd\nimport csv\nimport json\nimport pytz\nimport pygsheets\n\nfrom google.auth.transport.requests import Request\nfrom google.oauth2.credentials import Credentials\nfrom google_auth_oauthlib.flow import InstalledAppFlow\nfrom googleapiclient.discovery import build\nfrom googleapiclient.errors import HttpError\nfrom datetime import datetime, timedelta\n\nheaders = {\n    'X-PW-AccessToken':os.environ[\"COPPER_API_KEY\"],\n    'X-PW-Application':'developer_api',\n    'X-PW-UserEmail':'cooper@rehabpath.com',\n    'Content-Type':'application/json'\n}\n\ndef refresh_custom_fields(return_results = False):\n    \"\"\"\n    Function to refresh the custom_field_json file and related dictionary. Option to \n    return resulting dictionary:\n\n    return_results: True to return results, False to just update local file\n    \"\"\"\n    # Fetching custom fields:\n    list_fields = requests.get('https://api.copper.com/developer_api/v1/custom_field_definitions',headers=headers)\n    \n    # Was the API request a success?\n    if list_fields.status_code != 200:\n        print('Error fetching custom fields.')\n        if return_results:\n            print('Returning previous version.')\n            with open('custom_fields.json', encoding=\"utf-8\") as f:\n                return json.load(f)\n    \n    # Obtaining response text and initializing dictionary:\n    list_fields_json = list_fields.json()\n    custom_field_dict = {}\n\n    for item in list_fields_json:\n        item_dict = {}\n        for sub_item in ['name','data_type','available_on','is_filterable']:\n            item_dict[sub_item] = item[sub_item] \n\n        item_options = {}\n\n        if 'options' in item:\n            for sub_item in item['options']:\n                sub_item_name = sub_item['name']\n                sub_item_id = sub_item['id']\n\n                item_options[sub_item_id] = sub_item_name\n        \n            item_dict['options'] = item_options\n        item_id = item['id']\n        custom_field_dict[item_id] = item_dict\n    \n    # Updating local file:\n    with open('custom_fields.json', 'w') as file:\n        json.dump(custom_field_dict, file, indent=4)\n    \n    #Option to return results or just update local file:\n    if return_results == True:\n        return custom_field_dict\n    else:\n        print('Successfully Updated File!')\n        pass\n\ncustom_fields = refresh_custom_fields(True)\n\ndef get_cf_info(cf_id,cf_info):\n    \"\"\"\n    Function to get the custome field information based on the field id.\n\n    cf_id (int or string) is the id_number of the custome field\n    cf_info can be a single string or list of strings like 'name' or ['name','data_type','is_filterable']\n    \"\"\"\n\n    if isinstance(cf_id,str):\n        cf_id = int(cf_id)      \n\n    # Check if cf_info item(s) are valid\n    if isinstance(cf_info, list):\n        for item_name in cf_info:\n            # Remove faulty items:\n            if item_name not in ['name','data_type','available_on','is_filterable','options']:\n                cf_info.pop(item_name)\n                print(f'Invalid cf_info: {cf_info}')\n            \n            # Cancel function if no valid items\n            if len(cf_info) == 0:\n                pass\n    elif cf_info not in ['name','data_type','available_on','is_filterable','options']:\n        print(f'Invalid cf_info: {cf_info}'); pass\n\n    if isinstance(cf_info,list):\n        return_list = []\n        for item_name in cf_info:\n            value = custom_fields[cf_id].get(item_name)\n            return_list.append(value)\n        return return_list\n    else:\n        value = custom_fields[cf_id].get(cf_info)\n        return value\n\ndef get_cf_options(cf_id):\n    return custom_fields.get(cf_id).get('options')\n\ndef cf_option_name(cf_id,option_id):\n    return get_cf_options(cf_id).get(option_id)\n\ndef reformat_company_data(company_data):\n    \"\"\"\n    Function to reformat the company data recieved from Copper in their JSON response\n    \"\"\"\n\n    native_items = ['id', 'name', 'address', 'assignee_id', 'contact_type_id']\n\n    output_dict = {}\n\n    for item in native_items:\n        output_dict[item] = company_data.get(item, None)\n    \n    custom_field_data = company_data['custom_fields']\n\n    for dict_item in custom_field_data:\n        item_id = dict_item['custom_field_definition_id']\n        item_name = custom_fields_dict.get(item_id, None)\n\n        if item_name not in Custom_Fields or item_name is None:\n            continue\n        \n        if item_name is not None:\n            item_value = dict_item['value']\n            output_dict[item_name] = item_value\n    \n    return output_dict\n\ndef write_to_gsheet(service_file_path, spreadsheet_id, sheet_name, data_df):\n    \"\"\"\n    this function takes data_df and writes it under spreadsheet_id\n    and sheet_name using your credentials under service_file_path\n    \"\"\"\n    gc = pygsheets.authorize(service_file=service_file_path)\n    sh = gc.open_by_key(spreadsheet_id)\n    try:\n        sh.add_worksheet(sheet_name)\n    except:\n        pass\n    wks_write = sh.worksheet_by_title(sheet_name)\n    wks_write.clear('A1',None,'*')\n    wks_write.set_dataframe(data_df, (1,1), encoding='utf-8', fit=True)\n    wks_write.frozen_rows = 1\n\n\nSCOPES = [\"https://www.googleapis.com/auth/spreadsheets.readonly\"]\n\ndef authorize_gspread(credentials_file, token_file, scopes):\n    creds = None\n\n    if os.path.exists(token_file):\n        creds = Credentials.from_authorized_user_file(token_file, scopes)\n\n    if not creds or not creds.valid:\n        if creds and creds.expired and creds.refresh_token:\n            creds.refresh(Request())\n        else:\n            flow = InstalledAppFlow.from_client_secrets_file(credentials_file, scopes)\n            creds = flow.run_local_server(port=0)\n\n        with open(token_file, \"w\") as token:\n            token.write(creds.to_json())\n\n    return creds\n\n\ndef read_google_sheets(spreadsheet_id, range_name, credentials_file, token_file, scopes):\n    creds = authorize_gspread(credentials_file, token_file, scopes)\n\n    try:\n        service = build(\"sheets\", \"v4\", credentials=creds)\n\n        sheet = service.spreadsheets()\n        resulting_sheet = sheet.values().get(spreadsheetId=spreadsheet_id, range=range_name).execute()\n        values = resulting_sheet.get(\"values\", [])\n\n        if not values:\n            return None\n\n        return values\n\n    except HttpError as err:\n        return None\n\n\ndef get_data(spreadsheet_id,range_name,credentials_file = \"credentials.json\",token_file = \"token.json\"):\n    \"\"\"\n    Function to fetch data from Google Sheets.\n    \"\"\"\n    result = read_google_sheets(spreadsheet_id, range_name, credentials_file, token_file, SCOPES)\n    \n    if result is not None:\n        results = pd.DataFrame(result[1:], columns=result[0])\n        return results\n    else:\n        print(\"Failed to retrieve data from Google Sheets.\")\n        pass\n\ncustom_fields_dict = {}\n\nfor item in custom_fields.keys():\n    item_name = custom_fields[item].get('name')\n    custom_fields_dict[item] = item_name\n\ncustom_fields_df = pd.DataFrame(list(custom_fields_dict.items()),columns = ['id','name'])\n\ncustom_fields_list = list(custom_fields_df['name'])",
      "metadata": {
        "source_hash": null,
        "is_code_hidden": false,
        "execution_start": 1704677581722,
        "execution_millis": 1051,
        "deepnote_to_be_reexecuted": false,
        "deepnote_app_is_code_hidden": true,
        "cell_id": "4d0df5ad14bd44eabbc8d93d506db06e",
        "deepnote_cell_type": "code"
      },
      "outputs": [],
      "execution_count": null,
      "block_group": "a47a0bdedf93492398b52f62c56ebc9c"
    },
    {
      "cell_type": "markdown",
      "source": "### Getting Data from Dave's Sheet:",
      "metadata": {
        "formattedRanges": [],
        "cell_id": "5cc81471bf9c4d0395999bdbfb33e857",
        "deepnote_cell_type": "text-cell-h3"
      },
      "block_group": "b2f4de9860f74281a2492273cd953cd0"
    },
    {
      "cell_type": "code",
      "source": "ppv_data = get_data(\"1GpB_tmHJvwc-Ie7WGT0_VAX1bh7ESKoiBYkGvQSgrFU\",\"PPVs_PIVOT!A2:Ak\")\nppv_data.rename(columns={'Page path without query string':'Page'},inplace=True)\nppv_data = ppv_data[ppv_data['Page']!= 'Grand Total']",
      "metadata": {
        "source_hash": null,
        "execution_start": 1704677582770,
        "execution_millis": 850,
        "deepnote_to_be_reexecuted": false,
        "cell_id": "2a04c78606e849f7a60ccc19fdc73dae",
        "deepnote_cell_type": "code"
      },
      "outputs": [],
      "execution_count": null,
      "block_group": "cf359d70630b449db461099b90cbabca"
    },
    {
      "cell_type": "markdown",
      "source": "### Getting Go Live Dates:",
      "metadata": {
        "formattedRanges": [],
        "cell_id": "4c7c899682004e7e9fd7c5d0767c75b7",
        "deepnote_cell_type": "text-cell-h3"
      },
      "block_group": "eecd8da061664853a910d95bccb67d85"
    },
    {
      "cell_type": "code",
      "source": "Custom_Fields = ['Page','GoLive Date','Profile Slug']",
      "metadata": {
        "source_hash": null,
        "execution_start": 1704677583617,
        "execution_millis": 18,
        "deepnote_variable_name": "Custom_Fields",
        "deepnote_variable_value": [
          "Page",
          "GoLive Date",
          "Profile Slug"
        ],
        "deepnote_to_be_reexecuted": false,
        "deepnote_variable_options": [
          "Which RehabPath Website?",
          "WhatsApp",
          "Remarks",
          "Follow up status",
          "Call notes",
          "Center Claimed Status",
          "Paid Subscriptions",
          "Parent of",
          "Child of",
          "Claimed Status",
          "Date Added to LuxuryRehabs.com",
          "Primary Account Contact",
          "Primary Contact Account",
          "LR Profile URL",
          "Business Contact",
          "Business Contact",
          "Admissions Email",
          "Last Charge",
          "Monthly Spending Cap",
          "Pre-Qualification Rating (out of 45)",
          "Verified",
          "Base Rate Monthly Revenue",
          "Monthly Budget (LuxuryRehabs)",
          "Billing PPV Rate (LuxuryRehabs)",
          "First Month PPV Estimate",
          "Max Monthly PPV Estimate",
          "LEGACY_Customer Success Contact",
          "% of Profile Complete",
          "# of Highlights",
          "# of News Items",
          "# of Content Panels",
          "Provider Admissions phone # linked to CTM",
          "Call Tracking CTM - # listed in Profile",
          "Additional Email Domain #1",
          "LegitScript Certified ?",
          "What CRM for Admissions ?",
          "Additional Email Domain #2",
          "Additional Email Domain #3",
          "Pictures of Staff in Profile",
          "Provided Logo ?",
          "Has Youtube Videos ?",
          "Inquiries List",
          "# of Confirmed Admits",
          "Onboarding Meeting Date",
          "Date of First Confirmed Admit",
          "Total # of beds in facility",
          "Current Plan Effective Date",
          "Date Claimed",
          "Campaign Health",
          "Customer Health (old)",
          "Current # of Reviews in Profile",
          "Regional PPV Rate",
          "Uses Parent Budget",
          "Plan Type",
          "Center Group",
          "Performance Report",
          "Last Performance Meeting Date",
          "Profile Slug",
          "Chargify Subscription ID",
          "Currency",
          "Month Spend to Date",
          "Current Budget Effective Date (LuxuryRehabs)",
          "Update Billing PPV Rate (LuxuryRehabs)",
          "New Billing PPV Rate Effective Date (LuxuryRehabs)",
          "Billing PPV Rate (rehabs.in)",
          "Monthly Budget (Rehabs.in)",
          "Target Cost Per Admit",
          "Accepts Insurance",
          "Combined Address",
          "Country",
          "Bulk Update",
          "Ad Targeting Preferences",
          "Previous Budget",
          "Update Monthly Budget",
          "Meeting Type",
          "Billing Reconciliation Reviewed",
          "Last Date Verified",
          "Top Hitlist",
          "Opportunity Type",
          "Last Month Leads",
          "Conversion Score",
          "Customer Health Check-In",
          "Discovery Meeting Date",
          "Restricted Budget",
          "Reason for Restricted Budget",
          "GoLive Date",
          "Customer Pulse",
          "Budget Increase Last 90 Days (Temporary)",
          "Last Month PoB",
          "Current Month PoB",
          "Delivery Potential",
          "Primary Contact Email",
          "Target Date",
          "Last Month Calls",
          "Last Month Treatment Inquires",
          "Last Month Outbound Links",
          "Last Month Spend",
          "Last Month VOB",
          "Notes",
          "Customer Pulse Date",
          "Page",
          "Closed Date",
          "Customer Defined CPA",
          "Budget Effective Date",
          "Customer Health",
          "Last Month Admits",
          "Admits 2 months ago (if not previously documented)",
          "Admits 3 months ago (if not previously documented)",
          "Contract End Date",
          "Virtual Tour Date",
          "Virtual Tour Link",
          "Onboarding Meeting Link",
          "Discovery Meeting Link",
          "PPV Rate",
          "CS Contact",
          "Customer Success Accounts",
          "Exclude Marketing Comm (Parent)",
          "Is Parent Entity",
          "Company Status",
          "State",
          "Prepayment",
          "Contract Period",
          "Monthly Profile Views",
          "AdRank Multiplier",
          "Last Month Link Leads",
          "Last Month Cost per Lead",
          "Do Not Update Prepayment",
          "Unsubscribe",
          "Inactive Records",
          "Active Record",
          "Created On",
          "Capped",
          "Hubspot (Current Month PoB)",
          "HubSpot Sync",
          "Admits Last 3 Mon",
          "3 Month CPA",
          "CPA Ratio",
          "Primary Account Contact",
          "Expansion Notes (old)",
          "Expansion Notes Updated Date",
          "Expansion Notes",
          "Tracking Attribution",
          "Churn Retro Notes",
          "Churn Request Date",
          "Try To Win Customer Back?",
          "Agency Partner (Commission)",
          "Primary Churn Reason",
          "Churn Reasons",
          "Risk Factors old",
          "Next Steps old",
          "Churn Date",
          "Attribution Notes",
          "Risk Factors",
          "Next Steps",
          "Performance Report (Old-UA)",
          "Agency Partner",
          "LEGACY_Account Owner",
          "Performance Manager",
          "Receives Agency Partner Commissions",
          "Executive Sponsor"
        ],
        "deepnote_variable_select_type": "from-variable",
        "deepnote_allow_multiple_values": true,
        "deepnote_variable_custom_options": [],
        "deepnote_variable_selected_variable": "custom_fields_list",
        "cell_id": "b0da1b85cd934515a3c952f9ecd2b53f",
        "deepnote_cell_type": "input-select"
      },
      "outputs": [],
      "execution_count": null,
      "block_group": "5beac77d073c4c90a217a792b9fa30ac"
    },
    {
      "cell_type": "code",
      "source": "page = 1\ncombined_results = []\ntotal_pages = 2\n\nwhile page <= total_pages:\n    page_params = {\n        \"page_size\": 100,\n        \"page_number\": page,\n        \"custom_fields\": [\n        {\n            \"custom_field_definition_id\": 588393,\n            \"value\": [1806073, 1806063,1806064,1824709,1806067]\n        }\n        ]}\n    result = requests.post('https://api.copper.com/developer_api/v1/companies/search',headers=headers,json=page_params)\n    \n    if result.status_code == 200:\n        total_pages = (int(result.headers['X-PW-TOTAL'])//100)+1\n        print(f\"Getting page {page} of {total_pages}.\")\n        result_json = result.json()\n        combined_results.extend(result_json)\n        page +=1\n\n    else:\n        print(f\"Issue with page {page}. Stopping.\")\n        break",
      "metadata": {
        "source_hash": null,
        "execution_start": 1704677583628,
        "execution_millis": 4279,
        "deepnote_to_be_reexecuted": false,
        "cell_id": "becdba0ca235488ebe28755d95d82bf5",
        "deepnote_cell_type": "code"
      },
      "outputs": [
        {
          "name": "stdout",
          "text": "Getting page 1 of 3.\nGetting page 2 of 3.\nGetting page 3 of 3.\n",
          "output_type": "stream"
        }
      ],
      "execution_count": null,
      "block_group": "02f76ab1040c49d48aa28f60e7963e68"
    },
    {
      "cell_type": "code",
      "source": "cleaned_data = []\n\nfor idx in range(len(combined_results)):\n    results = reformat_company_data(combined_results[idx])\n    cleaned_data.append(results)\n\ncleaned_data_df = pd.DataFrame(cleaned_data)\nlist_slugs = list(set(cleaned_data_df['Profile Slug']))\ncleaned_data_df.drop(columns=['id','name','address','assignee_id','contact_type_id','Profile Slug'],inplace=True)",
      "metadata": {
        "source_hash": null,
        "execution_start": 1704677587915,
        "execution_millis": 17,
        "deepnote_to_be_reexecuted": false,
        "cell_id": "0ffdf00a46ff40dcacba8983a3a58c2f",
        "deepnote_cell_type": "code"
      },
      "outputs": [],
      "execution_count": null,
      "block_group": "cc9102f498b048bea36fbed3f335599b"
    },
    {
      "cell_type": "code",
      "source": "ct_timezone = pytz.timezone('US/Central')\ncleaned_data_df['GoLive Date'] = cleaned_data_df['GoLive Date'].apply(lambda x: pd.to_datetime(x, unit='s'))",
      "metadata": {
        "source_hash": null,
        "execution_start": 1704677587924,
        "execution_millis": 41,
        "deepnote_to_be_reexecuted": false,
        "cell_id": "5ba9a63b5d004d14861bf1b9bdf5c472",
        "deepnote_cell_type": "code"
      },
      "outputs": [],
      "execution_count": null,
      "block_group": "b5bc9eb5f0de445fa76b86a08de74891"
    },
    {
      "cell_type": "markdown",
      "source": "### Getting Views from Snowflake",
      "metadata": {
        "formattedRanges": [],
        "cell_id": "d667d953e2304458b35d1d8c2b40aa9d",
        "deepnote_cell_type": "text-cell-h3"
      },
      "block_group": "da6b7685d59e4e2894cff8ee96fe5d1f"
    },
    {
      "cell_type": "code",
      "source": "yesterday = datetime.now(ct_timezone)-timedelta(1)\nsearch_year = yesterday.year\nsearch_month = yesterday.month",
      "metadata": {
        "source_hash": null,
        "execution_start": 1704677587967,
        "execution_millis": 27,
        "deepnote_to_be_reexecuted": false,
        "cell_id": "9bb8f480e99d415d89fc08b9fcf431d8",
        "deepnote_cell_type": "code"
      },
      "outputs": [],
      "execution_count": null,
      "block_group": "fffa9c586c114e58b55d7e9ebeec04db"
    },
    {
      "cell_type": "code",
      "source": "views_df = _deepnote_execute_sql('SELECT * \\nFROM RP_PROD_DL.\"CLEAN_TABLES_GA4\".CENTER_DAILY_VIEWS \\nWHERE YEAR(AS_OF_DATE) = {{search_year}} AND MONTH(AS_OF_DATE) = {{search_month}};', 'SQL_5E90C4C2_A521_4993_A1E9_D77837A4FD79', audit_sql_comment='', sql_cache_mode='cache_disabled')\nviews_df",
      "metadata": {
        "source_hash": null,
        "execution_start": 1704677587971,
        "execution_millis": 3517,
        "sql_integration_id": "5e90c4c2-a521-4993-a1e9-d77837a4fd79",
        "deepnote_variable_name": "views_df",
        "deepnote_to_be_reexecuted": false,
        "cell_id": "a6c53ab174ec4178aaa0905768615326",
        "deepnote_cell_type": "sql",
        "deepnote_sql_source": "SELECT * \nFROM RP_PROD_DL.\"CLEAN_TABLES_GA4\".CENTER_DAILY_VIEWS \nWHERE YEAR(AS_OF_DATE) = {{search_year}} AND MONTH(AS_OF_DATE) = {{search_month}};"
      },
      "outputs": [
        {
          "data": {
            "application/vnd.deepnote.sql-output-metadata+json": {
              "status": "success_no_cache",
              "size_in_bytes": 10455640
            }
          },
          "metadata": {},
          "output_type": "display_data"
        },
        {
          "output_type": "execute_result",
          "execution_count": 8,
          "data": {
            "application/vnd.deepnote.dataframe.v3+json": {
              "column_count": 6,
              "row_count": 32378,
              "columns": [
                {
                  "name": "as_of_date",
                  "dtype": "object",
                  "stats": {
                    "unique_count": 7,
                    "nan_count": 0,
                    "categories": [
                      {
                        "name": "2024-01-06",
                        "count": 6120
                      },
                      {
                        "name": "2024-01-05",
                        "count": 5541
                      },
                      {
                        "name": "5 others",
                        "count": 20717
                      }
                    ]
                  }
                },
                {
                  "name": "slug",
                  "dtype": "object",
                  "stats": {
                    "unique_count": 3222,
                    "nan_count": 0,
                    "categories": [
                      {
                        "name": "",
                        "count": 1142
                      },
                      {
                        "name": "united-states",
                        "count": 901
                      },
                      {
                        "name": "3220 others",
                        "count": 30335
                      }
                    ]
                  }
                },
                {
                  "name": "property_id",
                  "dtype": "object",
                  "stats": {
                    "unique_count": 1,
                    "nan_count": 0,
                    "categories": [
                      {
                        "name": "278764105",
                        "count": 32378
                      }
                    ]
                  }
                },
                {
                  "name": "region",
                  "dtype": "object"
                },
                {
                  "name": "city",
                  "dtype": "object"
                },
                {
                  "name": "number_of_views",
                  "dtype": "int64"
                },
                {
                  "name": "_deepnote_index_column",
                  "dtype": "int64"
                }
              ],
              "rows": [
                {
                  "as_of_date": "2024-01-04",
                  "slug": "britelife-recovery",
                  "property_id": "278764105",
                  "region": "Florida",
                  "city": "Orlando",
                  "number_of_views": 4,
                  "_deepnote_index_column": 0
                },
                {
                  "as_of_date": "2024-01-04",
                  "slug": "browse",
                  "property_id": "278764105",
                  "region": "Connecticut",
                  "city": "Brookfield",
                  "number_of_views": 6,
                  "_deepnote_index_column": 1
                },
                {
                  "as_of_date": "2024-01-04",
                  "slug": "browse",
                  "property_id": "278764105",
                  "region": "Ohio",
                  "city": "Springfield",
                  "number_of_views": 6,
                  "_deepnote_index_column": 2
                },
                {
                  "as_of_date": "2024-01-04",
                  "slug": "chabad-california",
                  "property_id": "278764105",
                  "region": "California",
                  "city": "Los Angeles",
                  "number_of_views": 2,
                  "_deepnote_index_column": 3
                },
                {
                  "as_of_date": "2024-01-04",
                  "slug": "cura-west-colorado",
                  "property_id": "278764105",
                  "region": "Florida",
                  "city": "Doral",
                  "number_of_views": 2,
                  "_deepnote_index_column": 4
                },
                {
                  "as_of_date": "2024-01-04",
                  "slug": "beachside-teen-treatment-center-malibu",
                  "property_id": "278764105",
                  "region": "Georgia",
                  "city": "Atlanta",
                  "number_of_views": 1,
                  "_deepnote_index_column": 5
                },
                {
                  "as_of_date": "2024-01-04",
                  "slug": "browse",
                  "property_id": "278764105",
                  "region": "Saskatchewan",
                  "city": "Yorkton",
                  "number_of_views": 5,
                  "_deepnote_index_column": 6
                },
                {
                  "as_of_date": "2024-01-04",
                  "slug": "arizona",
                  "property_id": "278764105",
                  "region": "Nevada",
                  "city": "Las Vegas",
                  "number_of_views": 1,
                  "_deepnote_index_column": 7
                },
                {
                  "as_of_date": "2024-01-04",
                  "slug": "life-works-community",
                  "property_id": "278764105",
                  "region": "California",
                  "city": "Knights Landing",
                  "number_of_views": 1,
                  "_deepnote_index_column": 8
                },
                {
                  "as_of_date": "2024-01-04",
                  "slug": "cuan-mhuire-coolarne-ireland",
                  "property_id": "278764105",
                  "region": "County Cork",
                  "city": "(not set)",
                  "number_of_views": 3,
                  "_deepnote_index_column": 9
                }
              ]
            },
            "text/plain": "       as_of_date                                               slug  \\\n0      2024-01-04                                 britelife-recovery   \n1      2024-01-04                                             browse   \n2      2024-01-04                                             browse   \n3      2024-01-04                                  chabad-california   \n4      2024-01-04                                 cura-west-colorado   \n...           ...                                                ...   \n32373  2024-01-07                                   the-ohana-hawaii   \n32374  2024-01-05                                     peaks-recovery   \n32375  2024-01-05  silicon-beach-womens-residence-los-angeles-cal...   \n32376  2024-01-05                 silver-hill-new-canaan-connecticut   \n32377  2024-01-07           discovery-point-retreat-waxahachie-texas   \n\n      property_id       region           city  number_of_views  \n0       278764105      Florida        Orlando                4  \n1       278764105  Connecticut     Brookfield                6  \n2       278764105         Ohio    Springfield                6  \n3       278764105   California    Los Angeles                2  \n4       278764105      Florida          Doral                2  \n...           ...          ...            ...              ...  \n32373   278764105      Florida          Miami                1  \n32374   278764105        Texas      (not set)                1  \n32375   278764105     Oklahoma  Oklahoma City                1  \n32376   278764105     Maryland     Pikesville                1  \n32377   278764105       Kansas  Overland Park                1  \n\n[32378 rows x 6 columns]",
            "text/html": "<div>\n<style scoped>\n    .dataframe tbody tr th:only-of-type {\n        vertical-align: middle;\n    }\n\n    .dataframe tbody tr th {\n        vertical-align: top;\n    }\n\n    .dataframe thead th {\n        text-align: right;\n    }\n</style>\n<table border=\"1\" class=\"dataframe\">\n  <thead>\n    <tr style=\"text-align: right;\">\n      <th></th>\n      <th>as_of_date</th>\n      <th>slug</th>\n      <th>property_id</th>\n      <th>region</th>\n      <th>city</th>\n      <th>number_of_views</th>\n    </tr>\n  </thead>\n  <tbody>\n    <tr>\n      <th>0</th>\n      <td>2024-01-04</td>\n      <td>britelife-recovery</td>\n      <td>278764105</td>\n      <td>Florida</td>\n      <td>Orlando</td>\n      <td>4</td>\n    </tr>\n    <tr>\n      <th>1</th>\n      <td>2024-01-04</td>\n      <td>browse</td>\n      <td>278764105</td>\n      <td>Connecticut</td>\n      <td>Brookfield</td>\n      <td>6</td>\n    </tr>\n    <tr>\n      <th>2</th>\n      <td>2024-01-04</td>\n      <td>browse</td>\n      <td>278764105</td>\n      <td>Ohio</td>\n      <td>Springfield</td>\n      <td>6</td>\n    </tr>\n    <tr>\n      <th>3</th>\n      <td>2024-01-04</td>\n      <td>chabad-california</td>\n      <td>278764105</td>\n      <td>California</td>\n      <td>Los Angeles</td>\n      <td>2</td>\n    </tr>\n    <tr>\n      <th>4</th>\n      <td>2024-01-04</td>\n      <td>cura-west-colorado</td>\n      <td>278764105</td>\n      <td>Florida</td>\n      <td>Doral</td>\n      <td>2</td>\n    </tr>\n    <tr>\n      <th>...</th>\n      <td>...</td>\n      <td>...</td>\n      <td>...</td>\n      <td>...</td>\n      <td>...</td>\n      <td>...</td>\n    </tr>\n    <tr>\n      <th>32373</th>\n      <td>2024-01-07</td>\n      <td>the-ohana-hawaii</td>\n      <td>278764105</td>\n      <td>Florida</td>\n      <td>Miami</td>\n      <td>1</td>\n    </tr>\n    <tr>\n      <th>32374</th>\n      <td>2024-01-05</td>\n      <td>peaks-recovery</td>\n      <td>278764105</td>\n      <td>Texas</td>\n      <td>(not set)</td>\n      <td>1</td>\n    </tr>\n    <tr>\n      <th>32375</th>\n      <td>2024-01-05</td>\n      <td>silicon-beach-womens-residence-los-angeles-cal...</td>\n      <td>278764105</td>\n      <td>Oklahoma</td>\n      <td>Oklahoma City</td>\n      <td>1</td>\n    </tr>\n    <tr>\n      <th>32376</th>\n      <td>2024-01-05</td>\n      <td>silver-hill-new-canaan-connecticut</td>\n      <td>278764105</td>\n      <td>Maryland</td>\n      <td>Pikesville</td>\n      <td>1</td>\n    </tr>\n    <tr>\n      <th>32377</th>\n      <td>2024-01-07</td>\n      <td>discovery-point-retreat-waxahachie-texas</td>\n      <td>278764105</td>\n      <td>Kansas</td>\n      <td>Overland Park</td>\n      <td>1</td>\n    </tr>\n  </tbody>\n</table>\n<p>32378 rows × 6 columns</p>\n</div>"
          },
          "metadata": {}
        }
      ],
      "execution_count": null,
      "block_group": "ae7d116e5d2b4f4b83e71d4e7013d5d0"
    },
    {
      "cell_type": "code",
      "source": "views_df['as_of_date'] = views_df['as_of_date'].astype(str)\nfiltered_views = views_df[views_df['slug'].isin(list_slugs)][['as_of_date', 'slug', 'number_of_views']]\npivoted_views = filtered_views.groupby(['slug', 'as_of_date'])['number_of_views'].sum().unstack().reset_index()\npivoted_views",
      "metadata": {
        "source_hash": null,
        "execution_start": 1704677591502,
        "execution_millis": 53,
        "deepnote_to_be_reexecuted": false,
        "cell_id": "fb97f8dad7fa4e92b03a74339807d183",
        "deepnote_cell_type": "code"
      },
      "outputs": [
        {
          "output_type": "execute_result",
          "execution_count": 9,
          "data": {
            "application/vnd.deepnote.dataframe.v3+json": {
              "column_count": 8,
              "row_count": 253,
              "columns": [
                {
                  "name": "slug",
                  "dtype": "object",
                  "stats": {
                    "unique_count": 253,
                    "nan_count": 0,
                    "categories": [
                      {
                        "name": "1000-islands",
                        "count": 1
                      },
                      {
                        "name": "90210-recovery-california",
                        "count": 1
                      },
                      {
                        "name": "251 others",
                        "count": 251
                      }
                    ]
                  }
                },
                {
                  "name": "2024-01-01",
                  "dtype": "float64",
                  "stats": {
                    "unique_count": 22,
                    "nan_count": 45,
                    "min": "1.0",
                    "max": "30.0",
                    "histogram": [
                      {
                        "bin_start": 1,
                        "bin_end": 3.9,
                        "count": 98
                      },
                      {
                        "bin_start": 3.9,
                        "bin_end": 6.8,
                        "count": 47
                      },
                      {
                        "bin_start": 6.8,
                        "bin_end": 9.7,
                        "count": 30
                      },
                      {
                        "bin_start": 9.7,
                        "bin_end": 12.6,
                        "count": 16
                      },
                      {
                        "bin_start": 12.6,
                        "bin_end": 15.5,
                        "count": 3
                      },
                      {
                        "bin_start": 15.5,
                        "bin_end": 18.4,
                        "count": 1
                      },
                      {
                        "bin_start": 18.4,
                        "bin_end": 21.3,
                        "count": 4
                      },
                      {
                        "bin_start": 21.3,
                        "bin_end": 24.2,
                        "count": 5
                      },
                      {
                        "bin_start": 24.2,
                        "bin_end": 27.099999999999998,
                        "count": 0
                      },
                      {
                        "bin_start": 27.099999999999998,
                        "bin_end": 30,
                        "count": 4
                      }
                    ]
                  }
                },
                {
                  "name": "2024-01-02",
                  "dtype": "float64",
                  "stats": {
                    "unique_count": 28,
                    "nan_count": 30,
                    "min": "1.0",
                    "max": "40.0",
                    "histogram": [
                      {
                        "bin_start": 1,
                        "bin_end": 4.9,
                        "count": 98
                      },
                      {
                        "bin_start": 4.9,
                        "bin_end": 8.8,
                        "count": 62
                      },
                      {
                        "bin_start": 8.8,
                        "bin_end": 12.7,
                        "count": 32
                      },
                      {
                        "bin_start": 12.7,
                        "bin_end": 16.6,
                        "count": 12
                      },
                      {
                        "bin_start": 16.6,
                        "bin_end": 20.5,
                        "count": 8
                      },
                      {
                        "bin_start": 20.5,
                        "bin_end": 24.4,
                        "count": 6
                      },
                      {
                        "bin_start": 24.4,
                        "bin_end": 28.3,
                        "count": 1
                      },
                      {
                        "bin_start": 28.3,
                        "bin_end": 32.2,
                        "count": 1
                      },
                      {
                        "bin_start": 32.2,
                        "bin_end": 36.1,
                        "count": 1
                      },
                      {
                        "bin_start": 36.1,
                        "bin_end": 40,
                        "count": 2
                      }
                    ]
                  }
                },
                {
                  "name": "2024-01-03",
                  "dtype": "float64",
                  "stats": {
                    "unique_count": 30,
                    "nan_count": 18,
                    "min": "1.0",
                    "max": "53.0",
                    "histogram": [
                      {
                        "bin_start": 1,
                        "bin_end": 6.2,
                        "count": 154
                      },
                      {
                        "bin_start": 6.2,
                        "bin_end": 11.4,
                        "count": 38
                      },
                      {
                        "bin_start": 11.4,
                        "bin_end": 16.6,
                        "count": 24
                      },
                      {
                        "bin_start": 16.6,
                        "bin_end": 21.8,
                        "count": 8
                      },
                      {
                        "bin_start": 21.8,
                        "bin_end": 27,
                        "count": 5
                      },
                      {
                        "bin_start": 27,
                        "bin_end": 32.2,
                        "count": 4
                      },
                      {
                        "bin_start": 32.2,
                        "bin_end": 37.4,
                        "count": 1
                      },
                      {
                        "bin_start": 37.4,
                        "bin_end": 42.6,
                        "count": 0
                      },
                      {
                        "bin_start": 42.6,
                        "bin_end": 47.800000000000004,
                        "count": 0
                      },
                      {
                        "bin_start": 47.800000000000004,
                        "bin_end": 53,
                        "count": 1
                      }
                    ]
                  }
                },
                {
                  "name": "2024-01-04",
                  "dtype": "float64",
                  "stats": {
                    "unique_count": 31,
                    "nan_count": 28,
                    "min": "1.0",
                    "max": "50.0",
                    "histogram": [
                      {
                        "bin_start": 1,
                        "bin_end": 5.9,
                        "count": 137
                      },
                      {
                        "bin_start": 5.9,
                        "bin_end": 10.8,
                        "count": 43
                      },
                      {
                        "bin_start": 10.8,
                        "bin_end": 15.700000000000001,
                        "count": 22
                      },
                      {
                        "bin_start": 15.700000000000001,
                        "bin_end": 20.6,
                        "count": 9
                      },
                      {
                        "bin_start": 20.6,
                        "bin_end": 25.5,
                        "count": 5
                      },
                      {
                        "bin_start": 25.5,
                        "bin_end": 30.400000000000002,
                        "count": 4
                      },
                      {
                        "bin_start": 30.400000000000002,
                        "bin_end": 35.300000000000004,
                        "count": 3
                      },
                      {
                        "bin_start": 35.300000000000004,
                        "bin_end": 40.2,
                        "count": 0
                      },
                      {
                        "bin_start": 40.2,
                        "bin_end": 45.1,
                        "count": 0
                      },
                      {
                        "bin_start": 45.1,
                        "bin_end": 50,
                        "count": 2
                      }
                    ]
                  }
                },
                {
                  "name": "2024-01-05",
                  "dtype": "float64",
                  "stats": {
                    "unique_count": 27,
                    "nan_count": 25,
                    "min": "1.0",
                    "max": "37.0",
                    "histogram": [
                      {
                        "bin_start": 1,
                        "bin_end": 4.6,
                        "count": 106
                      },
                      {
                        "bin_start": 4.6,
                        "bin_end": 8.2,
                        "count": 61
                      },
                      {
                        "bin_start": 8.2,
                        "bin_end": 11.8,
                        "count": 21
                      },
                      {
                        "bin_start": 11.8,
                        "bin_end": 15.4,
                        "count": 20
                      },
                      {
                        "bin_start": 15.4,
                        "bin_end": 19,
                        "count": 7
                      },
                      {
                        "bin_start": 19,
                        "bin_end": 22.6,
                        "count": 3
                      },
                      {
                        "bin_start": 22.6,
                        "bin_end": 26.2,
                        "count": 5
                      },
                      {
                        "bin_start": 26.2,
                        "bin_end": 29.8,
                        "count": 2
                      },
                      {
                        "bin_start": 29.8,
                        "bin_end": 33.4,
                        "count": 1
                      },
                      {
                        "bin_start": 33.4,
                        "bin_end": 37,
                        "count": 2
                      }
                    ]
                  }
                },
                {
                  "name": "2024-01-06",
                  "dtype": "float64",
                  "stats": {
                    "unique_count": 32,
                    "nan_count": 29,
                    "min": "1.0",
                    "max": "48.0",
                    "histogram": [
                      {
                        "bin_start": 1,
                        "bin_end": 5.7,
                        "count": 114
                      },
                      {
                        "bin_start": 5.7,
                        "bin_end": 10.4,
                        "count": 51
                      },
                      {
                        "bin_start": 10.4,
                        "bin_end": 15.100000000000001,
                        "count": 28
                      },
                      {
                        "bin_start": 15.100000000000001,
                        "bin_end": 19.8,
                        "count": 8
                      },
                      {
                        "bin_start": 19.8,
                        "bin_end": 24.5,
                        "count": 12
                      },
                      {
                        "bin_start": 24.5,
                        "bin_end": 29.200000000000003,
                        "count": 5
                      },
                      {
                        "bin_start": 29.200000000000003,
                        "bin_end": 33.9,
                        "count": 2
                      },
                      {
                        "bin_start": 33.9,
                        "bin_end": 38.6,
                        "count": 2
                      },
                      {
                        "bin_start": 38.6,
                        "bin_end": 43.300000000000004,
                        "count": 1
                      },
                      {
                        "bin_start": 43.300000000000004,
                        "bin_end": 48,
                        "count": 1
                      }
                    ]
                  }
                },
                {
                  "name": "2024-01-07",
                  "dtype": "float64",
                  "stats": {
                    "unique_count": 13,
                    "nan_count": 120,
                    "min": "1.0",
                    "max": "15.0",
                    "histogram": [
                      {
                        "bin_start": 1,
                        "bin_end": 2.4,
                        "count": 85
                      },
                      {
                        "bin_start": 2.4,
                        "bin_end": 3.8,
                        "count": 17
                      },
                      {
                        "bin_start": 3.8,
                        "bin_end": 5.199999999999999,
                        "count": 12
                      },
                      {
                        "bin_start": 5.199999999999999,
                        "bin_end": 6.6,
                        "count": 6
                      },
                      {
                        "bin_start": 6.6,
                        "bin_end": 8,
                        "count": 3
                      },
                      {
                        "bin_start": 8,
                        "bin_end": 9.399999999999999,
                        "count": 1
                      },
                      {
                        "bin_start": 9.399999999999999,
                        "bin_end": 10.799999999999999,
                        "count": 2
                      },
                      {
                        "bin_start": 10.799999999999999,
                        "bin_end": 12.2,
                        "count": 3
                      },
                      {
                        "bin_start": 12.2,
                        "bin_end": 13.6,
                        "count": 0
                      },
                      {
                        "bin_start": 13.6,
                        "bin_end": 15,
                        "count": 4
                      }
                    ]
                  }
                },
                {
                  "name": "_deepnote_index_column",
                  "dtype": "int64"
                }
              ],
              "rows": [
                {
                  "slug": "1000-islands",
                  "2024-01-01": 28,
                  "2024-01-02": 18,
                  "2024-01-03": 18,
                  "2024-01-04": 12,
                  "2024-01-05": 10,
                  "2024-01-06": 13,
                  "2024-01-07": 1,
                  "_deepnote_index_column": 0
                },
                {
                  "slug": "90210-recovery-california",
                  "2024-01-01": 5,
                  "2024-01-02": 2,
                  "2024-01-03": 4,
                  "2024-01-04": 4,
                  "2024-01-05": 2,
                  "2024-01-06": 6,
                  "2024-01-07": 1,
                  "_deepnote_index_column": 1
                },
                {
                  "slug": "abhasa-rehabilitation-india",
                  "2024-01-01": 15,
                  "2024-01-02": 11,
                  "2024-01-03": 7,
                  "2024-01-04": 8,
                  "2024-01-05": 7,
                  "2024-01-06": 12,
                  "2024-01-07": 6,
                  "_deepnote_index_column": 2
                },
                {
                  "slug": "abhasa-rehabilitation-thondamuthur-india",
                  "2024-01-01": 8,
                  "2024-01-02": 6,
                  "2024-01-03": 3,
                  "2024-01-04": 6,
                  "2024-01-05": 1,
                  "2024-01-06": 12,
                  "2024-01-07": 3,
                  "_deepnote_index_column": 3
                },
                {
                  "slug": "abhasa-wellness-retreat",
                  "2024-01-01": 7,
                  "2024-01-02": 5,
                  "2024-01-03": 7,
                  "2024-01-04": 2,
                  "2024-01-05": 3,
                  "2024-01-06": 13,
                  "2024-01-07": 4,
                  "_deepnote_index_column": 4
                },
                {
                  "slug": "absolute-awakenings-new-jersey",
                  "2024-01-01": "nan",
                  "2024-01-02": 12,
                  "2024-01-03": 1,
                  "2024-01-04": "nan",
                  "2024-01-05": 5,
                  "2024-01-06": 1,
                  "2024-01-07": "nan",
                  "_deepnote_index_column": 5
                },
                {
                  "slug": "acqua-recovery",
                  "2024-01-01": 2,
                  "2024-01-02": 8,
                  "2024-01-03": 14,
                  "2024-01-04": 5,
                  "2024-01-05": 5,
                  "2024-01-06": 7,
                  "2024-01-07": "nan",
                  "_deepnote_index_column": 6
                },
                {
                  "slug": "adcare-rhode-island",
                  "2024-01-01": 7,
                  "2024-01-02": 3,
                  "2024-01-03": 1,
                  "2024-01-04": 5,
                  "2024-01-05": 9,
                  "2024-01-06": 1,
                  "2024-01-07": 2,
                  "_deepnote_index_column": 7
                },
                {
                  "slug": "affect2u-vosselaar-belgium",
                  "2024-01-01": 8,
                  "2024-01-02": 10,
                  "2024-01-03": 5,
                  "2024-01-04": 11,
                  "2024-01-05": 10,
                  "2024-01-06": 7,
                  "2024-01-07": 4,
                  "_deepnote_index_column": 8
                },
                {
                  "slug": "agape-treatment-center-fort-lauderdale-florida",
                  "2024-01-01": 2,
                  "2024-01-02": 1,
                  "2024-01-03": 2,
                  "2024-01-04": 3,
                  "2024-01-05": 1,
                  "2024-01-06": 3,
                  "2024-01-07": 1,
                  "_deepnote_index_column": 9
                }
              ]
            },
            "text/plain": "as_of_date                                        slug  2024-01-01  \\\n0                                         1000-islands        28.0   \n1                            90210-recovery-california         5.0   \n2                          abhasa-rehabilitation-india        15.0   \n3             abhasa-rehabilitation-thondamuthur-india         8.0   \n4                              abhasa-wellness-retreat         7.0   \n..                                                 ...         ...   \n248         wilmington-treatment-center-north-carolina         1.0   \n249                           wish-recovery-california        21.0   \n250                         within-center-austin-texas         4.0   \n251                           zeus-rehab-warsaw-poland         5.0   \n252                       zinnia-healing-singer-island         3.0   \n\nas_of_date  2024-01-02  2024-01-03  2024-01-04  2024-01-05  2024-01-06  \\\n0                 18.0        18.0        12.0        10.0        13.0   \n1                  2.0         4.0         4.0         2.0         6.0   \n2                 11.0         7.0         8.0         7.0        12.0   \n3                  6.0         3.0         6.0         1.0        12.0   \n4                  5.0         7.0         2.0         3.0        13.0   \n..                 ...         ...         ...         ...         ...   \n248                3.0         NaN         2.0         2.0         3.0   \n249               13.0        16.0        17.0        17.0        33.0   \n250                3.0        11.0        13.0         8.0         8.0   \n251                1.0         2.0         3.0         7.0        13.0   \n252                3.0         4.0         2.0         5.0         3.0   \n\nas_of_date  2024-01-07  \n0                  1.0  \n1                  1.0  \n2                  6.0  \n3                  3.0  \n4                  4.0  \n..                 ...  \n248                NaN  \n249               15.0  \n250                1.0  \n251                1.0  \n252                NaN  \n\n[253 rows x 8 columns]",
            "text/html": "<div>\n<style scoped>\n    .dataframe tbody tr th:only-of-type {\n        vertical-align: middle;\n    }\n\n    .dataframe tbody tr th {\n        vertical-align: top;\n    }\n\n    .dataframe thead th {\n        text-align: right;\n    }\n</style>\n<table border=\"1\" class=\"dataframe\">\n  <thead>\n    <tr style=\"text-align: right;\">\n      <th>as_of_date</th>\n      <th>slug</th>\n      <th>2024-01-01</th>\n      <th>2024-01-02</th>\n      <th>2024-01-03</th>\n      <th>2024-01-04</th>\n      <th>2024-01-05</th>\n      <th>2024-01-06</th>\n      <th>2024-01-07</th>\n    </tr>\n  </thead>\n  <tbody>\n    <tr>\n      <th>0</th>\n      <td>1000-islands</td>\n      <td>28.0</td>\n      <td>18.0</td>\n      <td>18.0</td>\n      <td>12.0</td>\n      <td>10.0</td>\n      <td>13.0</td>\n      <td>1.0</td>\n    </tr>\n    <tr>\n      <th>1</th>\n      <td>90210-recovery-california</td>\n      <td>5.0</td>\n      <td>2.0</td>\n      <td>4.0</td>\n      <td>4.0</td>\n      <td>2.0</td>\n      <td>6.0</td>\n      <td>1.0</td>\n    </tr>\n    <tr>\n      <th>2</th>\n      <td>abhasa-rehabilitation-india</td>\n      <td>15.0</td>\n      <td>11.0</td>\n      <td>7.0</td>\n      <td>8.0</td>\n      <td>7.0</td>\n      <td>12.0</td>\n      <td>6.0</td>\n    </tr>\n    <tr>\n      <th>3</th>\n      <td>abhasa-rehabilitation-thondamuthur-india</td>\n      <td>8.0</td>\n      <td>6.0</td>\n      <td>3.0</td>\n      <td>6.0</td>\n      <td>1.0</td>\n      <td>12.0</td>\n      <td>3.0</td>\n    </tr>\n    <tr>\n      <th>4</th>\n      <td>abhasa-wellness-retreat</td>\n      <td>7.0</td>\n      <td>5.0</td>\n      <td>7.0</td>\n      <td>2.0</td>\n      <td>3.0</td>\n      <td>13.0</td>\n      <td>4.0</td>\n    </tr>\n    <tr>\n      <th>...</th>\n      <td>...</td>\n      <td>...</td>\n      <td>...</td>\n      <td>...</td>\n      <td>...</td>\n      <td>...</td>\n      <td>...</td>\n      <td>...</td>\n    </tr>\n    <tr>\n      <th>248</th>\n      <td>wilmington-treatment-center-north-carolina</td>\n      <td>1.0</td>\n      <td>3.0</td>\n      <td>NaN</td>\n      <td>2.0</td>\n      <td>2.0</td>\n      <td>3.0</td>\n      <td>NaN</td>\n    </tr>\n    <tr>\n      <th>249</th>\n      <td>wish-recovery-california</td>\n      <td>21.0</td>\n      <td>13.0</td>\n      <td>16.0</td>\n      <td>17.0</td>\n      <td>17.0</td>\n      <td>33.0</td>\n      <td>15.0</td>\n    </tr>\n    <tr>\n      <th>250</th>\n      <td>within-center-austin-texas</td>\n      <td>4.0</td>\n      <td>3.0</td>\n      <td>11.0</td>\n      <td>13.0</td>\n      <td>8.0</td>\n      <td>8.0</td>\n      <td>1.0</td>\n    </tr>\n    <tr>\n      <th>251</th>\n      <td>zeus-rehab-warsaw-poland</td>\n      <td>5.0</td>\n      <td>1.0</td>\n      <td>2.0</td>\n      <td>3.0</td>\n      <td>7.0</td>\n      <td>13.0</td>\n      <td>1.0</td>\n    </tr>\n    <tr>\n      <th>252</th>\n      <td>zinnia-healing-singer-island</td>\n      <td>3.0</td>\n      <td>3.0</td>\n      <td>4.0</td>\n      <td>2.0</td>\n      <td>5.0</td>\n      <td>3.0</td>\n      <td>NaN</td>\n    </tr>\n  </tbody>\n</table>\n<p>253 rows × 8 columns</p>\n</div>"
          },
          "metadata": {}
        }
      ],
      "execution_count": null,
      "block_group": "abca522adceb4da5b81f9246206046b2"
    },
    {
      "cell_type": "markdown",
      "source": "### Removing PPVs Before GoLive Dates",
      "metadata": {
        "formattedRanges": [],
        "cell_id": "e27fe04038a244f480ff79c5c002f6bb",
        "deepnote_cell_type": "text-cell-h3"
      },
      "block_group": "f3554a7d721f4098a1841aa0d78d7c33"
    },
    {
      "cell_type": "code",
      "source": "merged_df = pd.merge(ppv_data, cleaned_data_df, on='Page', how='left')\nlist_cols = merged_df.columns[1:-1]",
      "metadata": {
        "source_hash": null,
        "execution_start": 1704677591544,
        "execution_millis": 53,
        "deepnote_to_be_reexecuted": false,
        "cell_id": "68d5a15d249e471aa14de53119fdf210",
        "deepnote_cell_type": "code"
      },
      "outputs": [],
      "execution_count": null,
      "block_group": "6ee90474b0dd4566893412dd077c99be"
    },
    {
      "cell_type": "code",
      "source": "list_cols",
      "metadata": {
        "source_hash": null,
        "execution_start": 1704677591553,
        "execution_millis": 58,
        "deepnote_to_be_reexecuted": false,
        "cell_id": "383ef95165ba4977940ba55dddbc7ad5",
        "deepnote_cell_type": "code"
      },
      "outputs": [
        {
          "output_type": "execute_result",
          "execution_count": 11,
          "data": {
            "text/plain": "Index(['2024-01-01', '2024-01-02', '2024-01-03', '2024-01-04', '2024-01-05',\n       '2024-01-06'],\n      dtype='object')"
          },
          "metadata": {}
        }
      ],
      "execution_count": null,
      "block_group": "58f3af9b171843bd9b6c249ef1f812ed"
    },
    {
      "cell_type": "code",
      "source": "merged_df['GoLive Date'] = pd.to_datetime(merged_df['GoLive Date'])\n\nfor index, row in merged_df.iterrows():\n    go_live_date = row['GoLive Date']\n    if pd.isnull(go_live_date):\n        # If GoLive Date is missing, set all date columns to 0\n        merged_df.loc[index, list_cols] = 0\n    else:\n        for col in list_cols:\n            col_date = pd.to_datetime(col)+timedelta(1)\n            if go_live_date > col_date:\n                merged_df.at[index, col] = 0",
      "metadata": {
        "source_hash": null,
        "execution_start": 1704677591568,
        "execution_millis": 300,
        "deepnote_to_be_reexecuted": false,
        "cell_id": "cced89910dc74605b806b3d442413c32",
        "deepnote_cell_type": "code"
      },
      "outputs": [],
      "execution_count": null,
      "block_group": "a61e9c0060a543b2bb0a9de9d7c90516"
    },
    {
      "cell_type": "code",
      "source": "def ensure_32_columns(df):\n    current_column_count = df.shape[1]\n    columns_to_add = 33 - current_column_count\n\n    for i in range(columns_to_add):\n        df[f'Empty Column {current_column_count + i + 1}'] = pd.NA\n\n    return df\n\n\nmerged_df = ensure_32_columns(merged_df)\nmerged_df = merged_df.where(pd.notnull(merged_df), '')",
      "metadata": {
        "source_hash": null,
        "execution_start": 1704677591727,
        "execution_millis": 168,
        "deepnote_to_be_reexecuted": false,
        "cell_id": "bc654d15fbe246d3b24289de16c8c8b7",
        "deepnote_cell_type": "code"
      },
      "outputs": [],
      "execution_count": null,
      "block_group": "765e39523cbe4328933dd5eb37da541e"
    },
    {
      "cell_type": "code",
      "source": "finished_data = merged_df.drop(columns=['GoLive Date'])\nfinished_data",
      "metadata": {
        "source_hash": null,
        "execution_start": 1704677591857,
        "execution_millis": 40,
        "deepnote_to_be_reexecuted": false,
        "cell_id": "9a4f0a5d4ad14602bb96dd8484cdaef1",
        "deepnote_cell_type": "code"
      },
      "outputs": [
        {
          "output_type": "execute_result",
          "execution_count": 14,
          "data": {
            "application/vnd.deepnote.dataframe.v3+json": {
              "column_count": 32,
              "row_count": 253,
              "columns": [
                {
                  "name": "Page",
                  "dtype": "object",
                  "stats": {
                    "unique_count": 253,
                    "nan_count": 0,
                    "categories": [
                      {
                        "name": "/1000-islands/",
                        "count": 1
                      },
                      {
                        "name": "/90210-recovery-california/",
                        "count": 1
                      },
                      {
                        "name": "251 others",
                        "count": 251
                      }
                    ]
                  }
                },
                {
                  "name": "2024-01-01",
                  "dtype": "object",
                  "stats": {
                    "unique_count": 24,
                    "nan_count": 0,
                    "categories": [
                      {
                        "name": "2",
                        "count": 33
                      },
                      {
                        "name": "",
                        "count": 30
                      },
                      {
                        "name": "22 others",
                        "count": 190
                      }
                    ]
                  }
                },
                {
                  "name": "2024-01-02",
                  "dtype": "object",
                  "stats": {
                    "unique_count": 30,
                    "nan_count": 0,
                    "categories": [
                      {
                        "name": "1",
                        "count": 31
                      },
                      {
                        "name": "0",
                        "count": 25
                      },
                      {
                        "name": "28 others",
                        "count": 197
                      }
                    ]
                  }
                },
                {
                  "name": "2024-01-03",
                  "dtype": "object",
                  "stats": {
                    "unique_count": 32,
                    "nan_count": 0,
                    "categories": [
                      {
                        "name": "2",
                        "count": 35
                      },
                      {
                        "name": "1",
                        "count": 28
                      },
                      {
                        "name": "30 others",
                        "count": 190
                      }
                    ]
                  }
                },
                {
                  "name": "2024-01-04",
                  "dtype": "object",
                  "stats": {
                    "unique_count": 33,
                    "nan_count": 0,
                    "categories": [
                      {
                        "name": "5",
                        "count": 27
                      },
                      {
                        "name": "2",
                        "count": 25
                      },
                      {
                        "name": "31 others",
                        "count": 201
                      }
                    ]
                  }
                },
                {
                  "name": "2024-01-05",
                  "dtype": "object",
                  "stats": {
                    "unique_count": 29,
                    "nan_count": 0,
                    "categories": [
                      {
                        "name": "2",
                        "count": 29
                      },
                      {
                        "name": "3",
                        "count": 23
                      },
                      {
                        "name": "27 others",
                        "count": 201
                      }
                    ]
                  }
                },
                {
                  "name": "2024-01-06",
                  "dtype": "object",
                  "stats": {
                    "unique_count": 33,
                    "nan_count": 0,
                    "categories": [
                      {
                        "name": "1",
                        "count": 26
                      },
                      {
                        "name": "0",
                        "count": 23
                      },
                      {
                        "name": "31 others",
                        "count": 204
                      }
                    ]
                  }
                },
                {
                  "name": "Empty Column 9",
                  "dtype": "object",
                  "stats": {
                    "unique_count": 1,
                    "nan_count": 0,
                    "categories": [
                      {
                        "name": "",
                        "count": 253
                      }
                    ]
                  }
                },
                {
                  "name": "Empty Column 10",
                  "dtype": "object",
                  "stats": {
                    "unique_count": 1,
                    "nan_count": 0,
                    "categories": [
                      {
                        "name": "",
                        "count": 253
                      }
                    ]
                  }
                },
                {
                  "name": "Empty Column 11",
                  "dtype": "object",
                  "stats": {
                    "unique_count": 1,
                    "nan_count": 0,
                    "categories": [
                      {
                        "name": "",
                        "count": 253
                      }
                    ]
                  }
                },
                {
                  "name": "Empty Column 12",
                  "dtype": "object",
                  "stats": {
                    "unique_count": 1,
                    "nan_count": 0,
                    "categories": [
                      {
                        "name": "",
                        "count": 253
                      }
                    ]
                  }
                },
                {
                  "name": "Empty Column 13",
                  "dtype": "object",
                  "stats": {
                    "unique_count": 1,
                    "nan_count": 0,
                    "categories": [
                      {
                        "name": "",
                        "count": 253
                      }
                    ]
                  }
                },
                {
                  "name": "Empty Column 14",
                  "dtype": "object",
                  "stats": {
                    "unique_count": 1,
                    "nan_count": 0,
                    "categories": [
                      {
                        "name": "",
                        "count": 253
                      }
                    ]
                  }
                },
                {
                  "name": "Empty Column 15",
                  "dtype": "object",
                  "stats": {
                    "unique_count": 1,
                    "nan_count": 0,
                    "categories": [
                      {
                        "name": "",
                        "count": 253
                      }
                    ]
                  }
                },
                {
                  "name": "Empty Column 16",
                  "dtype": "object",
                  "stats": {
                    "unique_count": 1,
                    "nan_count": 0,
                    "categories": [
                      {
                        "name": "",
                        "count": 253
                      }
                    ]
                  }
                },
                {
                  "name": "Empty Column 17",
                  "dtype": "object",
                  "stats": {
                    "unique_count": 1,
                    "nan_count": 0,
                    "categories": [
                      {
                        "name": "",
                        "count": 253
                      }
                    ]
                  }
                },
                {
                  "name": "Empty Column 18",
                  "dtype": "object",
                  "stats": {
                    "unique_count": 1,
                    "nan_count": 0,
                    "categories": [
                      {
                        "name": "",
                        "count": 253
                      }
                    ]
                  }
                },
                {
                  "name": "Empty Column 19",
                  "dtype": "object",
                  "stats": {
                    "unique_count": 1,
                    "nan_count": 0,
                    "categories": [
                      {
                        "name": "",
                        "count": 253
                      }
                    ]
                  }
                },
                {
                  "name": "Empty Column 20",
                  "dtype": "object",
                  "stats": {
                    "unique_count": 1,
                    "nan_count": 0,
                    "categories": [
                      {
                        "name": "",
                        "count": 253
                      }
                    ]
                  }
                },
                {
                  "name": "Empty Column 21",
                  "dtype": "object",
                  "stats": {
                    "unique_count": 1,
                    "nan_count": 0,
                    "categories": [
                      {
                        "name": "",
                        "count": 253
                      }
                    ]
                  }
                },
                {
                  "name": "Empty Column 22",
                  "dtype": "object",
                  "stats": {
                    "unique_count": 1,
                    "nan_count": 0,
                    "categories": [
                      {
                        "name": "",
                        "count": 253
                      }
                    ]
                  }
                },
                {
                  "name": "Empty Column 23",
                  "dtype": "object",
                  "stats": {
                    "unique_count": 1,
                    "nan_count": 0,
                    "categories": [
                      {
                        "name": "",
                        "count": 253
                      }
                    ]
                  }
                },
                {
                  "name": "Empty Column 24",
                  "dtype": "object",
                  "stats": {
                    "unique_count": 1,
                    "nan_count": 0,
                    "categories": [
                      {
                        "name": "",
                        "count": 253
                      }
                    ]
                  }
                },
                {
                  "name": "Empty Column 25",
                  "dtype": "object",
                  "stats": {
                    "unique_count": 1,
                    "nan_count": 0,
                    "categories": [
                      {
                        "name": "",
                        "count": 253
                      }
                    ]
                  }
                },
                {
                  "name": "Empty Column 26",
                  "dtype": "object",
                  "stats": {
                    "unique_count": 1,
                    "nan_count": 0,
                    "categories": [
                      {
                        "name": "",
                        "count": 253
                      }
                    ]
                  }
                },
                {
                  "name": "Empty Column 27",
                  "dtype": "object",
                  "stats": {
                    "unique_count": 1,
                    "nan_count": 0,
                    "categories": [
                      {
                        "name": "",
                        "count": 253
                      }
                    ]
                  }
                },
                {
                  "name": "Empty Column 28",
                  "dtype": "object",
                  "stats": {
                    "unique_count": 1,
                    "nan_count": 0,
                    "categories": [
                      {
                        "name": "",
                        "count": 253
                      }
                    ]
                  }
                },
                {
                  "name": "Empty Column 29",
                  "dtype": "object",
                  "stats": {
                    "unique_count": 1,
                    "nan_count": 0,
                    "categories": [
                      {
                        "name": "",
                        "count": 253
                      }
                    ]
                  }
                },
                {
                  "name": "Empty Column 30",
                  "dtype": "object",
                  "stats": {
                    "unique_count": 1,
                    "nan_count": 0,
                    "categories": [
                      {
                        "name": "",
                        "count": 253
                      }
                    ]
                  }
                },
                {
                  "name": "Empty Column 31",
                  "dtype": "object",
                  "stats": {
                    "unique_count": 1,
                    "nan_count": 0,
                    "categories": [
                      {
                        "name": "",
                        "count": 253
                      }
                    ]
                  }
                },
                {
                  "name": "Empty Column 32",
                  "dtype": "object",
                  "stats": {
                    "unique_count": 1,
                    "nan_count": 0,
                    "categories": [
                      {
                        "name": "",
                        "count": 253
                      }
                    ]
                  }
                },
                {
                  "name": "Empty Column 33",
                  "dtype": "object",
                  "stats": {
                    "unique_count": 1,
                    "nan_count": 0,
                    "categories": [
                      {
                        "name": "",
                        "count": 253
                      }
                    ]
                  }
                },
                {
                  "name": "_deepnote_index_column",
                  "dtype": "int64"
                }
              ],
              "rows": [
                {
                  "Page": "/1000-islands/",
                  "2024-01-01": "28",
                  "2024-01-02": "18",
                  "2024-01-03": "18",
                  "2024-01-04": "12",
                  "2024-01-05": "10",
                  "2024-01-06": "13",
                  "Empty Column 9": "",
                  "Empty Column 10": "",
                  "Empty Column 11": "",
                  "Empty Column 12": "",
                  "Empty Column 13": "",
                  "Empty Column 14": "",
                  "Empty Column 15": "",
                  "Empty Column 16": "",
                  "Empty Column 17": "",
                  "Empty Column 18": "",
                  "Empty Column 19": "",
                  "Empty Column 20": "",
                  "Empty Column 21": "",
                  "Empty Column 22": "",
                  "Empty Column 23": "",
                  "Empty Column 24": "",
                  "Empty Column 25": "",
                  "Empty Column 26": "",
                  "Empty Column 27": "",
                  "Empty Column 28": "",
                  "Empty Column 29": "",
                  "Empty Column 30": "",
                  "Empty Column 31": "",
                  "Empty Column 32": "",
                  "Empty Column 33": "",
                  "_deepnote_index_column": 0
                },
                {
                  "Page": "/90210-recovery-california/",
                  "2024-01-01": "5",
                  "2024-01-02": "2",
                  "2024-01-03": "4",
                  "2024-01-04": "4",
                  "2024-01-05": "2",
                  "2024-01-06": "6",
                  "Empty Column 9": "",
                  "Empty Column 10": "",
                  "Empty Column 11": "",
                  "Empty Column 12": "",
                  "Empty Column 13": "",
                  "Empty Column 14": "",
                  "Empty Column 15": "",
                  "Empty Column 16": "",
                  "Empty Column 17": "",
                  "Empty Column 18": "",
                  "Empty Column 19": "",
                  "Empty Column 20": "",
                  "Empty Column 21": "",
                  "Empty Column 22": "",
                  "Empty Column 23": "",
                  "Empty Column 24": "",
                  "Empty Column 25": "",
                  "Empty Column 26": "",
                  "Empty Column 27": "",
                  "Empty Column 28": "",
                  "Empty Column 29": "",
                  "Empty Column 30": "",
                  "Empty Column 31": "",
                  "Empty Column 32": "",
                  "Empty Column 33": "",
                  "_deepnote_index_column": 1
                },
                {
                  "Page": "/abhasa-rehabilitation-india/",
                  "2024-01-01": "15",
                  "2024-01-02": "11",
                  "2024-01-03": "7",
                  "2024-01-04": "8",
                  "2024-01-05": "7",
                  "2024-01-06": "12",
                  "Empty Column 9": "",
                  "Empty Column 10": "",
                  "Empty Column 11": "",
                  "Empty Column 12": "",
                  "Empty Column 13": "",
                  "Empty Column 14": "",
                  "Empty Column 15": "",
                  "Empty Column 16": "",
                  "Empty Column 17": "",
                  "Empty Column 18": "",
                  "Empty Column 19": "",
                  "Empty Column 20": "",
                  "Empty Column 21": "",
                  "Empty Column 22": "",
                  "Empty Column 23": "",
                  "Empty Column 24": "",
                  "Empty Column 25": "",
                  "Empty Column 26": "",
                  "Empty Column 27": "",
                  "Empty Column 28": "",
                  "Empty Column 29": "",
                  "Empty Column 30": "",
                  "Empty Column 31": "",
                  "Empty Column 32": "",
                  "Empty Column 33": "",
                  "_deepnote_index_column": 2
                },
                {
                  "Page": "/abhasa-rehabilitation-thondamuthur-india/",
                  "2024-01-01": "8",
                  "2024-01-02": "6",
                  "2024-01-03": "3",
                  "2024-01-04": "6",
                  "2024-01-05": "1",
                  "2024-01-06": "11",
                  "Empty Column 9": "",
                  "Empty Column 10": "",
                  "Empty Column 11": "",
                  "Empty Column 12": "",
                  "Empty Column 13": "",
                  "Empty Column 14": "",
                  "Empty Column 15": "",
                  "Empty Column 16": "",
                  "Empty Column 17": "",
                  "Empty Column 18": "",
                  "Empty Column 19": "",
                  "Empty Column 20": "",
                  "Empty Column 21": "",
                  "Empty Column 22": "",
                  "Empty Column 23": "",
                  "Empty Column 24": "",
                  "Empty Column 25": "",
                  "Empty Column 26": "",
                  "Empty Column 27": "",
                  "Empty Column 28": "",
                  "Empty Column 29": "",
                  "Empty Column 30": "",
                  "Empty Column 31": "",
                  "Empty Column 32": "",
                  "Empty Column 33": "",
                  "_deepnote_index_column": 3
                },
                {
                  "Page": "/abhasa-wellness-retreat/",
                  "2024-01-01": "7",
                  "2024-01-02": "5",
                  "2024-01-03": "7",
                  "2024-01-04": "2",
                  "2024-01-05": "3",
                  "2024-01-06": "12",
                  "Empty Column 9": "",
                  "Empty Column 10": "",
                  "Empty Column 11": "",
                  "Empty Column 12": "",
                  "Empty Column 13": "",
                  "Empty Column 14": "",
                  "Empty Column 15": "",
                  "Empty Column 16": "",
                  "Empty Column 17": "",
                  "Empty Column 18": "",
                  "Empty Column 19": "",
                  "Empty Column 20": "",
                  "Empty Column 21": "",
                  "Empty Column 22": "",
                  "Empty Column 23": "",
                  "Empty Column 24": "",
                  "Empty Column 25": "",
                  "Empty Column 26": "",
                  "Empty Column 27": "",
                  "Empty Column 28": "",
                  "Empty Column 29": "",
                  "Empty Column 30": "",
                  "Empty Column 31": "",
                  "Empty Column 32": "",
                  "Empty Column 33": "",
                  "_deepnote_index_column": 4
                },
                {
                  "Page": "/absolute-awakenings-new-jersey/",
                  "2024-01-01": "",
                  "2024-01-02": "12",
                  "2024-01-03": "1",
                  "2024-01-04": "",
                  "2024-01-05": "5",
                  "2024-01-06": "1",
                  "Empty Column 9": "",
                  "Empty Column 10": "",
                  "Empty Column 11": "",
                  "Empty Column 12": "",
                  "Empty Column 13": "",
                  "Empty Column 14": "",
                  "Empty Column 15": "",
                  "Empty Column 16": "",
                  "Empty Column 17": "",
                  "Empty Column 18": "",
                  "Empty Column 19": "",
                  "Empty Column 20": "",
                  "Empty Column 21": "",
                  "Empty Column 22": "",
                  "Empty Column 23": "",
                  "Empty Column 24": "",
                  "Empty Column 25": "",
                  "Empty Column 26": "",
                  "Empty Column 27": "",
                  "Empty Column 28": "",
                  "Empty Column 29": "",
                  "Empty Column 30": "",
                  "Empty Column 31": "",
                  "Empty Column 32": "",
                  "Empty Column 33": "",
                  "_deepnote_index_column": 5
                },
                {
                  "Page": "/acqua-recovery/",
                  "2024-01-01": "2",
                  "2024-01-02": "8",
                  "2024-01-03": "14",
                  "2024-01-04": "5",
                  "2024-01-05": "5",
                  "2024-01-06": "7",
                  "Empty Column 9": "",
                  "Empty Column 10": "",
                  "Empty Column 11": "",
                  "Empty Column 12": "",
                  "Empty Column 13": "",
                  "Empty Column 14": "",
                  "Empty Column 15": "",
                  "Empty Column 16": "",
                  "Empty Column 17": "",
                  "Empty Column 18": "",
                  "Empty Column 19": "",
                  "Empty Column 20": "",
                  "Empty Column 21": "",
                  "Empty Column 22": "",
                  "Empty Column 23": "",
                  "Empty Column 24": "",
                  "Empty Column 25": "",
                  "Empty Column 26": "",
                  "Empty Column 27": "",
                  "Empty Column 28": "",
                  "Empty Column 29": "",
                  "Empty Column 30": "",
                  "Empty Column 31": "",
                  "Empty Column 32": "",
                  "Empty Column 33": "",
                  "_deepnote_index_column": 6
                },
                {
                  "Page": "/adcare-rhode-island/",
                  "2024-01-01": "7",
                  "2024-01-02": "3",
                  "2024-01-03": "1",
                  "2024-01-04": "5",
                  "2024-01-05": "9",
                  "2024-01-06": "1",
                  "Empty Column 9": "",
                  "Empty Column 10": "",
                  "Empty Column 11": "",
                  "Empty Column 12": "",
                  "Empty Column 13": "",
                  "Empty Column 14": "",
                  "Empty Column 15": "",
                  "Empty Column 16": "",
                  "Empty Column 17": "",
                  "Empty Column 18": "",
                  "Empty Column 19": "",
                  "Empty Column 20": "",
                  "Empty Column 21": "",
                  "Empty Column 22": "",
                  "Empty Column 23": "",
                  "Empty Column 24": "",
                  "Empty Column 25": "",
                  "Empty Column 26": "",
                  "Empty Column 27": "",
                  "Empty Column 28": "",
                  "Empty Column 29": "",
                  "Empty Column 30": "",
                  "Empty Column 31": "",
                  "Empty Column 32": "",
                  "Empty Column 33": "",
                  "_deepnote_index_column": 7
                },
                {
                  "Page": "/affect2u-vosselaar-belgium/",
                  "2024-01-01": "8",
                  "2024-01-02": "10",
                  "2024-01-03": "5",
                  "2024-01-04": "11",
                  "2024-01-05": "10",
                  "2024-01-06": "7",
                  "Empty Column 9": "",
                  "Empty Column 10": "",
                  "Empty Column 11": "",
                  "Empty Column 12": "",
                  "Empty Column 13": "",
                  "Empty Column 14": "",
                  "Empty Column 15": "",
                  "Empty Column 16": "",
                  "Empty Column 17": "",
                  "Empty Column 18": "",
                  "Empty Column 19": "",
                  "Empty Column 20": "",
                  "Empty Column 21": "",
                  "Empty Column 22": "",
                  "Empty Column 23": "",
                  "Empty Column 24": "",
                  "Empty Column 25": "",
                  "Empty Column 26": "",
                  "Empty Column 27": "",
                  "Empty Column 28": "",
                  "Empty Column 29": "",
                  "Empty Column 30": "",
                  "Empty Column 31": "",
                  "Empty Column 32": "",
                  "Empty Column 33": "",
                  "_deepnote_index_column": 8
                },
                {
                  "Page": "/agape-treatment-center-fort-lauderdale-florida/",
                  "2024-01-01": "0",
                  "2024-01-02": "0",
                  "2024-01-03": "0",
                  "2024-01-04": "0",
                  "2024-01-05": "0",
                  "2024-01-06": "0",
                  "Empty Column 9": "",
                  "Empty Column 10": "",
                  "Empty Column 11": "",
                  "Empty Column 12": "",
                  "Empty Column 13": "",
                  "Empty Column 14": "",
                  "Empty Column 15": "",
                  "Empty Column 16": "",
                  "Empty Column 17": "",
                  "Empty Column 18": "",
                  "Empty Column 19": "",
                  "Empty Column 20": "",
                  "Empty Column 21": "",
                  "Empty Column 22": "",
                  "Empty Column 23": "",
                  "Empty Column 24": "",
                  "Empty Column 25": "",
                  "Empty Column 26": "",
                  "Empty Column 27": "",
                  "Empty Column 28": "",
                  "Empty Column 29": "",
                  "Empty Column 30": "",
                  "Empty Column 31": "",
                  "Empty Column 32": "",
                  "Empty Column 33": "",
                  "_deepnote_index_column": 9
                }
              ]
            },
            "text/plain": "                                             Page 2024-01-01 2024-01-02  \\\n0                                  /1000-islands/         28         18   \n1                     /90210-recovery-california/          5          2   \n2                   /abhasa-rehabilitation-india/         15         11   \n3      /abhasa-rehabilitation-thondamuthur-india/          8          6   \n4                       /abhasa-wellness-retreat/          7          5   \n..                                            ...        ...        ...   \n248  /wilmington-treatment-center-north-carolina/          1          3   \n249                    /wish-recovery-california/         21         13   \n250                  /within-center-austin-texas/          4          3   \n251                    /zeus-rehab-warsaw-poland/          0          0   \n252                /zinnia-healing-singer-island/          3          3   \n\n    2024-01-03 2024-01-04 2024-01-05 2024-01-06 Empty Column 9  \\\n0           18         12         10         13                  \n1            4          4          2          6                  \n2            7          8          7         12                  \n3            3          6          1         11                  \n4            7          2          3         12                  \n..         ...        ...        ...        ...            ...   \n248                     2          2          3                  \n249         16         17         17         33                  \n250         11         13          8          8                  \n251          0          0          7         13                  \n252          4          2          5          3                  \n\n    Empty Column 10 Empty Column 11  ... Empty Column 24 Empty Column 25  \\\n0                                    ...                                   \n1                                    ...                                   \n2                                    ...                                   \n3                                    ...                                   \n4                                    ...                                   \n..              ...             ...  ...             ...             ...   \n248                                  ...                                   \n249                                  ...                                   \n250                                  ...                                   \n251                                  ...                                   \n252                                  ...                                   \n\n    Empty Column 26 Empty Column 27 Empty Column 28 Empty Column 29  \\\n0                                                                     \n1                                                                     \n2                                                                     \n3                                                                     \n4                                                                     \n..              ...             ...             ...             ...   \n248                                                                   \n249                                                                   \n250                                                                   \n251                                                                   \n252                                                                   \n\n    Empty Column 30 Empty Column 31 Empty Column 32 Empty Column 33  \n0                                                                    \n1                                                                    \n2                                                                    \n3                                                                    \n4                                                                    \n..              ...             ...             ...             ...  \n248                                                                  \n249                                                                  \n250                                                                  \n251                                                                  \n252                                                                  \n\n[253 rows x 32 columns]",
            "text/html": "<div>\n<style scoped>\n    .dataframe tbody tr th:only-of-type {\n        vertical-align: middle;\n    }\n\n    .dataframe tbody tr th {\n        vertical-align: top;\n    }\n\n    .dataframe thead th {\n        text-align: right;\n    }\n</style>\n<table border=\"1\" class=\"dataframe\">\n  <thead>\n    <tr style=\"text-align: right;\">\n      <th></th>\n      <th>Page</th>\n      <th>2024-01-01</th>\n      <th>2024-01-02</th>\n      <th>2024-01-03</th>\n      <th>2024-01-04</th>\n      <th>2024-01-05</th>\n      <th>2024-01-06</th>\n      <th>Empty Column 9</th>\n      <th>Empty Column 10</th>\n      <th>Empty Column 11</th>\n      <th>...</th>\n      <th>Empty Column 24</th>\n      <th>Empty Column 25</th>\n      <th>Empty Column 26</th>\n      <th>Empty Column 27</th>\n      <th>Empty Column 28</th>\n      <th>Empty Column 29</th>\n      <th>Empty Column 30</th>\n      <th>Empty Column 31</th>\n      <th>Empty Column 32</th>\n      <th>Empty Column 33</th>\n    </tr>\n  </thead>\n  <tbody>\n    <tr>\n      <th>0</th>\n      <td>/1000-islands/</td>\n      <td>28</td>\n      <td>18</td>\n      <td>18</td>\n      <td>12</td>\n      <td>10</td>\n      <td>13</td>\n      <td></td>\n      <td></td>\n      <td></td>\n      <td>...</td>\n      <td></td>\n      <td></td>\n      <td></td>\n      <td></td>\n      <td></td>\n      <td></td>\n      <td></td>\n      <td></td>\n      <td></td>\n      <td></td>\n    </tr>\n    <tr>\n      <th>1</th>\n      <td>/90210-recovery-california/</td>\n      <td>5</td>\n      <td>2</td>\n      <td>4</td>\n      <td>4</td>\n      <td>2</td>\n      <td>6</td>\n      <td></td>\n      <td></td>\n      <td></td>\n      <td>...</td>\n      <td></td>\n      <td></td>\n      <td></td>\n      <td></td>\n      <td></td>\n      <td></td>\n      <td></td>\n      <td></td>\n      <td></td>\n      <td></td>\n    </tr>\n    <tr>\n      <th>2</th>\n      <td>/abhasa-rehabilitation-india/</td>\n      <td>15</td>\n      <td>11</td>\n      <td>7</td>\n      <td>8</td>\n      <td>7</td>\n      <td>12</td>\n      <td></td>\n      <td></td>\n      <td></td>\n      <td>...</td>\n      <td></td>\n      <td></td>\n      <td></td>\n      <td></td>\n      <td></td>\n      <td></td>\n      <td></td>\n      <td></td>\n      <td></td>\n      <td></td>\n    </tr>\n    <tr>\n      <th>3</th>\n      <td>/abhasa-rehabilitation-thondamuthur-india/</td>\n      <td>8</td>\n      <td>6</td>\n      <td>3</td>\n      <td>6</td>\n      <td>1</td>\n      <td>11</td>\n      <td></td>\n      <td></td>\n      <td></td>\n      <td>...</td>\n      <td></td>\n      <td></td>\n      <td></td>\n      <td></td>\n      <td></td>\n      <td></td>\n      <td></td>\n      <td></td>\n      <td></td>\n      <td></td>\n    </tr>\n    <tr>\n      <th>4</th>\n      <td>/abhasa-wellness-retreat/</td>\n      <td>7</td>\n      <td>5</td>\n      <td>7</td>\n      <td>2</td>\n      <td>3</td>\n      <td>12</td>\n      <td></td>\n      <td></td>\n      <td></td>\n      <td>...</td>\n      <td></td>\n      <td></td>\n      <td></td>\n      <td></td>\n      <td></td>\n      <td></td>\n      <td></td>\n      <td></td>\n      <td></td>\n      <td></td>\n    </tr>\n    <tr>\n      <th>...</th>\n      <td>...</td>\n      <td>...</td>\n      <td>...</td>\n      <td>...</td>\n      <td>...</td>\n      <td>...</td>\n      <td>...</td>\n      <td>...</td>\n      <td>...</td>\n      <td>...</td>\n      <td>...</td>\n      <td>...</td>\n      <td>...</td>\n      <td>...</td>\n      <td>...</td>\n      <td>...</td>\n      <td>...</td>\n      <td>...</td>\n      <td>...</td>\n      <td>...</td>\n      <td>...</td>\n    </tr>\n    <tr>\n      <th>248</th>\n      <td>/wilmington-treatment-center-north-carolina/</td>\n      <td>1</td>\n      <td>3</td>\n      <td></td>\n      <td>2</td>\n      <td>2</td>\n      <td>3</td>\n      <td></td>\n      <td></td>\n      <td></td>\n      <td>...</td>\n      <td></td>\n      <td></td>\n      <td></td>\n      <td></td>\n      <td></td>\n      <td></td>\n      <td></td>\n      <td></td>\n      <td></td>\n      <td></td>\n    </tr>\n    <tr>\n      <th>249</th>\n      <td>/wish-recovery-california/</td>\n      <td>21</td>\n      <td>13</td>\n      <td>16</td>\n      <td>17</td>\n      <td>17</td>\n      <td>33</td>\n      <td></td>\n      <td></td>\n      <td></td>\n      <td>...</td>\n      <td></td>\n      <td></td>\n      <td></td>\n      <td></td>\n      <td></td>\n      <td></td>\n      <td></td>\n      <td></td>\n      <td></td>\n      <td></td>\n    </tr>\n    <tr>\n      <th>250</th>\n      <td>/within-center-austin-texas/</td>\n      <td>4</td>\n      <td>3</td>\n      <td>11</td>\n      <td>13</td>\n      <td>8</td>\n      <td>8</td>\n      <td></td>\n      <td></td>\n      <td></td>\n      <td>...</td>\n      <td></td>\n      <td></td>\n      <td></td>\n      <td></td>\n      <td></td>\n      <td></td>\n      <td></td>\n      <td></td>\n      <td></td>\n      <td></td>\n    </tr>\n    <tr>\n      <th>251</th>\n      <td>/zeus-rehab-warsaw-poland/</td>\n      <td>0</td>\n      <td>0</td>\n      <td>0</td>\n      <td>0</td>\n      <td>7</td>\n      <td>13</td>\n      <td></td>\n      <td></td>\n      <td></td>\n      <td>...</td>\n      <td></td>\n      <td></td>\n      <td></td>\n      <td></td>\n      <td></td>\n      <td></td>\n      <td></td>\n      <td></td>\n      <td></td>\n      <td></td>\n    </tr>\n    <tr>\n      <th>252</th>\n      <td>/zinnia-healing-singer-island/</td>\n      <td>3</td>\n      <td>3</td>\n      <td>4</td>\n      <td>2</td>\n      <td>5</td>\n      <td>3</td>\n      <td></td>\n      <td></td>\n      <td></td>\n      <td>...</td>\n      <td></td>\n      <td></td>\n      <td></td>\n      <td></td>\n      <td></td>\n      <td></td>\n      <td></td>\n      <td></td>\n      <td></td>\n      <td></td>\n    </tr>\n  </tbody>\n</table>\n<p>253 rows × 32 columns</p>\n</div>"
          },
          "metadata": {}
        }
      ],
      "execution_count": null,
      "block_group": "c622e8455132422ea9b69790f43f3aa4"
    },
    {
      "cell_type": "markdown",
      "source": "### Send Data to ADPB Sheet",
      "metadata": {
        "formattedRanges": [],
        "cell_id": "a3d4a64abb384892969ca06d3582105f",
        "deepnote_cell_type": "text-cell-h3"
      },
      "block_group": "a283bdd11e614f51add8b2e054cbd412"
    },
    {
      "cell_type": "code",
      "source": "#write_to_gsheet('/work/keveldata-5f76a71e9aaf.json','1G5Mo3wrT_SrbFt5lyjKDne4C-Hj0cfjxCaW9mGPLQXU',\"PPV Data\",finished_data)",
      "metadata": {
        "source_hash": null,
        "execution_start": 1704677591861,
        "execution_millis": 2320,
        "deepnote_to_be_reexecuted": false,
        "cell_id": "1002d2a68b074ca183941612b36f828f",
        "deepnote_cell_type": "code"
      },
      "outputs": [],
      "execution_count": null,
      "block_group": "6801cdd9bab94cc18e56292ac35ff6f8"
    },
    {
      "cell_type": "markdown",
      "source": "<a style='text-decoration:none;line-height:16px;display:flex;color:#5B5B62;padding:10px;justify-content:end;' href='https://deepnote.com?utm_source=created-in-deepnote-cell&projectId=6d4ba941-f702-478c-87bf-a3e3e8035885' target=\"_blank\">\n<img alt='Created in deepnote.com' style='display:inline;max-height:16px;margin:0px;margin-right:7.5px;' src='data:image/svg+xml;base64,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' > </img>\nCreated in <span style='font-weight:600;margin-left:4px;'>Deepnote</span></a>",
      "metadata": {
        "created_in_deepnote_cell": true,
        "deepnote_cell_type": "markdown"
      }
    }
  ],
  "nbformat": 4,
  "nbformat_minor": 0,
  "metadata": {
    "deepnote_persisted_session": {
      "createdAt": "2024-01-07T22:00:07.201Z"
    },
    "deepnote_notebook_id": "831e9b7375f74bc284efda1ef75c4d63",
    "deepnote_execution_queue": []
  }
}