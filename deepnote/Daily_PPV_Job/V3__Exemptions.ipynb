{
  "cells": [
    {
      "cell_type": "code",
      "source": "import os\nimport requests\nimport os.path\nimport csv\nimport json\nimport pytz\nimport pygsheets\nfrom nbdev import *\n\nfrom google.auth.transport.requests import Request\nfrom google.oauth2.credentials import Credentials\nfrom google_auth_oauthlib.flow import InstalledAppFlow\nfrom googleapiclient.discovery import build\nfrom googleapiclient.errors import HttpError\nfrom datetime import datetime, timedelta\nimport pandas as pd\n\n##### Copper Code and Functions #####\n\nheaders = {\n    'X-PW-AccessToken':os.environ[\"COPPER_API_KEY\"],\n    'X-PW-Application':'developer_api',\n    'X-PW-UserEmail':'cooper@rehabpath.com',\n    'Content-Type':'application/json'\n}\n\ndef refresh_custom_fields(return_results:bool = False, #Whether you would like results returned\n):\n    \"\"\"\n    Function to refresh the custom_field_json file and related dictionary. Option to \n    return resulting dictionary.\n    \"\"\"\n    # Fetching custom fields:\n    list_fields = requests.get('https://api.copper.com/developer_api/v1/custom_field_definitions',headers=headers)\n    \n    # Was the API request a success?\n    if list_fields.status_code != 200:\n        print('Error fetching custom fields.')\n        if return_results:\n            print('Returning previous version.')\n            with open('custom_fields.json', encoding=\"utf-8\") as f:\n                return json.load(f)\n    \n    # Obtaining response text and initializing dictionary:\n    list_fields_json = list_fields.json()\n    custom_field_dict = {}\n\n    for item in list_fields_json:\n        item_dict = {}\n        for sub_item in ['name','data_type','available_on','is_filterable']:\n            item_dict[sub_item] = item[sub_item] \n\n        item_options = {}\n\n        if 'options' in item:\n            for sub_item in item['options']:\n                sub_item_name = sub_item['name']\n                sub_item_id = sub_item['id']\n\n                item_options[sub_item_id] = sub_item_name\n        \n            item_dict['options'] = item_options\n        item_id = item['id']\n        custom_field_dict[item_id] = item_dict\n    \n    # Updating local file:\n    with open('custom_fields.json', 'w') as file:\n        json.dump(custom_field_dict, file, indent=4)\n    \n    #Option to return results or just update local file:\n    if return_results == True:\n        return custom_field_dict\n    else:\n        print('Successfully Updated File!')\n        pass\n\ncustom_fields = refresh_custom_fields(True)\n\ndef get_cf_info(cf_id:str,     #ID of custom field\n                cf_info:list,  #Designed information about field, list if multiple items\n)->list: #Returns list if cf_info is list. Otherwise, returns value\n    \"\"\"\n    Function to get the custom field information based on the field id. Can be supplied with a sigular value for 'cf_info' or multiple as a list.\n    \"\"\"\n\n    if isinstance(cf_id,str):\n        cf_id = int(cf_id)      \n\n    # Check if cf_info item(s) are valid\n    if isinstance(cf_info, list):\n        for item_name in cf_info:\n            # Remove faulty items:\n            if item_name not in ['name','data_type','available_on','is_filterable','options']:\n                cf_info.pop(item_name)\n                print(f'Invalid cf_info: {cf_info}')\n            \n            # Cancel function if no valid items\n            if len(cf_info) == 0:\n                pass\n    elif cf_info not in ['name','data_type','available_on','is_filterable','options']:\n        print(f'Invalid cf_info: {cf_info}'); pass\n\n    if isinstance(cf_info,list):\n        return_list = []\n        for item_name in cf_info:\n            value = custom_fields[cf_id].get(item_name)\n            return_list.append(value)\n        return return_list\n    else:\n        value = custom_fields[cf_id].get(cf_info)\n        return value\n\ndef get_cf_options(cf_id:str, #Coppper ID for custom field\n)->dict: # Returns dictionary of options for field\n    return custom_fields.get(cf_id).get('options')\n\ndef cf_option_name(cf_id:str, #Coppper ID for custom field\noption_id:str, #Coppper ID for option\n)->str: #Returns name/value of option\n    return get_cf_options(cf_id).get(option_id)\n\ndef reformat_company_data(company_data:list, #Returned company data as list of dictionaries.\n):\n    \"\"\"\n    Function to reformat the company data recieved from Copper in its JSON form \n    and clean the results.\n    \"\"\"\n\n    native_items = ['id', 'name', 'address', 'assignee_id', 'contact_type_id']\n\n    output_dict = {}\n\n    for item in native_items:\n        output_dict[item] = company_data.get(item, None)\n    \n    custom_field_data = company_data['custom_fields']\n\n    for dict_item in custom_field_data:\n        item_id = dict_item['custom_field_definition_id']\n        item_name = custom_fields_dict.get(item_id, None)\n\n        if item_name not in Custom_Fields or item_name is None:\n            continue\n        \n        if item_name is not None:\n            item_value = dict_item['value']\n            output_dict[item_name] = item_value\n    \n    return output_dict\n\ndef write_to_gsheet(service_file_path:str,#Path to credentials json file\n spreadsheet_id:str, #ID of spreadhseet. Found in url to gsheet after '/d/'\n  sheet_name:str, #Name location where you want the data sent.\n  data_df:pd.DataFrame, #Data to be send.\n  ):\n    \"\"\"\n    Function takes data_df and writes it to the provided spreadsheet_id\n    and sheet_name using your credentials under service_file_path\n    \"\"\"\n    gc = pygsheets.authorize(service_file=service_file_path)\n    sh = gc.open_by_key(spreadsheet_id)\n    try:\n        sh.add_worksheet(sheet_name)\n    except:\n        pass\n    wks_write = sh.worksheet_by_title(sheet_name)\n    wks_write.clear('A1',None,'*')\n    wks_write.set_dataframe(data_df, (1,1), encoding='utf-8', fit=True)\n    wks_write.frozen_rows = 1\n\n##### Minor code to update custom fields stuff ####\n\ncustom_fields_dict = {}\n\nfor item in custom_fields.keys():\n    item_name = custom_fields[item].get('name')\n    custom_fields_dict[item] = item_name\n\ncustom_fields_df = pd.DataFrame(list(custom_fields_dict.items()),columns = ['id','name'])\n\ncustom_fields_list = list(custom_fields_df['name'])\n\n##### Start of Google Sheet Functions #####\n\nSCOPES = [\"https://www.googleapis.com/auth/spreadsheets.readonly\"]\n\ndef authorize_gspread(credentials_file, token_file, scopes):\n    creds = None\n\n    if os.path.exists(token_file):\n        creds = Credentials.from_authorized_user_file(token_file, scopes)\n\n    if not creds or not creds.valid:\n        if creds and creds.expired and creds.refresh_token:\n            creds.refresh(Request())\n        else:\n            flow = InstalledAppFlow.from_client_secrets_file(credentials_file, scopes)\n            creds = flow.run_local_server(port=0)\n\n        with open(token_file, \"w\") as token:\n            token.write(creds.to_json())\n\n    return creds\n\n\ndef read_google_sheets(spreadsheet_id, range_name, credentials_file, token_file, scopes):\n    creds = authorize_gspread(credentials_file, token_file, scopes)\n\n    try:\n        service = build(\"sheets\", \"v4\", credentials=creds)\n\n        sheet = service.spreadsheets()\n        resulting_sheet = sheet.values().get(spreadsheetId=spreadsheet_id, range=range_name).execute()\n        values = resulting_sheet.get(\"values\", [])\n\n        if not values:\n            return None\n\n        return values\n\n    except HttpError as err:\n        return None\n\n\ndef get_data(spreadsheet_id:str,#ID of spreadhseet. Found in url to gsheet after '/d/'\nrange_name:str,#Name location where you want the data sent.\ncredentials_file:str= \"credentials.json\", #path to json credentials file.\ntoken_file:str = \"token.json\", #path to token json file\n)->pd.DataFrame: #Returns results as DataFrame\n    \"\"\"\n    Function to fetch data from Google Sheets.\n    \"\"\"\n    result = read_google_sheets(spreadsheet_id, range_name, credentials_file, token_file, SCOPES)\n    \n    if result is not None:\n        results = pd.DataFrame(result[1:], columns=result[0])\n        return results\n    else:\n        print(\"Failed to retrieve data from Google Sheets.\")\n        pass\n",
      "metadata": {
        "source_hash": "58a0f49b",
        "is_code_hidden": true,
        "execution_start": 1704756282742,
        "execution_millis": 320,
        "deepnote_to_be_reexecuted": false,
        "deepnote_app_is_code_hidden": true,
        "cell_id": "5ee48a2b9a9e44d0ac7c15e1270aeec5",
        "deepnote_cell_type": "code"
      },
      "outputs": [],
      "execution_count": 7,
      "block_group": "219a4a35eb8045f291ba253140777f6b"
    },
    {
      "cell_type": "markdown",
      "source": "# Daily Job to Get PPV Values",
      "metadata": {
        "formattedRanges": [],
        "cell_id": "467546c288604f9994041412e09b7e64",
        "deepnote_cell_type": "text-cell-h1"
      },
      "block_group": "e82de278b5b34c41bc4b09cdae43e558"
    },
    {
      "cell_type": "markdown",
      "source": "Daily job to pull GA4 pageviews from snowflake and combine it with data from Copper to get the total PPVs by day for all advertier and send the results to `AdvertisingPartners_RatesAndBudgets`.\n\n**Data from Snowflake:**\n- Pageviews by `slug` by day\n\n**Data from Coppper:**\n- Center `slug` - to pair to GA4 data\n- Center `GoLive Date` - to discard PPVs before a advertier goes GoLive\n- Center `Page` - similar to slug, but how the data was been historically reported.",
      "metadata": {
        "cell_id": "d3ef64345a28496dace791f179ee82ad",
        "deepnote_cell_type": "markdown"
      },
      "block_group": "7464b3fa18b7441e83b51341ed2a833c"
    },
    {
      "cell_type": "markdown",
      "source": "### Getting Data from Copper",
      "metadata": {
        "formattedRanges": [],
        "cell_id": "cf8c13a7aac740c0828add24812e1be2",
        "deepnote_cell_type": "text-cell-h3"
      },
      "block_group": "50e31b5514f445abab06b66309413621"
    },
    {
      "cell_type": "markdown",
      "source": "Let's start by getting the Copper data for all companies with the status of `Advertiser`, `Onboarding-CS`,`Onboarding-AdOps`, `Paused`, or `Churning`.  We can do this by searching for comapnies with these values in the field. Note, that we need to use the id for the custome field, 588393, and the ids for all of the statuses.",
      "metadata": {
        "cell_id": "37504243cca54b4cb669cf7879ac4d0e",
        "deepnote_cell_type": "markdown"
      },
      "block_group": "a0ce17d7c2d14624a55e1301d616a07b"
    },
    {
      "cell_type": "code",
      "source": "total_pages = page = 1\ncombined_results = []\n\nwhile page <= total_pages:\n    page_params = {\n        \"page_size\": 100,\n        \"page_number\": page,\n        \"custom_fields\": [\n            {\"custom_field_definition_id\": 588393,                  # Company Status - custom field\n            \"value\": [1806073, 1806063,1806064,1824709,1806067]    # List of ids for allowed statuses\n        }\n        ]}\n    result = requests.post('https://api.copper.com/developer_api/v1/companies/search',headers=headers,json=page_params)\n    \n    if result.status_code == 200:\n        total_pages = (int(result.headers['X-PW-TOTAL'])//100)+1\n        print(f\"Getting page {page} of {total_pages}.\")\n        result_json = result.json()\n        combined_results.extend(result_json)\n        page +=1\n\n    else:\n        print(f\"Issue with page {page}. Stopping.\")\n        break",
      "metadata": {
        "source_hash": "489166f7",
        "execution_start": 1704756287267,
        "execution_millis": 4417,
        "deepnote_to_be_reexecuted": false,
        "cell_id": "a64779dbaa8440b787557053a3f494ab",
        "deepnote_cell_type": "code"
      },
      "outputs": [
        {
          "name": "stdout",
          "text": "Getting page 1 of 3.\nGetting page 2 of 3.\nGetting page 3 of 3.\n",
          "output_type": "stream"
        }
      ],
      "execution_count": 8,
      "block_group": "02f76ab1040c49d48aa28f60e7963e68"
    },
    {
      "cell_type": "markdown",
      "source": "Now that we have the data we want, we need to do some data cleaning to dates and custom fields and discard information we don't want. First, let's loop through the results, which are in a json/dict format, turn them into a flat list using `reformat_company_data`, and finally turn the list into a dataframe.",
      "metadata": {
        "cell_id": "f80ca4969a3345349902c19c350dd644",
        "deepnote_cell_type": "markdown"
      },
      "block_group": "71ca407047674b22b0498713582b6c3e"
    },
    {
      "cell_type": "code",
      "source": "Custom_Fields = ['GoLive Date','Page','Profile Slug']",
      "metadata": {
        "source_hash": "ed1b1f3f",
        "execution_start": 1704756291681,
        "execution_millis": 19,
        "deepnote_variable_name": "Custom_Fields",
        "deepnote_variable_value": [
          "GoLive Date",
          "Page",
          "Profile Slug"
        ],
        "deepnote_to_be_reexecuted": false,
        "deepnote_variable_options": [
          "Which RehabPath Website?",
          "WhatsApp",
          "Remarks",
          "Follow up status",
          "Call notes",
          "Center Claimed Status",
          "Paid Subscriptions",
          "Parent of",
          "Child of",
          "Claimed Status",
          "Date Added to LuxuryRehabs.com",
          "Primary Account Contact",
          "Primary Contact Account",
          "LR Profile URL",
          "Business Contact",
          "Business Contact",
          "Admissions Email",
          "Last Charge",
          "Monthly Spending Cap",
          "Pre-Qualification Rating (out of 45)",
          "Verified",
          "Base Rate Monthly Revenue",
          "Monthly Budget (LuxuryRehabs)",
          "Billing PPV Rate (LuxuryRehabs)",
          "First Month PPV Estimate",
          "Max Monthly PPV Estimate",
          "LEGACY_Customer Success Contact",
          "% of Profile Complete",
          "# of Highlights",
          "# of News Items",
          "# of Content Panels",
          "Provider Admissions phone # linked to CTM",
          "Call Tracking CTM - # listed in Profile",
          "Additional Email Domain #1",
          "LegitScript Certified ?",
          "What CRM for Admissions ?",
          "Additional Email Domain #2",
          "Additional Email Domain #3",
          "Pictures of Staff in Profile",
          "Provided Logo ?",
          "Has Youtube Videos ?",
          "Inquiries List",
          "# of Confirmed Admits",
          "Onboarding Meeting Date",
          "Date of First Confirmed Admit",
          "Total # of beds in facility",
          "Current Plan Effective Date",
          "Date Claimed",
          "Campaign Health",
          "Customer Health (old)",
          "Current # of Reviews in Profile",
          "Regional PPV Rate",
          "Uses Parent Budget",
          "Plan Type",
          "Center Group",
          "Performance Report",
          "Last Performance Meeting Date",
          "Profile Slug",
          "Chargify Subscription ID",
          "Currency",
          "Month Spend to Date (USD)",
          "Current Budget Effective Date (LuxuryRehabs)",
          "Update Billing PPV Rate (LuxuryRehabs)",
          "New Billing PPV Rate Effective Date (LuxuryRehabs)",
          "Billing PPV Rate (rehabs.in)",
          "Monthly Budget (Rehabs.in)",
          "Target Cost Per Admit",
          "Accepts Insurance",
          "Combined Address",
          "Country",
          "Bulk Update",
          "Ad Targeting Preferences",
          "Previous Budget",
          "Update Monthly Budget",
          "Meeting Type",
          "Billing Reconciliation Reviewed",
          "Last Date Verified",
          "Top Hitlist",
          "Opportunity Type",
          "Last Month Leads",
          "Conversion Score",
          "Customer Health Check-In",
          "Discovery Meeting Date",
          "Restricted Budget",
          "Reason for Restricted Budget",
          "GoLive Date",
          "Customer Pulse",
          "Budget Increase Last 90 Days (Temporary)",
          "Last Month PoB",
          "Current Month PoB",
          "Delivery Potential",
          "Primary Contact Email",
          "Target Date",
          "Last Month Calls",
          "Last Month Treatment Inquires",
          "Last Month Outbound Links",
          "Last Month Spend",
          "Last Month VOB",
          "Notes",
          "Customer Pulse Date",
          "Page",
          "Closed Date",
          "Customer Defined CPA",
          "Budget Effective Date",
          "Customer Health",
          "Last Month Admits",
          "Admits 2 months ago (if not previously documented)",
          "Admits 3 months ago (if not previously documented)",
          "Contract End Date",
          "Virtual Tour Date",
          "Virtual Tour Link",
          "Onboarding Meeting Link",
          "Discovery Meeting Link",
          "PPV Rate",
          "CS Contact",
          "Customer Success Accounts",
          "Exclude Marketing Comm (Parent)",
          "Is Parent Entity",
          "Company Status",
          "State",
          "Prepayment",
          "Contract Period",
          "Monthly Profile Views",
          "AdRank Multiplier",
          "Last Month Link Leads",
          "Last Month Cost per Lead",
          "Do Not Update Prepayment",
          "Unsubscribe",
          "Inactive Records",
          "Active Record",
          "Created On",
          "Capped",
          "Hubspot (Current Month PoB)",
          "HubSpot Sync",
          "Admits Last 3 Mon",
          "3 Month CPA",
          "CPA Ratio",
          "Primary Account Contact",
          "Expansion Notes (old)",
          "Expansion Notes Updated Date",
          "Expansion Notes",
          "Tracking Attribution",
          "Churn Retro Notes",
          "Churn Request Date",
          "Try To Win Customer Back?",
          "Agency Partner (Commission)",
          "Primary Churn Reason",
          "Churn Reasons",
          "Risk Factors old",
          "Next Steps old",
          "Churn Date",
          "Attribution Notes",
          "Risk Factors",
          "Next Steps",
          "Performance Report (Old-UA)",
          "Agency Partner",
          "LEGACY_Account Owner",
          "Performance Manager",
          "Receives Agency Partner Commissions",
          "Executive Sponsor",
          "Onboarding Start Date"
        ],
        "deepnote_variable_select_type": "from-variable",
        "deepnote_allow_multiple_values": true,
        "deepnote_variable_custom_options": [],
        "deepnote_variable_selected_variable": "custom_fields_list",
        "cell_id": "c5d013c5096e452cad027aa128317648",
        "deepnote_cell_type": "input-select"
      },
      "outputs": [],
      "execution_count": 9,
      "block_group": "9dcd89fb7a8d4784b40c8bf90aad53d6"
    },
    {
      "cell_type": "code",
      "source": "show_doc(reformat_company_data)",
      "metadata": {
        "source_hash": "7f080cf8",
        "execution_start": 1704756291683,
        "execution_millis": 14,
        "deepnote_to_be_reexecuted": false,
        "cell_id": "3c1da368ce0f4d96895c6c5e818154c5",
        "deepnote_cell_type": "code"
      },
      "outputs": [
        {
          "output_type": "execute_result",
          "execution_count": 10,
          "data": {
            "text/plain": "---\n\n### reformat_company_data\n\n>      reformat_company_data (company_data:list)\n\nFunction to reformat the company data recieved from Copper in its JSON form \nand clean the results.\n\n|    | **Type** | **Details** |\n| -- | -------- | ----------- |\n| company_data | list | Returned company data as list of dictionaries. |",
            "text/markdown": "---\n\n### reformat_company_data\n\n>      reformat_company_data (company_data:list)\n\nFunction to reformat the company data recieved from Copper in its JSON form \nand clean the results.\n\n|    | **Type** | **Details** |\n| -- | -------- | ----------- |\n| company_data | list | Returned company data as list of dictionaries. |"
          },
          "metadata": {}
        }
      ],
      "execution_count": 10,
      "block_group": "2be4b3bac24245559ca03a04fb481654"
    },
    {
      "cell_type": "code",
      "source": "cleaned_data = []\n\nfor idx in range(len(combined_results)):\n    results = reformat_company_data(combined_results[idx]) # using a function I wrote. See hidden section.\n    cleaned_data.append(results)\n\ncleaned_data_df = pd.DataFrame(cleaned_data)\nlist_slugs = list(set(cleaned_data_df['Profile Slug']))\ncleaned_data_df.drop(columns=['id','name','address','assignee_id','contact_type_id'],inplace=True)",
      "metadata": {
        "source_hash": null,
        "execution_start": 1704742895171,
        "execution_millis": 33,
        "deepnote_to_be_reexecuted": false,
        "cell_id": "dfa1a0ec88d047c2a064a40ef996a417",
        "deepnote_cell_type": "code"
      },
      "outputs": [],
      "execution_count": null,
      "block_group": "cc9102f498b048bea36fbed3f335599b"
    },
    {
      "cell_type": "markdown",
      "source": "Now that we have a dataframe, let's change the data formate from a unix timestamp to a human readable date.",
      "metadata": {
        "cell_id": "076809253fd242fca5a615bed2fe7723",
        "deepnote_cell_type": "markdown"
      },
      "block_group": "96882f778f6b43cb9350dc05a17d8d58"
    },
    {
      "cell_type": "code",
      "source": "ct_timezone = pytz.timezone('US/Central')\ncleaned_data_df['GoLive Date'] = cleaned_data_df['GoLive Date'].apply(lambda x: pd.to_datetime(x, unit='s')).dt.strftime(\"%Y-%m-%d\")\ncleaned_data_df",
      "metadata": {
        "source_hash": null,
        "execution_start": 1704742895185,
        "execution_millis": 83,
        "deepnote_to_be_reexecuted": false,
        "cell_id": "d34251bf07904bb9bcd6581726154a66",
        "deepnote_cell_type": "code"
      },
      "outputs": [
        {
          "output_type": "execute_result",
          "execution_count": 5,
          "data": {
            "application/vnd.deepnote.dataframe.v3+json": {
              "column_count": 3,
              "row_count": 298,
              "columns": [
                {
                  "name": "Profile Slug",
                  "dtype": "object",
                  "stats": {
                    "unique_count": 258,
                    "nan_count": 40,
                    "categories": [
                      {
                        "name": "1000-islands",
                        "count": 1
                      },
                      {
                        "name": "257 others",
                        "count": 257
                      },
                      {
                        "name": "Missing",
                        "count": 40
                      }
                    ]
                  }
                },
                {
                  "name": "GoLive Date",
                  "dtype": "object",
                  "stats": {
                    "unique_count": 148,
                    "nan_count": 28,
                    "categories": [
                      {
                        "name": "1999-12-31",
                        "count": 18
                      },
                      {
                        "name": "147 others",
                        "count": 252
                      },
                      {
                        "name": "Missing",
                        "count": 28
                      }
                    ]
                  }
                },
                {
                  "name": "Page",
                  "dtype": "object",
                  "stats": {
                    "unique_count": 258,
                    "nan_count": 40,
                    "categories": [
                      {
                        "name": "/1000-islands/",
                        "count": 1
                      },
                      {
                        "name": "257 others",
                        "count": 257
                      },
                      {
                        "name": "Missing",
                        "count": 40
                      }
                    ]
                  }
                },
                {
                  "name": "_deepnote_index_column",
                  "dtype": "int64"
                }
              ],
              "rows": [
                {
                  "Profile Slug": "1000-islands",
                  "GoLive Date": "1999-12-28",
                  "Page": "/1000-islands/",
                  "_deepnote_index_column": 0
                },
                {
                  "Profile Slug": "90210-recovery-california",
                  "GoLive Date": "1999-12-31",
                  "Page": "/90210-recovery-california/",
                  "_deepnote_index_column": 1
                },
                {
                  "Profile Slug": "abhasa-rehabilitation-thondamuthur-india",
                  "GoLive Date": "2023-03-25",
                  "Page": "/abhasa-rehabilitation-thondamuthur-india/",
                  "_deepnote_index_column": 2
                },
                {
                  "Profile Slug": "None",
                  "GoLive Date": "2023-02-28",
                  "Page": "None",
                  "_deepnote_index_column": 3
                },
                {
                  "Profile Slug": "abhasa-wellness-retreat",
                  "GoLive Date": "2022-10-16",
                  "Page": "/abhasa-wellness-retreat/",
                  "_deepnote_index_column": 4
                },
                {
                  "Profile Slug": "abhasa-rehabilitation-india",
                  "GoLive Date": "2022-10-12",
                  "Page": "/abhasa-rehabilitation-india/",
                  "_deepnote_index_column": 5
                },
                {
                  "Profile Slug": "absolute-awakenings-new-jersey",
                  "GoLive Date": "2023-12-21",
                  "Page": "/absolute-awakenings-new-jersey/",
                  "_deepnote_index_column": 6
                },
                {
                  "Profile Slug": "None",
                  "GoLive Date": "1999-12-24",
                  "Page": "None",
                  "_deepnote_index_column": 7
                },
                {
                  "Profile Slug": "acqua-recovery",
                  "GoLive Date": "2023-12-22",
                  "Page": "/acqua-recovery/",
                  "_deepnote_index_column": 8
                },
                {
                  "Profile Slug": "adcare-rhode-island",
                  "GoLive Date": "2000-01-01",
                  "Page": "/adcare-rhode-island/",
                  "_deepnote_index_column": 9
                }
              ]
            },
            "text/plain": "                                 Profile Slug GoLive Date  \\\n0                                1000-islands  1999-12-28   \n1                   90210-recovery-california  1999-12-31   \n2    abhasa-rehabilitation-thondamuthur-india  2023-03-25   \n3                                        None  2023-02-28   \n4                     abhasa-wellness-retreat  2022-10-16   \n..                                        ...         ...   \n293                  wish-recovery-california  2023-07-14   \n294                within-center-austin-texas  2023-10-08   \n295                  zeus-rehab-warsaw-poland  2024-01-04   \n296              zinnia-healing-singer-island  2023-05-05   \n297                                      None  2023-05-04   \n\n                                           Page  \n0                                /1000-islands/  \n1                   /90210-recovery-california/  \n2    /abhasa-rehabilitation-thondamuthur-india/  \n3                                          None  \n4                     /abhasa-wellness-retreat/  \n..                                          ...  \n293                  /wish-recovery-california/  \n294                /within-center-austin-texas/  \n295                  /zeus-rehab-warsaw-poland/  \n296              /zinnia-healing-singer-island/  \n297                                        None  \n\n[298 rows x 3 columns]",
            "text/html": "<div>\n<style scoped>\n    .dataframe tbody tr th:only-of-type {\n        vertical-align: middle;\n    }\n\n    .dataframe tbody tr th {\n        vertical-align: top;\n    }\n\n    .dataframe thead th {\n        text-align: right;\n    }\n</style>\n<table border=\"1\" class=\"dataframe\">\n  <thead>\n    <tr style=\"text-align: right;\">\n      <th></th>\n      <th>Profile Slug</th>\n      <th>GoLive Date</th>\n      <th>Page</th>\n    </tr>\n  </thead>\n  <tbody>\n    <tr>\n      <th>0</th>\n      <td>1000-islands</td>\n      <td>1999-12-28</td>\n      <td>/1000-islands/</td>\n    </tr>\n    <tr>\n      <th>1</th>\n      <td>90210-recovery-california</td>\n      <td>1999-12-31</td>\n      <td>/90210-recovery-california/</td>\n    </tr>\n    <tr>\n      <th>2</th>\n      <td>abhasa-rehabilitation-thondamuthur-india</td>\n      <td>2023-03-25</td>\n      <td>/abhasa-rehabilitation-thondamuthur-india/</td>\n    </tr>\n    <tr>\n      <th>3</th>\n      <td>None</td>\n      <td>2023-02-28</td>\n      <td>None</td>\n    </tr>\n    <tr>\n      <th>4</th>\n      <td>abhasa-wellness-retreat</td>\n      <td>2022-10-16</td>\n      <td>/abhasa-wellness-retreat/</td>\n    </tr>\n    <tr>\n      <th>...</th>\n      <td>...</td>\n      <td>...</td>\n      <td>...</td>\n    </tr>\n    <tr>\n      <th>293</th>\n      <td>wish-recovery-california</td>\n      <td>2023-07-14</td>\n      <td>/wish-recovery-california/</td>\n    </tr>\n    <tr>\n      <th>294</th>\n      <td>within-center-austin-texas</td>\n      <td>2023-10-08</td>\n      <td>/within-center-austin-texas/</td>\n    </tr>\n    <tr>\n      <th>295</th>\n      <td>zeus-rehab-warsaw-poland</td>\n      <td>2024-01-04</td>\n      <td>/zeus-rehab-warsaw-poland/</td>\n    </tr>\n    <tr>\n      <th>296</th>\n      <td>zinnia-healing-singer-island</td>\n      <td>2023-05-05</td>\n      <td>/zinnia-healing-singer-island/</td>\n    </tr>\n    <tr>\n      <th>297</th>\n      <td>None</td>\n      <td>2023-05-04</td>\n      <td>None</td>\n    </tr>\n  </tbody>\n</table>\n<p>298 rows × 3 columns</p>\n</div>"
          },
          "metadata": {}
        }
      ],
      "execution_count": null,
      "block_group": "b5bc9eb5f0de445fa76b86a08de74891"
    },
    {
      "cell_type": "markdown",
      "source": "### Getting Views from Snowflake",
      "metadata": {
        "formattedRanges": [],
        "cell_id": "e1fc3b387d5d4bfba99712af4d07a94c",
        "deepnote_cell_type": "text-cell-h3"
      },
      "block_group": "da6b7685d59e4e2894cff8ee96fe5d1f"
    },
    {
      "cell_type": "markdown",
      "source": "We can pull all of the pageviews / ppvs data from snowflake by inserting dynamic values into the SQL query. We want all of the data for yesterday's month and year. This get's the whole month of data even when yesterday was the last day of the month.",
      "metadata": {
        "cell_id": "c4eb0f04639345a4a74348f0bd12c380",
        "deepnote_cell_type": "markdown"
      },
      "block_group": "fcf24330df4949acabc3f8c5954ac39e"
    },
    {
      "cell_type": "code",
      "source": "yesterday = datetime.now(ct_timezone)-timedelta(1)\nsearch_year = yesterday.year\nsearch_month = yesterday.month",
      "metadata": {
        "source_hash": null,
        "execution_start": 1704742895266,
        "execution_millis": 22,
        "deepnote_to_be_reexecuted": false,
        "cell_id": "120fcac8a38647d29f702471e31457ba",
        "deepnote_cell_type": "code"
      },
      "outputs": [],
      "execution_count": null,
      "block_group": "fffa9c586c114e58b55d7e9ebeec04db"
    },
    {
      "cell_type": "markdown",
      "source": "We can insert dynamic values into the SQL querry by using double curly bracekts {{example}}.",
      "metadata": {
        "cell_id": "784c3fa758f8442c8fea42b18c6f2a0b",
        "deepnote_cell_type": "markdown"
      },
      "block_group": "fdca8a4bb022408082335d03064a28fd"
    },
    {
      "cell_type": "code",
      "source": "views_df = _deepnote_execute_sql('SELECT * \\nFROM RP_PROD_DL.\"CLEAN_TABLES_GA4\".CENTER_DAILY_VIEWS \\nWHERE YEAR(AS_OF_DATE) = {{search_year}} AND MONTH(AS_OF_DATE) = {{search_month}};', 'SQL_5E90C4C2_A521_4993_A1E9_D77837A4FD79', audit_sql_comment='', sql_cache_mode='cache_disabled')\nviews_df",
      "metadata": {
        "source_hash": null,
        "execution_start": 1704742895270,
        "execution_millis": 2612,
        "sql_integration_id": "5e90c4c2-a521-4993-a1e9-d77837a4fd79",
        "deepnote_variable_name": "views_df",
        "deepnote_to_be_reexecuted": false,
        "cell_id": "9342ea747b2a4792b2b0b398070d6fba",
        "deepnote_cell_type": "sql",
        "deepnote_sql_source": "SELECT * \nFROM RP_PROD_DL.\"CLEAN_TABLES_GA4\".CENTER_DAILY_VIEWS \nWHERE YEAR(AS_OF_DATE) = {{search_year}} AND MONTH(AS_OF_DATE) = {{search_month}};"
      },
      "outputs": [
        {
          "data": {
            "application/vnd.deepnote.sql-output-metadata+json": {
              "status": "success_no_cache",
              "size_in_bytes": 12300492
            }
          },
          "metadata": {},
          "output_type": "display_data"
        },
        {
          "output_type": "execute_result",
          "execution_count": 7,
          "data": {
            "application/vnd.deepnote.dataframe.v3+json": {
              "column_count": 6,
              "row_count": 38079,
              "columns": [
                {
                  "name": "as_of_date",
                  "dtype": "object",
                  "stats": {
                    "unique_count": 8,
                    "nan_count": 0,
                    "categories": [
                      {
                        "name": "2024-01-07",
                        "count": 6294
                      },
                      {
                        "name": "2024-01-06",
                        "count": 6120
                      },
                      {
                        "name": "6 others",
                        "count": 25665
                      }
                    ]
                  }
                },
                {
                  "name": "slug",
                  "dtype": "object",
                  "stats": {
                    "unique_count": 3403,
                    "nan_count": 0,
                    "categories": [
                      {
                        "name": "",
                        "count": 1247
                      },
                      {
                        "name": "united-states",
                        "count": 1024
                      },
                      {
                        "name": "3401 others",
                        "count": 35808
                      }
                    ]
                  }
                },
                {
                  "name": "property_id",
                  "dtype": "object"
                },
                {
                  "name": "region",
                  "dtype": "object"
                },
                {
                  "name": "city",
                  "dtype": "object"
                },
                {
                  "name": "number_of_views",
                  "dtype": "int64"
                },
                {
                  "name": "_deepnote_index_column",
                  "dtype": "int64"
                }
              ],
              "rows": [
                {
                  "as_of_date": "2024-01-04",
                  "slug": "browse",
                  "property_id": "278764105",
                  "region": "Missouri",
                  "city": "Boonville",
                  "number_of_views": 4,
                  "_deepnote_index_column": 0
                },
                {
                  "as_of_date": "2024-01-04",
                  "slug": "greater-boston-behavioral-health-needham-massachusetts",
                  "property_id": "278764105",
                  "region": "Massachusetts",
                  "city": "Boston",
                  "number_of_views": 3,
                  "_deepnote_index_column": 1
                },
                {
                  "as_of_date": "2024-01-04",
                  "slug": "",
                  "property_id": "278764105",
                  "region": "Tennessee",
                  "city": "Knoxville",
                  "number_of_views": 5,
                  "_deepnote_index_column": 2
                },
                {
                  "as_of_date": "2024-01-04",
                  "slug": "luxe-recovery-california",
                  "property_id": "278764105",
                  "region": "California",
                  "city": "San Diego",
                  "number_of_views": 2,
                  "_deepnote_index_column": 3
                },
                {
                  "as_of_date": "2024-01-04",
                  "slug": "",
                  "property_id": "278764105",
                  "region": "Centre-Val de Loire",
                  "city": "Pithiviers",
                  "number_of_views": 1,
                  "_deepnote_index_column": 4
                },
                {
                  "as_of_date": "2024-01-04",
                  "slug": "reflections",
                  "property_id": "278764105",
                  "region": "Georgia",
                  "city": "Atlanta",
                  "number_of_views": 3,
                  "_deepnote_index_column": 5
                },
                {
                  "as_of_date": "2024-01-04",
                  "slug": "united-states",
                  "property_id": "278764105",
                  "region": "Kentucky",
                  "city": "Louisville",
                  "number_of_views": 3,
                  "_deepnote_index_column": 6
                },
                {
                  "as_of_date": "2024-01-04",
                  "slug": "browse",
                  "property_id": "278764105",
                  "region": "Alabama",
                  "city": "Birmingham",
                  "number_of_views": 3,
                  "_deepnote_index_column": 7
                },
                {
                  "as_of_date": "2024-01-04",
                  "slug": "long-island-center-new-york",
                  "property_id": "278764105",
                  "region": "Ohio",
                  "city": "New Philadelphia",
                  "number_of_views": 2,
                  "_deepnote_index_column": 8
                },
                {
                  "as_of_date": "2024-01-04",
                  "slug": "canada",
                  "property_id": "278764105",
                  "region": "Alberta",
                  "city": "Edmonton",
                  "number_of_views": 3,
                  "_deepnote_index_column": 9
                }
              ]
            },
            "text/plain": "       as_of_date                                               slug  \\\n0      2024-01-04                                             browse   \n1      2024-01-04  greater-boston-behavioral-health-needham-massa...   \n2      2024-01-04                                                      \n3      2024-01-04                           luxe-recovery-california   \n4      2024-01-04                                                      \n...           ...                                                ...   \n38074  2024-01-07                        my-time-recovery-california   \n38075  2024-01-07                                      south-florida   \n38076  2024-01-07                                              spain   \n38077  2024-01-07                          the-orchard-on-the-brazos   \n38078  2024-01-07                             together-we-can-canada   \n\n      property_id               region               city  number_of_views  \n0       278764105             Missouri          Boonville                4  \n1       278764105        Massachusetts             Boston                3  \n2       278764105            Tennessee          Knoxville                5  \n3       278764105           California          San Diego                2  \n4       278764105  Centre-Val de Loire         Pithiviers                1  \n...           ...                  ...                ...              ...  \n38074   278764105           California             Fresno                1  \n38075   278764105              Georgia  St. Simons Island                2  \n38076   278764105        County Dublin             Dublin                1  \n38077   278764105                Texas      Wichita Falls                1  \n38078   278764105              Alberta            Lacombe                1  \n\n[38079 rows x 6 columns]",
            "text/html": "<div>\n<style scoped>\n    .dataframe tbody tr th:only-of-type {\n        vertical-align: middle;\n    }\n\n    .dataframe tbody tr th {\n        vertical-align: top;\n    }\n\n    .dataframe thead th {\n        text-align: right;\n    }\n</style>\n<table border=\"1\" class=\"dataframe\">\n  <thead>\n    <tr style=\"text-align: right;\">\n      <th></th>\n      <th>as_of_date</th>\n      <th>slug</th>\n      <th>property_id</th>\n      <th>region</th>\n      <th>city</th>\n      <th>number_of_views</th>\n    </tr>\n  </thead>\n  <tbody>\n    <tr>\n      <th>0</th>\n      <td>2024-01-04</td>\n      <td>browse</td>\n      <td>278764105</td>\n      <td>Missouri</td>\n      <td>Boonville</td>\n      <td>4</td>\n    </tr>\n    <tr>\n      <th>1</th>\n      <td>2024-01-04</td>\n      <td>greater-boston-behavioral-health-needham-massa...</td>\n      <td>278764105</td>\n      <td>Massachusetts</td>\n      <td>Boston</td>\n      <td>3</td>\n    </tr>\n    <tr>\n      <th>2</th>\n      <td>2024-01-04</td>\n      <td></td>\n      <td>278764105</td>\n      <td>Tennessee</td>\n      <td>Knoxville</td>\n      <td>5</td>\n    </tr>\n    <tr>\n      <th>3</th>\n      <td>2024-01-04</td>\n      <td>luxe-recovery-california</td>\n      <td>278764105</td>\n      <td>California</td>\n      <td>San Diego</td>\n      <td>2</td>\n    </tr>\n    <tr>\n      <th>4</th>\n      <td>2024-01-04</td>\n      <td></td>\n      <td>278764105</td>\n      <td>Centre-Val de Loire</td>\n      <td>Pithiviers</td>\n      <td>1</td>\n    </tr>\n    <tr>\n      <th>...</th>\n      <td>...</td>\n      <td>...</td>\n      <td>...</td>\n      <td>...</td>\n      <td>...</td>\n      <td>...</td>\n    </tr>\n    <tr>\n      <th>38074</th>\n      <td>2024-01-07</td>\n      <td>my-time-recovery-california</td>\n      <td>278764105</td>\n      <td>California</td>\n      <td>Fresno</td>\n      <td>1</td>\n    </tr>\n    <tr>\n      <th>38075</th>\n      <td>2024-01-07</td>\n      <td>south-florida</td>\n      <td>278764105</td>\n      <td>Georgia</td>\n      <td>St. Simons Island</td>\n      <td>2</td>\n    </tr>\n    <tr>\n      <th>38076</th>\n      <td>2024-01-07</td>\n      <td>spain</td>\n      <td>278764105</td>\n      <td>County Dublin</td>\n      <td>Dublin</td>\n      <td>1</td>\n    </tr>\n    <tr>\n      <th>38077</th>\n      <td>2024-01-07</td>\n      <td>the-orchard-on-the-brazos</td>\n      <td>278764105</td>\n      <td>Texas</td>\n      <td>Wichita Falls</td>\n      <td>1</td>\n    </tr>\n    <tr>\n      <th>38078</th>\n      <td>2024-01-07</td>\n      <td>together-we-can-canada</td>\n      <td>278764105</td>\n      <td>Alberta</td>\n      <td>Lacombe</td>\n      <td>1</td>\n    </tr>\n  </tbody>\n</table>\n<p>38079 rows × 6 columns</p>\n</div>"
          },
          "metadata": {}
        }
      ],
      "execution_count": null,
      "block_group": "ae7d116e5d2b4f4b83e71d4e7013d5d0"
    },
    {
      "cell_type": "markdown",
      "source": "Now that we have the data, let's again do some data cleaning. We need to turn `as_of_date` into a date datatype, discard data for non-advertisers and listing pages, and transform the data into a table.",
      "metadata": {
        "cell_id": "2c144534f4ff48e6a9d23e58a42d0d23",
        "deepnote_cell_type": "markdown"
      },
      "block_group": "95cbb1b694874545bc006cd5d4b76526"
    },
    {
      "cell_type": "code",
      "source": "# Formating Date:\nviews_df['as_of_date'] = views_df['as_of_date'].astype(str)\n\n# Discarding unneeded data:\nfiltered_views = views_df[views_df['slug'].isin(list_slugs)][['as_of_date', 'slug', 'number_of_views']]\n\n# Formating into a table:\npivoted_views = filtered_views.groupby(['slug', 'as_of_date'])['number_of_views'].sum().unstack().reset_index()\npivoted_views.rename(columns={'slug':'Profile Slug'},inplace=True)\npivoted_views['Page'] = \"/\"+pivoted_views['Profile Slug']+\"/\"\npivoted_views",
      "metadata": {
        "source_hash": null,
        "execution_start": 1704742897947,
        "execution_millis": 16,
        "deepnote_to_be_reexecuted": false,
        "cell_id": "e64a32a406cf4c7b8df2e72e8f890c07",
        "deepnote_cell_type": "code"
      },
      "outputs": [
        {
          "output_type": "execute_result",
          "execution_count": 8,
          "data": {
            "application/vnd.deepnote.dataframe.v3+json": {
              "column_count": 10,
              "row_count": 255,
              "columns": [
                {
                  "name": "Profile Slug",
                  "dtype": "object",
                  "stats": {
                    "unique_count": 255,
                    "nan_count": 0,
                    "categories": [
                      {
                        "name": "1000-islands",
                        "count": 1
                      },
                      {
                        "name": "90210-recovery-california",
                        "count": 1
                      },
                      {
                        "name": "253 others",
                        "count": 253
                      }
                    ]
                  }
                },
                {
                  "name": "2024-01-01",
                  "dtype": "float64",
                  "stats": {
                    "unique_count": 22,
                    "nan_count": 47,
                    "min": "1.0",
                    "max": "30.0",
                    "histogram": [
                      {
                        "bin_start": 1,
                        "bin_end": 3.9,
                        "count": 98
                      },
                      {
                        "bin_start": 3.9,
                        "bin_end": 6.8,
                        "count": 47
                      },
                      {
                        "bin_start": 6.8,
                        "bin_end": 9.7,
                        "count": 30
                      },
                      {
                        "bin_start": 9.7,
                        "bin_end": 12.6,
                        "count": 16
                      },
                      {
                        "bin_start": 12.6,
                        "bin_end": 15.5,
                        "count": 3
                      },
                      {
                        "bin_start": 15.5,
                        "bin_end": 18.4,
                        "count": 1
                      },
                      {
                        "bin_start": 18.4,
                        "bin_end": 21.3,
                        "count": 4
                      },
                      {
                        "bin_start": 21.3,
                        "bin_end": 24.2,
                        "count": 5
                      },
                      {
                        "bin_start": 24.2,
                        "bin_end": 27.099999999999998,
                        "count": 0
                      },
                      {
                        "bin_start": 27.099999999999998,
                        "bin_end": 30,
                        "count": 4
                      }
                    ]
                  }
                },
                {
                  "name": "2024-01-02",
                  "dtype": "float64",
                  "stats": {
                    "unique_count": 28,
                    "nan_count": 32,
                    "min": "1.0",
                    "max": "40.0",
                    "histogram": [
                      {
                        "bin_start": 1,
                        "bin_end": 4.9,
                        "count": 98
                      },
                      {
                        "bin_start": 4.9,
                        "bin_end": 8.8,
                        "count": 62
                      },
                      {
                        "bin_start": 8.8,
                        "bin_end": 12.7,
                        "count": 32
                      },
                      {
                        "bin_start": 12.7,
                        "bin_end": 16.6,
                        "count": 12
                      },
                      {
                        "bin_start": 16.6,
                        "bin_end": 20.5,
                        "count": 8
                      },
                      {
                        "bin_start": 20.5,
                        "bin_end": 24.4,
                        "count": 6
                      },
                      {
                        "bin_start": 24.4,
                        "bin_end": 28.3,
                        "count": 1
                      },
                      {
                        "bin_start": 28.3,
                        "bin_end": 32.2,
                        "count": 1
                      },
                      {
                        "bin_start": 32.2,
                        "bin_end": 36.1,
                        "count": 1
                      },
                      {
                        "bin_start": 36.1,
                        "bin_end": 40,
                        "count": 2
                      }
                    ]
                  }
                },
                {
                  "name": "2024-01-03",
                  "dtype": "float64",
                  "stats": {
                    "unique_count": 30,
                    "nan_count": 20,
                    "min": "1.0",
                    "max": "53.0",
                    "histogram": [
                      {
                        "bin_start": 1,
                        "bin_end": 6.2,
                        "count": 154
                      },
                      {
                        "bin_start": 6.2,
                        "bin_end": 11.4,
                        "count": 38
                      },
                      {
                        "bin_start": 11.4,
                        "bin_end": 16.6,
                        "count": 24
                      },
                      {
                        "bin_start": 16.6,
                        "bin_end": 21.8,
                        "count": 8
                      },
                      {
                        "bin_start": 21.8,
                        "bin_end": 27,
                        "count": 5
                      },
                      {
                        "bin_start": 27,
                        "bin_end": 32.2,
                        "count": 4
                      },
                      {
                        "bin_start": 32.2,
                        "bin_end": 37.4,
                        "count": 1
                      },
                      {
                        "bin_start": 37.4,
                        "bin_end": 42.6,
                        "count": 0
                      },
                      {
                        "bin_start": 42.6,
                        "bin_end": 47.800000000000004,
                        "count": 0
                      },
                      {
                        "bin_start": 47.800000000000004,
                        "bin_end": 53,
                        "count": 1
                      }
                    ]
                  }
                },
                {
                  "name": "2024-01-04",
                  "dtype": "float64",
                  "stats": {
                    "unique_count": 31,
                    "nan_count": 30,
                    "min": "1.0",
                    "max": "50.0",
                    "histogram": [
                      {
                        "bin_start": 1,
                        "bin_end": 5.9,
                        "count": 137
                      },
                      {
                        "bin_start": 5.9,
                        "bin_end": 10.8,
                        "count": 43
                      },
                      {
                        "bin_start": 10.8,
                        "bin_end": 15.700000000000001,
                        "count": 22
                      },
                      {
                        "bin_start": 15.700000000000001,
                        "bin_end": 20.6,
                        "count": 9
                      },
                      {
                        "bin_start": 20.6,
                        "bin_end": 25.5,
                        "count": 5
                      },
                      {
                        "bin_start": 25.5,
                        "bin_end": 30.400000000000002,
                        "count": 4
                      },
                      {
                        "bin_start": 30.400000000000002,
                        "bin_end": 35.300000000000004,
                        "count": 3
                      },
                      {
                        "bin_start": 35.300000000000004,
                        "bin_end": 40.2,
                        "count": 0
                      },
                      {
                        "bin_start": 40.2,
                        "bin_end": 45.1,
                        "count": 0
                      },
                      {
                        "bin_start": 45.1,
                        "bin_end": 50,
                        "count": 2
                      }
                    ]
                  }
                },
                {
                  "name": "2024-01-05",
                  "dtype": "float64",
                  "stats": {
                    "unique_count": 27,
                    "nan_count": 26,
                    "min": "1.0",
                    "max": "37.0",
                    "histogram": [
                      {
                        "bin_start": 1,
                        "bin_end": 4.6,
                        "count": 106
                      },
                      {
                        "bin_start": 4.6,
                        "bin_end": 8.2,
                        "count": 62
                      },
                      {
                        "bin_start": 8.2,
                        "bin_end": 11.8,
                        "count": 21
                      },
                      {
                        "bin_start": 11.8,
                        "bin_end": 15.4,
                        "count": 20
                      },
                      {
                        "bin_start": 15.4,
                        "bin_end": 19,
                        "count": 7
                      },
                      {
                        "bin_start": 19,
                        "bin_end": 22.6,
                        "count": 3
                      },
                      {
                        "bin_start": 22.6,
                        "bin_end": 26.2,
                        "count": 5
                      },
                      {
                        "bin_start": 26.2,
                        "bin_end": 29.8,
                        "count": 2
                      },
                      {
                        "bin_start": 29.8,
                        "bin_end": 33.4,
                        "count": 1
                      },
                      {
                        "bin_start": 33.4,
                        "bin_end": 37,
                        "count": 2
                      }
                    ]
                  }
                },
                {
                  "name": "2024-01-06",
                  "dtype": "float64",
                  "stats": {
                    "unique_count": 32,
                    "nan_count": 31,
                    "min": "1.0",
                    "max": "48.0",
                    "histogram": [
                      {
                        "bin_start": 1,
                        "bin_end": 5.7,
                        "count": 114
                      },
                      {
                        "bin_start": 5.7,
                        "bin_end": 10.4,
                        "count": 51
                      },
                      {
                        "bin_start": 10.4,
                        "bin_end": 15.100000000000001,
                        "count": 28
                      },
                      {
                        "bin_start": 15.100000000000001,
                        "bin_end": 19.8,
                        "count": 8
                      },
                      {
                        "bin_start": 19.8,
                        "bin_end": 24.5,
                        "count": 12
                      },
                      {
                        "bin_start": 24.5,
                        "bin_end": 29.200000000000003,
                        "count": 5
                      },
                      {
                        "bin_start": 29.200000000000003,
                        "bin_end": 33.9,
                        "count": 2
                      },
                      {
                        "bin_start": 33.9,
                        "bin_end": 38.6,
                        "count": 2
                      },
                      {
                        "bin_start": 38.6,
                        "bin_end": 43.300000000000004,
                        "count": 1
                      },
                      {
                        "bin_start": 43.300000000000004,
                        "bin_end": 48,
                        "count": 1
                      }
                    ]
                  }
                },
                {
                  "name": "2024-01-07",
                  "dtype": "float64",
                  "stats": {
                    "unique_count": 34,
                    "nan_count": 29,
                    "min": "1.0",
                    "max": "57.0",
                    "histogram": [
                      {
                        "bin_start": 1,
                        "bin_end": 6.6,
                        "count": 118
                      },
                      {
                        "bin_start": 6.6,
                        "bin_end": 12.2,
                        "count": 63
                      },
                      {
                        "bin_start": 12.2,
                        "bin_end": 17.799999999999997,
                        "count": 17
                      },
                      {
                        "bin_start": 17.799999999999997,
                        "bin_end": 23.4,
                        "count": 14
                      },
                      {
                        "bin_start": 23.4,
                        "bin_end": 29,
                        "count": 7
                      },
                      {
                        "bin_start": 29,
                        "bin_end": 34.599999999999994,
                        "count": 2
                      },
                      {
                        "bin_start": 34.599999999999994,
                        "bin_end": 40.199999999999996,
                        "count": 2
                      },
                      {
                        "bin_start": 40.199999999999996,
                        "bin_end": 45.8,
                        "count": 2
                      },
                      {
                        "bin_start": 45.8,
                        "bin_end": 51.4,
                        "count": 0
                      },
                      {
                        "bin_start": 51.4,
                        "bin_end": 57,
                        "count": 1
                      }
                    ]
                  }
                },
                {
                  "name": "2024-01-08",
                  "dtype": "float64",
                  "stats": {
                    "unique_count": 6,
                    "nan_count": 156,
                    "min": "1.0",
                    "max": "8.0",
                    "histogram": [
                      {
                        "bin_start": 1,
                        "bin_end": 1.7,
                        "count": 79
                      },
                      {
                        "bin_start": 1.7,
                        "bin_end": 2.4,
                        "count": 11
                      },
                      {
                        "bin_start": 2.4,
                        "bin_end": 3.0999999999999996,
                        "count": 6
                      },
                      {
                        "bin_start": 3.0999999999999996,
                        "bin_end": 3.8,
                        "count": 0
                      },
                      {
                        "bin_start": 3.8,
                        "bin_end": 4.5,
                        "count": 1
                      },
                      {
                        "bin_start": 4.5,
                        "bin_end": 5.199999999999999,
                        "count": 0
                      },
                      {
                        "bin_start": 5.199999999999999,
                        "bin_end": 5.8999999999999995,
                        "count": 0
                      },
                      {
                        "bin_start": 5.8999999999999995,
                        "bin_end": 6.6,
                        "count": 1
                      },
                      {
                        "bin_start": 6.6,
                        "bin_end": 7.3,
                        "count": 0
                      },
                      {
                        "bin_start": 7.3,
                        "bin_end": 8,
                        "count": 1
                      }
                    ]
                  }
                },
                {
                  "name": "Page",
                  "dtype": "object",
                  "stats": {
                    "unique_count": 255,
                    "nan_count": 0,
                    "categories": [
                      {
                        "name": "/1000-islands/",
                        "count": 1
                      },
                      {
                        "name": "/90210-recovery-california/",
                        "count": 1
                      },
                      {
                        "name": "253 others",
                        "count": 253
                      }
                    ]
                  }
                },
                {
                  "name": "_deepnote_index_column",
                  "dtype": "int64"
                }
              ],
              "rows": [
                {
                  "Profile Slug": "1000-islands",
                  "2024-01-01": 28,
                  "2024-01-02": 18,
                  "2024-01-03": 18,
                  "2024-01-04": 12,
                  "2024-01-05": 10,
                  "2024-01-06": 13,
                  "2024-01-07": 27,
                  "2024-01-08": 6,
                  "Page": "/1000-islands/",
                  "_deepnote_index_column": 0
                },
                {
                  "Profile Slug": "90210-recovery-california",
                  "2024-01-01": 5,
                  "2024-01-02": 2,
                  "2024-01-03": 4,
                  "2024-01-04": 4,
                  "2024-01-05": 2,
                  "2024-01-06": 6,
                  "2024-01-07": 7,
                  "2024-01-08": "nan",
                  "Page": "/90210-recovery-california/",
                  "_deepnote_index_column": 1
                },
                {
                  "Profile Slug": "abhasa-rehabilitation-india",
                  "2024-01-01": 15,
                  "2024-01-02": 11,
                  "2024-01-03": 7,
                  "2024-01-04": 8,
                  "2024-01-05": 7,
                  "2024-01-06": 12,
                  "2024-01-07": 16,
                  "2024-01-08": 1,
                  "Page": "/abhasa-rehabilitation-india/",
                  "_deepnote_index_column": 2
                },
                {
                  "Profile Slug": "abhasa-rehabilitation-thondamuthur-india",
                  "2024-01-01": 8,
                  "2024-01-02": 6,
                  "2024-01-03": 3,
                  "2024-01-04": 6,
                  "2024-01-05": 1,
                  "2024-01-06": 12,
                  "2024-01-07": 11,
                  "2024-01-08": "nan",
                  "Page": "/abhasa-rehabilitation-thondamuthur-india/",
                  "_deepnote_index_column": 3
                },
                {
                  "Profile Slug": "abhasa-wellness-retreat",
                  "2024-01-01": 7,
                  "2024-01-02": 5,
                  "2024-01-03": 7,
                  "2024-01-04": 2,
                  "2024-01-05": 3,
                  "2024-01-06": 13,
                  "2024-01-07": 12,
                  "2024-01-08": 1,
                  "Page": "/abhasa-wellness-retreat/",
                  "_deepnote_index_column": 4
                },
                {
                  "Profile Slug": "absolute-awakenings-new-jersey",
                  "2024-01-01": "nan",
                  "2024-01-02": 12,
                  "2024-01-03": 1,
                  "2024-01-04": "nan",
                  "2024-01-05": 5,
                  "2024-01-06": 1,
                  "2024-01-07": 2,
                  "2024-01-08": 1,
                  "Page": "/absolute-awakenings-new-jersey/",
                  "_deepnote_index_column": 5
                },
                {
                  "Profile Slug": "acqua-recovery",
                  "2024-01-01": 2,
                  "2024-01-02": 8,
                  "2024-01-03": 14,
                  "2024-01-04": 5,
                  "2024-01-05": 5,
                  "2024-01-06": 7,
                  "2024-01-07": 3,
                  "2024-01-08": "nan",
                  "Page": "/acqua-recovery/",
                  "_deepnote_index_column": 6
                },
                {
                  "Profile Slug": "adcare-rhode-island",
                  "2024-01-01": 7,
                  "2024-01-02": 3,
                  "2024-01-03": 1,
                  "2024-01-04": 5,
                  "2024-01-05": 9,
                  "2024-01-06": 1,
                  "2024-01-07": 7,
                  "2024-01-08": 1,
                  "Page": "/adcare-rhode-island/",
                  "_deepnote_index_column": 7
                },
                {
                  "Profile Slug": "affect2u-vosselaar-belgium",
                  "2024-01-01": 8,
                  "2024-01-02": 10,
                  "2024-01-03": 5,
                  "2024-01-04": 11,
                  "2024-01-05": 10,
                  "2024-01-06": 7,
                  "2024-01-07": 21,
                  "2024-01-08": "nan",
                  "Page": "/affect2u-vosselaar-belgium/",
                  "_deepnote_index_column": 8
                },
                {
                  "Profile Slug": "agape-treatment-center-fort-lauderdale-florida",
                  "2024-01-01": 2,
                  "2024-01-02": 1,
                  "2024-01-03": 2,
                  "2024-01-04": 3,
                  "2024-01-05": 1,
                  "2024-01-06": 3,
                  "2024-01-07": 4,
                  "2024-01-08": 1,
                  "Page": "/agape-treatment-center-fort-lauderdale-florida/",
                  "_deepnote_index_column": 9
                }
              ]
            },
            "text/plain": "as_of_date                                Profile Slug  2024-01-01  \\\n0                                         1000-islands        28.0   \n1                            90210-recovery-california         5.0   \n2                          abhasa-rehabilitation-india        15.0   \n3             abhasa-rehabilitation-thondamuthur-india         8.0   \n4                              abhasa-wellness-retreat         7.0   \n..                                                 ...         ...   \n250         wilmington-treatment-center-north-carolina         1.0   \n251                           wish-recovery-california        21.0   \n252                         within-center-austin-texas         4.0   \n253                           zeus-rehab-warsaw-poland         5.0   \n254                       zinnia-healing-singer-island         3.0   \n\nas_of_date  2024-01-02  2024-01-03  2024-01-04  2024-01-05  2024-01-06  \\\n0                 18.0        18.0        12.0        10.0        13.0   \n1                  2.0         4.0         4.0         2.0         6.0   \n2                 11.0         7.0         8.0         7.0        12.0   \n3                  6.0         3.0         6.0         1.0        12.0   \n4                  5.0         7.0         2.0         3.0        13.0   \n..                 ...         ...         ...         ...         ...   \n250                3.0         NaN         2.0         2.0         3.0   \n251               13.0        16.0        17.0        17.0        33.0   \n252                3.0        11.0        13.0         8.0         8.0   \n253                1.0         2.0         3.0         7.0        13.0   \n254                3.0         4.0         2.0         5.0         3.0   \n\nas_of_date  2024-01-07  2024-01-08  \\\n0                 27.0         6.0   \n1                  7.0         NaN   \n2                 16.0         1.0   \n3                 11.0         NaN   \n4                 12.0         1.0   \n..                 ...         ...   \n250                1.0         NaN   \n251               30.0         NaN   \n252               19.0         1.0   \n253               12.0         NaN   \n254                2.0         NaN   \n\nas_of_date                                          Page  \n0                                         /1000-islands/  \n1                            /90210-recovery-california/  \n2                          /abhasa-rehabilitation-india/  \n3             /abhasa-rehabilitation-thondamuthur-india/  \n4                              /abhasa-wellness-retreat/  \n..                                                   ...  \n250         /wilmington-treatment-center-north-carolina/  \n251                           /wish-recovery-california/  \n252                         /within-center-austin-texas/  \n253                           /zeus-rehab-warsaw-poland/  \n254                       /zinnia-healing-singer-island/  \n\n[255 rows x 10 columns]",
            "text/html": "<div>\n<style scoped>\n    .dataframe tbody tr th:only-of-type {\n        vertical-align: middle;\n    }\n\n    .dataframe tbody tr th {\n        vertical-align: top;\n    }\n\n    .dataframe thead th {\n        text-align: right;\n    }\n</style>\n<table border=\"1\" class=\"dataframe\">\n  <thead>\n    <tr style=\"text-align: right;\">\n      <th>as_of_date</th>\n      <th>Profile Slug</th>\n      <th>2024-01-01</th>\n      <th>2024-01-02</th>\n      <th>2024-01-03</th>\n      <th>2024-01-04</th>\n      <th>2024-01-05</th>\n      <th>2024-01-06</th>\n      <th>2024-01-07</th>\n      <th>2024-01-08</th>\n      <th>Page</th>\n    </tr>\n  </thead>\n  <tbody>\n    <tr>\n      <th>0</th>\n      <td>1000-islands</td>\n      <td>28.0</td>\n      <td>18.0</td>\n      <td>18.0</td>\n      <td>12.0</td>\n      <td>10.0</td>\n      <td>13.0</td>\n      <td>27.0</td>\n      <td>6.0</td>\n      <td>/1000-islands/</td>\n    </tr>\n    <tr>\n      <th>1</th>\n      <td>90210-recovery-california</td>\n      <td>5.0</td>\n      <td>2.0</td>\n      <td>4.0</td>\n      <td>4.0</td>\n      <td>2.0</td>\n      <td>6.0</td>\n      <td>7.0</td>\n      <td>NaN</td>\n      <td>/90210-recovery-california/</td>\n    </tr>\n    <tr>\n      <th>2</th>\n      <td>abhasa-rehabilitation-india</td>\n      <td>15.0</td>\n      <td>11.0</td>\n      <td>7.0</td>\n      <td>8.0</td>\n      <td>7.0</td>\n      <td>12.0</td>\n      <td>16.0</td>\n      <td>1.0</td>\n      <td>/abhasa-rehabilitation-india/</td>\n    </tr>\n    <tr>\n      <th>3</th>\n      <td>abhasa-rehabilitation-thondamuthur-india</td>\n      <td>8.0</td>\n      <td>6.0</td>\n      <td>3.0</td>\n      <td>6.0</td>\n      <td>1.0</td>\n      <td>12.0</td>\n      <td>11.0</td>\n      <td>NaN</td>\n      <td>/abhasa-rehabilitation-thondamuthur-india/</td>\n    </tr>\n    <tr>\n      <th>4</th>\n      <td>abhasa-wellness-retreat</td>\n      <td>7.0</td>\n      <td>5.0</td>\n      <td>7.0</td>\n      <td>2.0</td>\n      <td>3.0</td>\n      <td>13.0</td>\n      <td>12.0</td>\n      <td>1.0</td>\n      <td>/abhasa-wellness-retreat/</td>\n    </tr>\n    <tr>\n      <th>...</th>\n      <td>...</td>\n      <td>...</td>\n      <td>...</td>\n      <td>...</td>\n      <td>...</td>\n      <td>...</td>\n      <td>...</td>\n      <td>...</td>\n      <td>...</td>\n      <td>...</td>\n    </tr>\n    <tr>\n      <th>250</th>\n      <td>wilmington-treatment-center-north-carolina</td>\n      <td>1.0</td>\n      <td>3.0</td>\n      <td>NaN</td>\n      <td>2.0</td>\n      <td>2.0</td>\n      <td>3.0</td>\n      <td>1.0</td>\n      <td>NaN</td>\n      <td>/wilmington-treatment-center-north-carolina/</td>\n    </tr>\n    <tr>\n      <th>251</th>\n      <td>wish-recovery-california</td>\n      <td>21.0</td>\n      <td>13.0</td>\n      <td>16.0</td>\n      <td>17.0</td>\n      <td>17.0</td>\n      <td>33.0</td>\n      <td>30.0</td>\n      <td>NaN</td>\n      <td>/wish-recovery-california/</td>\n    </tr>\n    <tr>\n      <th>252</th>\n      <td>within-center-austin-texas</td>\n      <td>4.0</td>\n      <td>3.0</td>\n      <td>11.0</td>\n      <td>13.0</td>\n      <td>8.0</td>\n      <td>8.0</td>\n      <td>19.0</td>\n      <td>1.0</td>\n      <td>/within-center-austin-texas/</td>\n    </tr>\n    <tr>\n      <th>253</th>\n      <td>zeus-rehab-warsaw-poland</td>\n      <td>5.0</td>\n      <td>1.0</td>\n      <td>2.0</td>\n      <td>3.0</td>\n      <td>7.0</td>\n      <td>13.0</td>\n      <td>12.0</td>\n      <td>NaN</td>\n      <td>/zeus-rehab-warsaw-poland/</td>\n    </tr>\n    <tr>\n      <th>254</th>\n      <td>zinnia-healing-singer-island</td>\n      <td>3.0</td>\n      <td>3.0</td>\n      <td>4.0</td>\n      <td>2.0</td>\n      <td>5.0</td>\n      <td>3.0</td>\n      <td>2.0</td>\n      <td>NaN</td>\n      <td>/zinnia-healing-singer-island/</td>\n    </tr>\n  </tbody>\n</table>\n<p>255 rows × 10 columns</p>\n</div>"
          },
          "metadata": {}
        }
      ],
      "execution_count": null,
      "block_group": "abca522adceb4da5b81f9246206046b2"
    },
    {
      "cell_type": "markdown",
      "source": "### Removing PPVs Before GoLive Dates",
      "metadata": {
        "formattedRanges": [],
        "cell_id": "1741a162b56c437ab06c60f5c6762cee",
        "deepnote_cell_type": "text-cell-h3"
      },
      "block_group": "f3554a7d721f4098a1841aa0d78d7c33"
    },
    {
      "cell_type": "markdown",
      "source": "Our PPV data is now ready to be combined with the GoLive dates. This will allow us to search whether a column is before a center's GoLive date. If it is, we're going to set the PPVs on that day to zero.",
      "metadata": {
        "cell_id": "4504312391f1484b96559c38f088bcce",
        "deepnote_cell_type": "markdown"
      },
      "block_group": "edae58c7d2a74ce7bf7043b9c434e103"
    },
    {
      "cell_type": "code",
      "source": "# Mergeing/joining our two dataframes:\nmerged_df = pd.merge(pivoted_views, cleaned_data_df, on='Page', how='left')\nlist_cols = list(merged_df.columns[1:])\nlist_cols.remove('GoLive Date')\nlist_cols.remove('Page')\nlist_cols.remove('Profile Slug_y')\n\n# Discarding extra columns and moving 'Page' to front:\nmerged_df = merged_df[['Page','GoLive Date'] + list(list_cols)]",
      "metadata": {
        "source_hash": null,
        "execution_start": 1704742897952,
        "execution_millis": 12,
        "deepnote_to_be_reexecuted": false,
        "cell_id": "b68e13f43c18496ab157d30f284a78c3",
        "deepnote_cell_type": "code"
      },
      "outputs": [],
      "execution_count": null,
      "block_group": "6ee90474b0dd4566893412dd077c99be"
    },
    {
      "cell_type": "markdown",
      "source": "All dates currently in Snowflake for month:",
      "metadata": {
        "formattedRanges": [],
        "cell_id": "9f6780b338c446de8aa10381438f24ab",
        "deepnote_cell_type": "text-cell-p"
      },
      "block_group": "a51fe9af5b2e42e699441e43a1238f01"
    },
    {
      "cell_type": "code",
      "source": "list_cols",
      "metadata": {
        "source_hash": null,
        "execution_start": 1704742898004,
        "execution_millis": 48,
        "deepnote_to_be_reexecuted": false,
        "cell_id": "6716aff97adf418aa2e81dfbdcc95237",
        "deepnote_cell_type": "code"
      },
      "outputs": [
        {
          "output_type": "execute_result",
          "execution_count": 10,
          "data": {
            "text/plain": "['2024-01-01',\n '2024-01-02',\n '2024-01-03',\n '2024-01-04',\n '2024-01-05',\n '2024-01-06',\n '2024-01-07',\n '2024-01-08']"
          },
          "metadata": {}
        }
      ],
      "execution_count": null,
      "block_group": "1ee4b46b5b8c48f4b1377df19322c0b3"
    },
    {
      "cell_type": "markdown",
      "source": "Since GoLive Date has been moved, we need to turn it into a date, again, but it is already formated correctly from our ealier work. \n\nWe are then ready to use the column dates and `Go Live Dates` to discard PPVs before a center was live.",
      "metadata": {
        "cell_id": "796dee6d91bc40799ca9cae29f79924b",
        "deepnote_cell_type": "markdown"
      },
      "block_group": "534a4b5d3b7d4f978b3fb1894d1beb82"
    },
    {
      "cell_type": "markdown",
      "source": "Getting Exmpetion dates from Oscar Diggs by using `get_data` function:",
      "metadata": {
        "cell_id": "16262e4267ca41d99e2f7d8083b7b464",
        "deepnote_cell_type": "markdown"
      },
      "block_group": "9d00ca7756ba4b058759c403ab060b37"
    },
    {
      "cell_type": "code",
      "source": "show_doc(get_data)",
      "metadata": {
        "source_hash": "d7da9bcd",
        "execution_start": 1704756472893,
        "execution_millis": 13,
        "deepnote_to_be_reexecuted": false,
        "cell_id": "63fd4a97dc6944fc9b5af67ae1e4a728",
        "deepnote_cell_type": "code"
      },
      "outputs": [
        {
          "output_type": "execute_result",
          "execution_count": 13,
          "data": {
            "text/plain": "---\n\n### get_data\n\n>      get_data (spreadsheet_id:str, range_name:str,\n>                credentials_file:str='credentials.json',\n>                token_file:str='token.json')\n\nFunction to fetch data from Google Sheets.\n\n|    | **Type** | **Default** | **Details** |\n| -- | -------- | ----------- | ----------- |\n| spreadsheet_id | str |  | ID of spreadhseet. Found in url to gsheet after '/d/' |\n| range_name | str |  | Name location where you want the data sent. |\n| credentials_file | str | credentials.json | path to json credentials file. |\n| token_file | str | token.json | path to token json file |\n| **Returns** | **DataFrame** |  | **Returns results as DataFrame** |",
            "text/markdown": "---\n\n### get_data\n\n>      get_data (spreadsheet_id:str, range_name:str,\n>                credentials_file:str='credentials.json',\n>                token_file:str='token.json')\n\nFunction to fetch data from Google Sheets.\n\n|    | **Type** | **Default** | **Details** |\n| -- | -------- | ----------- | ----------- |\n| spreadsheet_id | str |  | ID of spreadhseet. Found in url to gsheet after '/d/' |\n| range_name | str |  | Name location where you want the data sent. |\n| credentials_file | str | credentials.json | path to json credentials file. |\n| token_file | str | token.json | path to token json file |\n| **Returns** | **DataFrame** |  | **Returns results as DataFrame** |"
          },
          "metadata": {}
        }
      ],
      "execution_count": 13,
      "block_group": "fc8b7d9a8d7043e3901bee94bd8ee520"
    },
    {
      "cell_type": "code",
      "source": "# Getting Data:\nexemption_data = get_data('17BIW8GWs5Ap9XGZL4ms8kg7ZNfYA8yRZtQtnCKgXWi8','Testing_Exemptions (DaveK Example)')",
      "metadata": {
        "source_hash": null,
        "execution_start": 1704742898004,
        "execution_millis": 659,
        "deepnote_table_state": {
          "sortBy": [],
          "filters": [],
          "pageSize": 10,
          "pageIndex": 2
        },
        "deepnote_table_loading": false,
        "deepnote_to_be_reexecuted": false,
        "cell_id": "ab3bd8d16a474777a4025ef79cf9ea75",
        "deepnote_cell_type": "code"
      },
      "outputs": [],
      "execution_count": null,
      "block_group": "5ae725e9304f428e832a380e247c8fd1"
    },
    {
      "cell_type": "markdown",
      "source": "Now that we have the data, we need to do some data cleaning:\n- Filter out unrelated exemptions\n- Turn `Exemption Start` and `Exemption End` into dates\n- Fitler exemptions to only those in the relevant month",
      "metadata": {
        "cell_id": "05333eb921b94c19aa64dead38cc1b45",
        "deepnote_cell_type": "markdown"
      },
      "block_group": "079e5c0fa6164a1984d82ef721e3b22b"
    },
    {
      "cell_type": "code",
      "source": "# Check if 'Exemption' column is present in dataframe before proceeding\nexemption_data_filtered = exemption_data[exemption_data['Exemption'] == 'Exclude from Billable'].copy()\nexemption_data_filtered.drop(columns=['Exemption','Exemption Value'], inplace=True)\n\n# Setting Start and End columns to date datattype:\nexemption_data_filtered['Exemption Start'] = pd.to_datetime(exemption_data_filtered['Exemption Start'])\nexemption_data_filtered['Exemption End'] = pd.to_datetime(exemption_data_filtered['Exemption End'])\n\n# Filtering to only relevant exemptions:\nexemption_data_filtered = exemption_data_filtered[\n    (exemption_data_filtered['Exemption Start'].dt.year == search_year) | \n    (exemption_data_filtered['Exemption End'].dt.year == search_year)\n]\nexemption_data_filtered = exemption_data_filtered[\n    (exemption_data_filtered['Exemption Start'].dt.month == search_month) | \n    (exemption_data_filtered['Exemption End'].dt.month == search_month)\n]",
      "metadata": {
        "cell_id": "f64296266b9e45e39a2c36722624fe52",
        "deepnote_cell_type": "code"
      },
      "outputs": [],
      "execution_count": null,
      "block_group": "c62464893cef44948f47887c7c52cb52"
    },
    {
      "cell_type": "markdown",
      "source": "We also need to turn `Slug` into `Page` so that it is alaigned with merged_df which uses Page.",
      "metadata": {
        "cell_id": "0c85142e9650414b887d8bc81db01620",
        "deepnote_cell_type": "markdown"
      },
      "block_group": "1cae0ab6dd0043d99395833a7c5a712f"
    },
    {
      "cell_type": "code",
      "source": "exemption_data_filtered['Page'] = \"/\"+ exemption_data_filtered['Slug']+\"/\"\nexemption_data_filtered.drop(columns='Slug',inplace=True)",
      "metadata": {
        "source_hash": null,
        "execution_start": 1704742898665,
        "execution_millis": 17,
        "deepnote_to_be_reexecuted": false,
        "cell_id": "61448f849b6843b49df0df17e5f86f5b",
        "deepnote_cell_type": "code"
      },
      "outputs": [],
      "execution_count": null,
      "block_group": "dd24b29164844823803d2f079c0a452c"
    },
    {
      "cell_type": "code",
      "source": "import pandas as pd\nfrom datetime import datetime, timedelta\n\nlist_of_changes = [] \ndef check_dates(row, list_cols, exemption_data):\n    go_live_date = pd.to_datetime(row['GoLive Date']) + timedelta(days=1)\n    center_page = row['Page']\n    if pd.isnull(go_live_date):\n        for col in list_cols:\n            row[col] = ''\n            list_of_changes.append([center_page,col,\"Not Live - Note GoLive Date\"])\n    else:\n        for col in list_cols:\n            col_date = datetime.strptime(col, \"%Y-%m-%d\")\n            if col_date < go_live_date:\n                row[col] = ''\n                list_of_changes.append([center_page,col,\"Before Golive\"])\n        \n            if len(exemption_data_filtered) == 0:\n                break\n\n            center_exemptions = exemption_data_filtered[exemption_data_filtered['Page'] == row['Page']].copy()\n            if len(filtered_exemptions) == 0:\n                break\n\n            for _, sub_row in center_exemptions.iterrows():\n                exemption_start = pd.to_datetime(sub_row['Exemption Start'])\n                exemption_end = pd.to_datetime(sub_row['Exemption End'])\n                if col_date >= exemption_start and col_date <= exemption_end:\n                    row[col] = ''\n                    list_of_changes.append([center_page,col,\"Date Excluded\"])\n                    break  # Exit the loop once a match is found\n\n    return row\n\ndef safe_date_check(row, list_cols):\n    go_live_date = pd.to_datetime(row['GoLive Date']) + timedelta(days=1)\n    center_page = row['Page']\n    if pd.isnull(go_live_date):\n        for col in list_cols:\n            row[col] = ''\n            list_of_changes.append([center_page,col,\"Not Live - Note GoLive Date\"])\n    else:\n        for col in list_cols:\n            col_date = datetime.strptime(col, \"%Y-%m-%d\")\n            if col_date < go_live_date:\n                row[col] = ''\n                list_of_changes.append([center_page,col,\"Before Golive\"])\n        \n# Apply the function\ntry:\n    merged_df = merged_df.apply(lambda row: check_dates(row, list_cols, exemption_data_filtered), axis=1)\nexcept Exception as e:\n    print(f'Error encountered.\\n {e} ')\n    print('Revering to just excluding dates. Manual edits needed.')\n    merged_df = merged_df.apply(lambda row: safe_date_check(row, list_cols), axis=1)\n\ndf_changes = pd.DataFrame(list_of_changes)\ndf_changes.rename(columns={0:\"Page\",1:'Date',2:'Reason'})",
      "metadata": {
        "source_hash": null,
        "execution_start": 1704742898671,
        "execution_millis": 61,
        "deepnote_to_be_reexecuted": false,
        "cell_id": "46b1c37b8b804b20a8f63872f4f0cd69",
        "deepnote_cell_type": "code"
      },
      "outputs": [
        {
          "output_type": "execute_result",
          "execution_count": 13,
          "data": {
            "application/vnd.deepnote.dataframe.v3+json": {
              "column_count": 3,
              "row_count": 191,
              "columns": [
                {
                  "name": "Page",
                  "dtype": "object",
                  "stats": {
                    "unique_count": 30,
                    "nan_count": 0,
                    "categories": [
                      {
                        "name": "/agape-treatment-center-fort-lauderdale-florida/",
                        "count": 8
                      },
                      {
                        "name": "/allure-detox-florida/",
                        "count": 8
                      },
                      {
                        "name": "28 others",
                        "count": 175
                      }
                    ]
                  }
                },
                {
                  "name": "Date",
                  "dtype": "object",
                  "stats": {
                    "unique_count": 8,
                    "nan_count": 0,
                    "categories": [
                      {
                        "name": "2024-01-01",
                        "count": 30
                      },
                      {
                        "name": "2024-01-02",
                        "count": 23
                      },
                      {
                        "name": "6 others",
                        "count": 138
                      }
                    ]
                  }
                },
                {
                  "name": "Reason",
                  "dtype": "object",
                  "stats": {
                    "unique_count": 2,
                    "nan_count": 0,
                    "categories": [
                      {
                        "name": "Not Live - Note GoLive Date",
                        "count": 184
                      },
                      {
                        "name": "Before Golive",
                        "count": 7
                      }
                    ]
                  }
                },
                {
                  "name": "_deepnote_index_column",
                  "dtype": "int64"
                }
              ],
              "rows": [
                {
                  "Page": "/arrow-passage-recovery-center-ohio/",
                  "Date": "2024-01-05",
                  "Reason": "Not Live - Note GoLive Date",
                  "_deepnote_index_column": 20
                },
                {
                  "Page": "/arrow-passage-recovery-center-ohio/",
                  "Date": "2024-01-06",
                  "Reason": "Not Live - Note GoLive Date",
                  "_deepnote_index_column": 21
                },
                {
                  "Page": "/arrow-passage-recovery-center-ohio/",
                  "Date": "2024-01-07",
                  "Reason": "Not Live - Note GoLive Date",
                  "_deepnote_index_column": 22
                },
                {
                  "Page": "/arrow-passage-recovery-center-ohio/",
                  "Date": "2024-01-08",
                  "Reason": "Not Live - Note GoLive Date",
                  "_deepnote_index_column": 23
                },
                {
                  "Page": "/banyan-chicago/",
                  "Date": "2024-01-01",
                  "Reason": "Before Golive",
                  "_deepnote_index_column": 24
                },
                {
                  "Page": "/banyan-heartland/",
                  "Date": "2024-01-01",
                  "Reason": "Before Golive",
                  "_deepnote_index_column": 25
                },
                {
                  "Page": "/borden-cottage/",
                  "Date": "2024-01-01",
                  "Reason": "Not Live - Note GoLive Date",
                  "_deepnote_index_column": 26
                },
                {
                  "Page": "/borden-cottage/",
                  "Date": "2024-01-02",
                  "Reason": "Not Live - Note GoLive Date",
                  "_deepnote_index_column": 27
                },
                {
                  "Page": "/borden-cottage/",
                  "Date": "2024-01-03",
                  "Reason": "Not Live - Note GoLive Date",
                  "_deepnote_index_column": 28
                },
                {
                  "Page": "/borden-cottage/",
                  "Date": "2024-01-04",
                  "Reason": "Not Live - Note GoLive Date",
                  "_deepnote_index_column": 29
                }
              ]
            },
            "text/plain": "                                                 Page        Date  \\\n0    /agape-treatment-center-fort-lauderdale-florida/  2024-01-01   \n1    /agape-treatment-center-fort-lauderdale-florida/  2024-01-02   \n2    /agape-treatment-center-fort-lauderdale-florida/  2024-01-03   \n3    /agape-treatment-center-fort-lauderdale-florida/  2024-01-04   \n4    /agape-treatment-center-fort-lauderdale-florida/  2024-01-05   \n..                                                ...         ...   \n186           /white-deer-run-lancaster-pennsylvania/  2024-01-05   \n187           /white-deer-run-lancaster-pennsylvania/  2024-01-06   \n188           /white-deer-run-lancaster-pennsylvania/  2024-01-07   \n189           /white-deer-run-lancaster-pennsylvania/  2024-01-08   \n190                        /zeus-rehab-warsaw-poland/  2024-01-01   \n\n                          Reason  \n0    Not Live - Note GoLive Date  \n1    Not Live - Note GoLive Date  \n2    Not Live - Note GoLive Date  \n3    Not Live - Note GoLive Date  \n4    Not Live - Note GoLive Date  \n..                           ...  \n186  Not Live - Note GoLive Date  \n187  Not Live - Note GoLive Date  \n188  Not Live - Note GoLive Date  \n189  Not Live - Note GoLive Date  \n190                Before Golive  \n\n[191 rows x 3 columns]",
            "text/html": "<div>\n<style scoped>\n    .dataframe tbody tr th:only-of-type {\n        vertical-align: middle;\n    }\n\n    .dataframe tbody tr th {\n        vertical-align: top;\n    }\n\n    .dataframe thead th {\n        text-align: right;\n    }\n</style>\n<table border=\"1\" class=\"dataframe\">\n  <thead>\n    <tr style=\"text-align: right;\">\n      <th></th>\n      <th>Page</th>\n      <th>Date</th>\n      <th>Reason</th>\n    </tr>\n  </thead>\n  <tbody>\n    <tr>\n      <th>0</th>\n      <td>/agape-treatment-center-fort-lauderdale-florida/</td>\n      <td>2024-01-01</td>\n      <td>Not Live - Note GoLive Date</td>\n    </tr>\n    <tr>\n      <th>1</th>\n      <td>/agape-treatment-center-fort-lauderdale-florida/</td>\n      <td>2024-01-02</td>\n      <td>Not Live - Note GoLive Date</td>\n    </tr>\n    <tr>\n      <th>2</th>\n      <td>/agape-treatment-center-fort-lauderdale-florida/</td>\n      <td>2024-01-03</td>\n      <td>Not Live - Note GoLive Date</td>\n    </tr>\n    <tr>\n      <th>3</th>\n      <td>/agape-treatment-center-fort-lauderdale-florida/</td>\n      <td>2024-01-04</td>\n      <td>Not Live - Note GoLive Date</td>\n    </tr>\n    <tr>\n      <th>4</th>\n      <td>/agape-treatment-center-fort-lauderdale-florida/</td>\n      <td>2024-01-05</td>\n      <td>Not Live - Note GoLive Date</td>\n    </tr>\n    <tr>\n      <th>...</th>\n      <td>...</td>\n      <td>...</td>\n      <td>...</td>\n    </tr>\n    <tr>\n      <th>186</th>\n      <td>/white-deer-run-lancaster-pennsylvania/</td>\n      <td>2024-01-05</td>\n      <td>Not Live - Note GoLive Date</td>\n    </tr>\n    <tr>\n      <th>187</th>\n      <td>/white-deer-run-lancaster-pennsylvania/</td>\n      <td>2024-01-06</td>\n      <td>Not Live - Note GoLive Date</td>\n    </tr>\n    <tr>\n      <th>188</th>\n      <td>/white-deer-run-lancaster-pennsylvania/</td>\n      <td>2024-01-07</td>\n      <td>Not Live - Note GoLive Date</td>\n    </tr>\n    <tr>\n      <th>189</th>\n      <td>/white-deer-run-lancaster-pennsylvania/</td>\n      <td>2024-01-08</td>\n      <td>Not Live - Note GoLive Date</td>\n    </tr>\n    <tr>\n      <th>190</th>\n      <td>/zeus-rehab-warsaw-poland/</td>\n      <td>2024-01-01</td>\n      <td>Before Golive</td>\n    </tr>\n  </tbody>\n</table>\n<p>191 rows × 3 columns</p>\n</div>"
          },
          "metadata": {}
        }
      ],
      "execution_count": null,
      "block_group": "a61e9c0060a543b2bb0a9de9d7c90516"
    },
    {
      "cell_type": "markdown",
      "source": "Because of the quirks of Google Sheets, I'm going to add empty columns to the date of the dataframe to ensure the total number of columns is always equal to 33. This ensures that Dave's formulas for finding the PPVs still work.",
      "metadata": {
        "cell_id": "2e4baaabc4314f16b28f2194b6d8d0a7",
        "deepnote_cell_type": "markdown"
      },
      "block_group": "b6161e23741a49c3bacb8ba5f016a0f5"
    },
    {
      "cell_type": "code",
      "source": "def ensure_32_columns(df):\n    current_column_count = df.shape[1]\n    columns_to_add = 33 - current_column_count\n\n    for i in range(columns_to_add):\n        df[f'Empty Column {current_column_count + i + 1}'] = pd.NA\n\n    return df\n\n\nmerged_df = ensure_32_columns(merged_df)\nmerged_df = merged_df.where(pd.notnull(merged_df), '')",
      "metadata": {
        "source_hash": null,
        "execution_start": 1704742898776,
        "execution_millis": 7,
        "deepnote_to_be_reexecuted": false,
        "cell_id": "1d5b8038acbe45fbba17ae5cb8457353",
        "deepnote_cell_type": "code"
      },
      "outputs": [],
      "execution_count": null,
      "block_group": "765e39523cbe4328933dd5eb37da541e"
    },
    {
      "cell_type": "markdown",
      "source": "After dropping `Go Live Date`, or data is finalized and ready to be sent to the APRB sheet:",
      "metadata": {
        "cell_id": "0809681a2f8c4c54b505c6efa7592c25",
        "deepnote_cell_type": "markdown"
      },
      "block_group": "45bc9eac37a04dcabb700de2d8247e75"
    },
    {
      "cell_type": "code",
      "source": "finished_data = merged_df.drop(columns=['GoLive Date'])\nfinished_data",
      "metadata": {
        "source_hash": null,
        "execution_start": 1704742898776,
        "execution_millis": 34,
        "deepnote_table_state": {
          "sortBy": [],
          "filters": [],
          "pageSize": 25,
          "pageIndex": 3
        },
        "deepnote_table_loading": false,
        "deepnote_to_be_reexecuted": false,
        "cell_id": "a3e6f9d392834170a920c34182669983",
        "deepnote_cell_type": "code"
      },
      "outputs": [
        {
          "output_type": "execute_result",
          "execution_count": 15,
          "data": {
            "application/vnd.deepnote.dataframe.v3+json": {
              "column_count": 32,
              "row_count": 255,
              "columns": [
                {
                  "name": "Page",
                  "dtype": "object",
                  "stats": {
                    "unique_count": 255,
                    "nan_count": 0,
                    "categories": [
                      {
                        "name": "/1000-islands/",
                        "count": 1
                      },
                      {
                        "name": "/90210-recovery-california/",
                        "count": 1
                      },
                      {
                        "name": "253 others",
                        "count": 253
                      }
                    ]
                  }
                },
                {
                  "name": "2024-01-01",
                  "dtype": "object",
                  "stats": {
                    "unique_count": 23,
                    "nan_count": 0,
                    "categories": [
                      {
                        "name": "",
                        "count": 60
                      },
                      {
                        "name": "2.0",
                        "count": 33
                      },
                      {
                        "name": "21 others",
                        "count": 162
                      }
                    ]
                  }
                },
                {
                  "name": "2024-01-02",
                  "dtype": "object",
                  "stats": {
                    "unique_count": 29,
                    "nan_count": 0,
                    "categories": [
                      {
                        "name": "",
                        "count": 45
                      },
                      {
                        "name": "1.0",
                        "count": 32
                      },
                      {
                        "name": "27 others",
                        "count": 178
                      }
                    ]
                  }
                },
                {
                  "name": "2024-01-03",
                  "dtype": "object",
                  "stats": {
                    "unique_count": 31,
                    "nan_count": 0,
                    "categories": [
                      {
                        "name": "",
                        "count": 36
                      },
                      {
                        "name": "2.0",
                        "count": 36
                      },
                      {
                        "name": "29 others",
                        "count": 183
                      }
                    ]
                  }
                },
                {
                  "name": "2024-01-04",
                  "dtype": "object",
                  "stats": {
                    "unique_count": 32,
                    "nan_count": 0,
                    "categories": [
                      {
                        "name": "",
                        "count": 44
                      },
                      {
                        "name": "5.0",
                        "count": 27
                      },
                      {
                        "name": "30 others",
                        "count": 184
                      }
                    ]
                  }
                },
                {
                  "name": "2024-01-05",
                  "dtype": "object",
                  "stats": {
                    "unique_count": 28,
                    "nan_count": 0,
                    "categories": [
                      {
                        "name": "",
                        "count": 44
                      },
                      {
                        "name": "2.0",
                        "count": 29
                      },
                      {
                        "name": "26 others",
                        "count": 182
                      }
                    ]
                  }
                },
                {
                  "name": "2024-01-06",
                  "dtype": "object",
                  "stats": {
                    "unique_count": 33,
                    "nan_count": 0,
                    "categories": [
                      {
                        "name": "",
                        "count": 46
                      },
                      {
                        "name": "1.0",
                        "count": 28
                      },
                      {
                        "name": "31 others",
                        "count": 181
                      }
                    ]
                  }
                },
                {
                  "name": "2024-01-07",
                  "dtype": "object",
                  "stats": {
                    "unique_count": 35,
                    "nan_count": 0,
                    "categories": [
                      {
                        "name": "",
                        "count": 42
                      },
                      {
                        "name": "2.0",
                        "count": 24
                      },
                      {
                        "name": "33 others",
                        "count": 189
                      }
                    ]
                  }
                },
                {
                  "name": "2024-01-08",
                  "dtype": "object",
                  "stats": {
                    "unique_count": 7,
                    "nan_count": 0,
                    "categories": [
                      {
                        "name": "",
                        "count": 163
                      },
                      {
                        "name": "1.0",
                        "count": 72
                      },
                      {
                        "name": "5 others",
                        "count": 20
                      }
                    ]
                  }
                },
                {
                  "name": "Empty Column 11",
                  "dtype": "object",
                  "stats": {
                    "unique_count": 1,
                    "nan_count": 0,
                    "categories": [
                      {
                        "name": "",
                        "count": 255
                      }
                    ]
                  }
                },
                {
                  "name": "Empty Column 12",
                  "dtype": "object",
                  "stats": {
                    "unique_count": 1,
                    "nan_count": 0,
                    "categories": [
                      {
                        "name": "",
                        "count": 255
                      }
                    ]
                  }
                },
                {
                  "name": "Empty Column 13",
                  "dtype": "object",
                  "stats": {
                    "unique_count": 1,
                    "nan_count": 0,
                    "categories": [
                      {
                        "name": "",
                        "count": 255
                      }
                    ]
                  }
                },
                {
                  "name": "Empty Column 14",
                  "dtype": "object",
                  "stats": {
                    "unique_count": 1,
                    "nan_count": 0,
                    "categories": [
                      {
                        "name": "",
                        "count": 255
                      }
                    ]
                  }
                },
                {
                  "name": "Empty Column 15",
                  "dtype": "object",
                  "stats": {
                    "unique_count": 1,
                    "nan_count": 0,
                    "categories": [
                      {
                        "name": "",
                        "count": 255
                      }
                    ]
                  }
                },
                {
                  "name": "Empty Column 16",
                  "dtype": "object",
                  "stats": {
                    "unique_count": 1,
                    "nan_count": 0,
                    "categories": [
                      {
                        "name": "",
                        "count": 255
                      }
                    ]
                  }
                },
                {
                  "name": "Empty Column 17",
                  "dtype": "object",
                  "stats": {
                    "unique_count": 1,
                    "nan_count": 0,
                    "categories": [
                      {
                        "name": "",
                        "count": 255
                      }
                    ]
                  }
                },
                {
                  "name": "Empty Column 18",
                  "dtype": "object",
                  "stats": {
                    "unique_count": 1,
                    "nan_count": 0,
                    "categories": [
                      {
                        "name": "",
                        "count": 255
                      }
                    ]
                  }
                },
                {
                  "name": "Empty Column 19",
                  "dtype": "object",
                  "stats": {
                    "unique_count": 1,
                    "nan_count": 0,
                    "categories": [
                      {
                        "name": "",
                        "count": 255
                      }
                    ]
                  }
                },
                {
                  "name": "Empty Column 20",
                  "dtype": "object",
                  "stats": {
                    "unique_count": 1,
                    "nan_count": 0,
                    "categories": [
                      {
                        "name": "",
                        "count": 255
                      }
                    ]
                  }
                },
                {
                  "name": "Empty Column 21",
                  "dtype": "object",
                  "stats": {
                    "unique_count": 1,
                    "nan_count": 0,
                    "categories": [
                      {
                        "name": "",
                        "count": 255
                      }
                    ]
                  }
                },
                {
                  "name": "Empty Column 22",
                  "dtype": "object",
                  "stats": {
                    "unique_count": 1,
                    "nan_count": 0,
                    "categories": [
                      {
                        "name": "",
                        "count": 255
                      }
                    ]
                  }
                },
                {
                  "name": "Empty Column 23",
                  "dtype": "object",
                  "stats": {
                    "unique_count": 1,
                    "nan_count": 0,
                    "categories": [
                      {
                        "name": "",
                        "count": 255
                      }
                    ]
                  }
                },
                {
                  "name": "Empty Column 24",
                  "dtype": "object",
                  "stats": {
                    "unique_count": 1,
                    "nan_count": 0,
                    "categories": [
                      {
                        "name": "",
                        "count": 255
                      }
                    ]
                  }
                },
                {
                  "name": "Empty Column 25",
                  "dtype": "object",
                  "stats": {
                    "unique_count": 1,
                    "nan_count": 0,
                    "categories": [
                      {
                        "name": "",
                        "count": 255
                      }
                    ]
                  }
                },
                {
                  "name": "Empty Column 26",
                  "dtype": "object",
                  "stats": {
                    "unique_count": 1,
                    "nan_count": 0,
                    "categories": [
                      {
                        "name": "",
                        "count": 255
                      }
                    ]
                  }
                },
                {
                  "name": "Empty Column 27",
                  "dtype": "object",
                  "stats": {
                    "unique_count": 1,
                    "nan_count": 0,
                    "categories": [
                      {
                        "name": "",
                        "count": 255
                      }
                    ]
                  }
                },
                {
                  "name": "Empty Column 28",
                  "dtype": "object",
                  "stats": {
                    "unique_count": 1,
                    "nan_count": 0,
                    "categories": [
                      {
                        "name": "",
                        "count": 255
                      }
                    ]
                  }
                },
                {
                  "name": "Empty Column 29",
                  "dtype": "object",
                  "stats": {
                    "unique_count": 1,
                    "nan_count": 0,
                    "categories": [
                      {
                        "name": "",
                        "count": 255
                      }
                    ]
                  }
                },
                {
                  "name": "Empty Column 30",
                  "dtype": "object",
                  "stats": {
                    "unique_count": 1,
                    "nan_count": 0,
                    "categories": [
                      {
                        "name": "",
                        "count": 255
                      }
                    ]
                  }
                },
                {
                  "name": "Empty Column 31",
                  "dtype": "object",
                  "stats": {
                    "unique_count": 1,
                    "nan_count": 0,
                    "categories": [
                      {
                        "name": "",
                        "count": 255
                      }
                    ]
                  }
                },
                {
                  "name": "Empty Column 32",
                  "dtype": "object",
                  "stats": {
                    "unique_count": 1,
                    "nan_count": 0,
                    "categories": [
                      {
                        "name": "",
                        "count": 255
                      }
                    ]
                  }
                },
                {
                  "name": "Empty Column 33",
                  "dtype": "object",
                  "stats": {
                    "unique_count": 1,
                    "nan_count": 0,
                    "categories": [
                      {
                        "name": "",
                        "count": 255
                      }
                    ]
                  }
                },
                {
                  "name": "_deepnote_index_column",
                  "dtype": "int64"
                }
              ],
              "rows": [
                {
                  "Page": "/fairwinds-treatment-center-florida/",
                  "2024-01-01": "1.0",
                  "2024-01-02": "1.0",
                  "2024-01-03": "",
                  "2024-01-04": "6.0",
                  "2024-01-05": "4.0",
                  "2024-01-06": "2.0",
                  "2024-01-07": "6.0",
                  "2024-01-08": "",
                  "Empty Column 11": "",
                  "Empty Column 12": "",
                  "Empty Column 13": "",
                  "Empty Column 14": "",
                  "Empty Column 15": "",
                  "Empty Column 16": "",
                  "Empty Column 17": "",
                  "Empty Column 18": "",
                  "Empty Column 19": "",
                  "Empty Column 20": "",
                  "Empty Column 21": "",
                  "Empty Column 22": "",
                  "Empty Column 23": "",
                  "Empty Column 24": "",
                  "Empty Column 25": "",
                  "Empty Column 26": "",
                  "Empty Column 27": "",
                  "Empty Column 28": "",
                  "Empty Column 29": "",
                  "Empty Column 30": "",
                  "Empty Column 31": "",
                  "Empty Column 32": "",
                  "Empty Column 33": "",
                  "_deepnote_index_column": 75
                },
                {
                  "Page": "/flatirons-recovery-colorado/",
                  "2024-01-01": "2.0",
                  "2024-01-02": "9.0",
                  "2024-01-03": "9.0",
                  "2024-01-04": "5.0",
                  "2024-01-05": "2.0",
                  "2024-01-06": "4.0",
                  "2024-01-07": "4.0",
                  "2024-01-08": "1.0",
                  "Empty Column 11": "",
                  "Empty Column 12": "",
                  "Empty Column 13": "",
                  "Empty Column 14": "",
                  "Empty Column 15": "",
                  "Empty Column 16": "",
                  "Empty Column 17": "",
                  "Empty Column 18": "",
                  "Empty Column 19": "",
                  "Empty Column 20": "",
                  "Empty Column 21": "",
                  "Empty Column 22": "",
                  "Empty Column 23": "",
                  "Empty Column 24": "",
                  "Empty Column 25": "",
                  "Empty Column 26": "",
                  "Empty Column 27": "",
                  "Empty Column 28": "",
                  "Empty Column 29": "",
                  "Empty Column 30": "",
                  "Empty Column 31": "",
                  "Empty Column 32": "",
                  "Empty Column 33": "",
                  "_deepnote_index_column": 76
                },
                {
                  "Page": "/free-by-the-sea/",
                  "2024-01-01": "",
                  "2024-01-02": "",
                  "2024-01-03": "",
                  "2024-01-04": "",
                  "2024-01-05": "",
                  "2024-01-06": "",
                  "2024-01-07": "",
                  "2024-01-08": "",
                  "Empty Column 11": "",
                  "Empty Column 12": "",
                  "Empty Column 13": "",
                  "Empty Column 14": "",
                  "Empty Column 15": "",
                  "Empty Column 16": "",
                  "Empty Column 17": "",
                  "Empty Column 18": "",
                  "Empty Column 19": "",
                  "Empty Column 20": "",
                  "Empty Column 21": "",
                  "Empty Column 22": "",
                  "Empty Column 23": "",
                  "Empty Column 24": "",
                  "Empty Column 25": "",
                  "Empty Column 26": "",
                  "Empty Column 27": "",
                  "Empty Column 28": "",
                  "Empty Column 29": "",
                  "Empty Column 30": "",
                  "Empty Column 31": "",
                  "Empty Column 32": "",
                  "Empty Column 33": "",
                  "_deepnote_index_column": 77
                },
                {
                  "Page": "/freedom-bali/",
                  "2024-01-01": "1.0",
                  "2024-01-02": "7.0",
                  "2024-01-03": "4.0",
                  "2024-01-04": "5.0",
                  "2024-01-05": "7.0",
                  "2024-01-06": "4.0",
                  "2024-01-07": "3.0",
                  "2024-01-08": "",
                  "Empty Column 11": "",
                  "Empty Column 12": "",
                  "Empty Column 13": "",
                  "Empty Column 14": "",
                  "Empty Column 15": "",
                  "Empty Column 16": "",
                  "Empty Column 17": "",
                  "Empty Column 18": "",
                  "Empty Column 19": "",
                  "Empty Column 20": "",
                  "Empty Column 21": "",
                  "Empty Column 22": "",
                  "Empty Column 23": "",
                  "Empty Column 24": "",
                  "Empty Column 25": "",
                  "Empty Column 26": "",
                  "Empty Column 27": "",
                  "Empty Column 28": "",
                  "Empty Column 29": "",
                  "Empty Column 30": "",
                  "Empty Column 31": "",
                  "Empty Column 32": "",
                  "Empty Column 33": "",
                  "_deepnote_index_column": 78
                },
                {
                  "Page": "/freeman-house-north-west-south-africa/",
                  "2024-01-01": "5.0",
                  "2024-01-02": "6.0",
                  "2024-01-03": "4.0",
                  "2024-01-04": "5.0",
                  "2024-01-05": "6.0",
                  "2024-01-06": "10.0",
                  "2024-01-07": "14.0",
                  "2024-01-08": "2.0",
                  "Empty Column 11": "",
                  "Empty Column 12": "",
                  "Empty Column 13": "",
                  "Empty Column 14": "",
                  "Empty Column 15": "",
                  "Empty Column 16": "",
                  "Empty Column 17": "",
                  "Empty Column 18": "",
                  "Empty Column 19": "",
                  "Empty Column 20": "",
                  "Empty Column 21": "",
                  "Empty Column 22": "",
                  "Empty Column 23": "",
                  "Empty Column 24": "",
                  "Empty Column 25": "",
                  "Empty Column 26": "",
                  "Empty Column 27": "",
                  "Empty Column 28": "",
                  "Empty Column 29": "",
                  "Empty Column 30": "",
                  "Empty Column 31": "",
                  "Empty Column 32": "",
                  "Empty Column 33": "",
                  "_deepnote_index_column": 79
                },
                {
                  "Page": "/futures/",
                  "2024-01-01": "3.0",
                  "2024-01-02": "5.0",
                  "2024-01-03": "7.0",
                  "2024-01-04": "4.0",
                  "2024-01-05": "10.0",
                  "2024-01-06": "5.0",
                  "2024-01-07": "5.0",
                  "2024-01-08": "1.0",
                  "Empty Column 11": "",
                  "Empty Column 12": "",
                  "Empty Column 13": "",
                  "Empty Column 14": "",
                  "Empty Column 15": "",
                  "Empty Column 16": "",
                  "Empty Column 17": "",
                  "Empty Column 18": "",
                  "Empty Column 19": "",
                  "Empty Column 20": "",
                  "Empty Column 21": "",
                  "Empty Column 22": "",
                  "Empty Column 23": "",
                  "Empty Column 24": "",
                  "Empty Column 25": "",
                  "Empty Column 26": "",
                  "Empty Column 27": "",
                  "Empty Column 28": "",
                  "Empty Column 29": "",
                  "Empty Column 30": "",
                  "Empty Column 31": "",
                  "Empty Column 32": "",
                  "Empty Column 33": "",
                  "_deepnote_index_column": 80
                },
                {
                  "Page": "/futures-mental-health-program-florida/",
                  "2024-01-01": "6.0",
                  "2024-01-02": "9.0",
                  "2024-01-03": "5.0",
                  "2024-01-04": "9.0",
                  "2024-01-05": "11.0",
                  "2024-01-06": "12.0",
                  "2024-01-07": "8.0",
                  "2024-01-08": "",
                  "Empty Column 11": "",
                  "Empty Column 12": "",
                  "Empty Column 13": "",
                  "Empty Column 14": "",
                  "Empty Column 15": "",
                  "Empty Column 16": "",
                  "Empty Column 17": "",
                  "Empty Column 18": "",
                  "Empty Column 19": "",
                  "Empty Column 20": "",
                  "Empty Column 21": "",
                  "Empty Column 22": "",
                  "Empty Column 23": "",
                  "Empty Column 24": "",
                  "Empty Column 25": "",
                  "Empty Column 26": "",
                  "Empty Column 27": "",
                  "Empty Column 28": "",
                  "Empty Column 29": "",
                  "Empty Column 30": "",
                  "Empty Column 31": "",
                  "Empty Column 32": "",
                  "Empty Column 33": "",
                  "_deepnote_index_column": 81
                },
                {
                  "Page": "/futures-orenda/",
                  "2024-01-01": "5.0",
                  "2024-01-02": "4.0",
                  "2024-01-03": "7.0",
                  "2024-01-04": "9.0",
                  "2024-01-05": "5.0",
                  "2024-01-06": "5.0",
                  "2024-01-07": "3.0",
                  "2024-01-08": "",
                  "Empty Column 11": "",
                  "Empty Column 12": "",
                  "Empty Column 13": "",
                  "Empty Column 14": "",
                  "Empty Column 15": "",
                  "Empty Column 16": "",
                  "Empty Column 17": "",
                  "Empty Column 18": "",
                  "Empty Column 19": "",
                  "Empty Column 20": "",
                  "Empty Column 21": "",
                  "Empty Column 22": "",
                  "Empty Column 23": "",
                  "Empty Column 24": "",
                  "Empty Column 25": "",
                  "Empty Column 26": "",
                  "Empty Column 27": "",
                  "Empty Column 28": "",
                  "Empty Column 29": "",
                  "Empty Column 30": "",
                  "Empty Column 31": "",
                  "Empty Column 32": "",
                  "Empty Column 33": "",
                  "_deepnote_index_column": 82
                },
                {
                  "Page": "/garden-state-treatment-center/",
                  "2024-01-01": "",
                  "2024-01-02": "",
                  "2024-01-03": "",
                  "2024-01-04": "",
                  "2024-01-05": "",
                  "2024-01-06": "",
                  "2024-01-07": "",
                  "2024-01-08": "",
                  "Empty Column 11": "",
                  "Empty Column 12": "",
                  "Empty Column 13": "",
                  "Empty Column 14": "",
                  "Empty Column 15": "",
                  "Empty Column 16": "",
                  "Empty Column 17": "",
                  "Empty Column 18": "",
                  "Empty Column 19": "",
                  "Empty Column 20": "",
                  "Empty Column 21": "",
                  "Empty Column 22": "",
                  "Empty Column 23": "",
                  "Empty Column 24": "",
                  "Empty Column 25": "",
                  "Empty Column 26": "",
                  "Empty Column 27": "",
                  "Empty Column 28": "",
                  "Empty Column 29": "",
                  "Empty Column 30": "",
                  "Empty Column 31": "",
                  "Empty Column 32": "",
                  "Empty Column 33": "",
                  "_deepnote_index_column": 83
                },
                {
                  "Page": "/georgia-strait-womens-clinic/",
                  "2024-01-01": "9.0",
                  "2024-01-02": "16.0",
                  "2024-01-03": "11.0",
                  "2024-01-04": "14.0",
                  "2024-01-05": "14.0",
                  "2024-01-06": "12.0",
                  "2024-01-07": "19.0",
                  "2024-01-08": "1.0",
                  "Empty Column 11": "",
                  "Empty Column 12": "",
                  "Empty Column 13": "",
                  "Empty Column 14": "",
                  "Empty Column 15": "",
                  "Empty Column 16": "",
                  "Empty Column 17": "",
                  "Empty Column 18": "",
                  "Empty Column 19": "",
                  "Empty Column 20": "",
                  "Empty Column 21": "",
                  "Empty Column 22": "",
                  "Empty Column 23": "",
                  "Empty Column 24": "",
                  "Empty Column 25": "",
                  "Empty Column 26": "",
                  "Empty Column 27": "",
                  "Empty Column 28": "",
                  "Empty Column 29": "",
                  "Empty Column 30": "",
                  "Empty Column 31": "",
                  "Empty Column 32": "",
                  "Empty Column 33": "",
                  "_deepnote_index_column": 84
                },
                {
                  "Page": "/grandfalls-recovery-center-joplin-missouri/",
                  "2024-01-01": "",
                  "2024-01-02": "2.0",
                  "2024-01-03": "4.0",
                  "2024-01-04": "4.0",
                  "2024-01-05": "2.0",
                  "2024-01-06": "3.0",
                  "2024-01-07": "4.0",
                  "2024-01-08": "1.0",
                  "Empty Column 11": "",
                  "Empty Column 12": "",
                  "Empty Column 13": "",
                  "Empty Column 14": "",
                  "Empty Column 15": "",
                  "Empty Column 16": "",
                  "Empty Column 17": "",
                  "Empty Column 18": "",
                  "Empty Column 19": "",
                  "Empty Column 20": "",
                  "Empty Column 21": "",
                  "Empty Column 22": "",
                  "Empty Column 23": "",
                  "Empty Column 24": "",
                  "Empty Column 25": "",
                  "Empty Column 26": "",
                  "Empty Column 27": "",
                  "Empty Column 28": "",
                  "Empty Column 29": "",
                  "Empty Column 30": "",
                  "Empty Column 31": "",
                  "Empty Column 32": "",
                  "Empty Column 33": "",
                  "_deepnote_index_column": 85
                },
                {
                  "Page": "/gratitude-lodge-california/",
                  "2024-01-01": "5.0",
                  "2024-01-02": "6.0",
                  "2024-01-03": "5.0",
                  "2024-01-04": "12.0",
                  "2024-01-05": "2.0",
                  "2024-01-06": "5.0",
                  "2024-01-07": "6.0",
                  "2024-01-08": "1.0",
                  "Empty Column 11": "",
                  "Empty Column 12": "",
                  "Empty Column 13": "",
                  "Empty Column 14": "",
                  "Empty Column 15": "",
                  "Empty Column 16": "",
                  "Empty Column 17": "",
                  "Empty Column 18": "",
                  "Empty Column 19": "",
                  "Empty Column 20": "",
                  "Empty Column 21": "",
                  "Empty Column 22": "",
                  "Empty Column 23": "",
                  "Empty Column 24": "",
                  "Empty Column 25": "",
                  "Empty Column 26": "",
                  "Empty Column 27": "",
                  "Empty Column 28": "",
                  "Empty Column 29": "",
                  "Empty Column 30": "",
                  "Empty Column 31": "",
                  "Empty Column 32": "",
                  "Empty Column 33": "",
                  "_deepnote_index_column": 86
                },
                {
                  "Page": "/greater-boston-addiction-centers-needham-massahusetts/",
                  "2024-01-01": "",
                  "2024-01-02": "",
                  "2024-01-03": "2.0",
                  "2024-01-04": "1.0",
                  "2024-01-05": "2.0",
                  "2024-01-06": "1.0",
                  "2024-01-07": "1.0",
                  "2024-01-08": "1.0",
                  "Empty Column 11": "",
                  "Empty Column 12": "",
                  "Empty Column 13": "",
                  "Empty Column 14": "",
                  "Empty Column 15": "",
                  "Empty Column 16": "",
                  "Empty Column 17": "",
                  "Empty Column 18": "",
                  "Empty Column 19": "",
                  "Empty Column 20": "",
                  "Empty Column 21": "",
                  "Empty Column 22": "",
                  "Empty Column 23": "",
                  "Empty Column 24": "",
                  "Empty Column 25": "",
                  "Empty Column 26": "",
                  "Empty Column 27": "",
                  "Empty Column 28": "",
                  "Empty Column 29": "",
                  "Empty Column 30": "",
                  "Empty Column 31": "",
                  "Empty Column 32": "",
                  "Empty Column 33": "",
                  "_deepnote_index_column": 87
                },
                {
                  "Page": "/greater-boston-behavioral-health-needham-massachusetts/",
                  "2024-01-01": "4.0",
                  "2024-01-02": "7.0",
                  "2024-01-03": "1.0",
                  "2024-01-04": "5.0",
                  "2024-01-05": "8.0",
                  "2024-01-06": "2.0",
                  "2024-01-07": "3.0",
                  "2024-01-08": "",
                  "Empty Column 11": "",
                  "Empty Column 12": "",
                  "Empty Column 13": "",
                  "Empty Column 14": "",
                  "Empty Column 15": "",
                  "Empty Column 16": "",
                  "Empty Column 17": "",
                  "Empty Column 18": "",
                  "Empty Column 19": "",
                  "Empty Column 20": "",
                  "Empty Column 21": "",
                  "Empty Column 22": "",
                  "Empty Column 23": "",
                  "Empty Column 24": "",
                  "Empty Column 25": "",
                  "Empty Column 26": "",
                  "Empty Column 27": "",
                  "Empty Column 28": "",
                  "Empty Column 29": "",
                  "Empty Column 30": "",
                  "Empty Column 31": "",
                  "Empty Column 32": "",
                  "Empty Column 33": "",
                  "_deepnote_index_column": 88
                },
                {
                  "Page": "/greenestone-muskoka/",
                  "2024-01-01": "9.0",
                  "2024-01-02": "8.0",
                  "2024-01-03": "7.0",
                  "2024-01-04": "16.0",
                  "2024-01-05": "5.0",
                  "2024-01-06": "14.0",
                  "2024-01-07": "18.0",
                  "2024-01-08": "2.0",
                  "Empty Column 11": "",
                  "Empty Column 12": "",
                  "Empty Column 13": "",
                  "Empty Column 14": "",
                  "Empty Column 15": "",
                  "Empty Column 16": "",
                  "Empty Column 17": "",
                  "Empty Column 18": "",
                  "Empty Column 19": "",
                  "Empty Column 20": "",
                  "Empty Column 21": "",
                  "Empty Column 22": "",
                  "Empty Column 23": "",
                  "Empty Column 24": "",
                  "Empty Column 25": "",
                  "Empty Column 26": "",
                  "Empty Column 27": "",
                  "Empty Column 28": "",
                  "Empty Column 29": "",
                  "Empty Column 30": "",
                  "Empty Column 31": "",
                  "Empty Column 32": "",
                  "Empty Column 33": "",
                  "_deepnote_index_column": 89
                },
                {
                  "Page": "/greenhouse-treatment-texas/",
                  "2024-01-01": "14.0",
                  "2024-01-02": "18.0",
                  "2024-01-03": "15.0",
                  "2024-01-04": "15.0",
                  "2024-01-05": "18.0",
                  "2024-01-06": "21.0",
                  "2024-01-07": "10.0",
                  "2024-01-08": "2.0",
                  "Empty Column 11": "",
                  "Empty Column 12": "",
                  "Empty Column 13": "",
                  "Empty Column 14": "",
                  "Empty Column 15": "",
                  "Empty Column 16": "",
                  "Empty Column 17": "",
                  "Empty Column 18": "",
                  "Empty Column 19": "",
                  "Empty Column 20": "",
                  "Empty Column 21": "",
                  "Empty Column 22": "",
                  "Empty Column 23": "",
                  "Empty Column 24": "",
                  "Empty Column 25": "",
                  "Empty Column 26": "",
                  "Empty Column 27": "",
                  "Empty Column 28": "",
                  "Empty Column 29": "",
                  "Empty Column 30": "",
                  "Empty Column 31": "",
                  "Empty Column 32": "",
                  "Empty Column 33": "",
                  "_deepnote_index_column": 90
                },
                {
                  "Page": "/guardian-recovery-montville-adolescent-center/",
                  "2024-01-01": "2.0",
                  "2024-01-02": "5.0",
                  "2024-01-03": "",
                  "2024-01-04": "1.0",
                  "2024-01-05": "4.0",
                  "2024-01-06": "2.0",
                  "2024-01-07": "3.0",
                  "2024-01-08": "",
                  "Empty Column 11": "",
                  "Empty Column 12": "",
                  "Empty Column 13": "",
                  "Empty Column 14": "",
                  "Empty Column 15": "",
                  "Empty Column 16": "",
                  "Empty Column 17": "",
                  "Empty Column 18": "",
                  "Empty Column 19": "",
                  "Empty Column 20": "",
                  "Empty Column 21": "",
                  "Empty Column 22": "",
                  "Empty Column 23": "",
                  "Empty Column 24": "",
                  "Empty Column 25": "",
                  "Empty Column 26": "",
                  "Empty Column 27": "",
                  "Empty Column 28": "",
                  "Empty Column 29": "",
                  "Empty Column 30": "",
                  "Empty Column 31": "",
                  "Empty Column 32": "",
                  "Empty Column 33": "",
                  "_deepnote_index_column": 91
                },
                {
                  "Page": "/harmony-ridge-west-virginia/",
                  "2024-01-01": "7.0",
                  "2024-01-02": "3.0",
                  "2024-01-03": "6.0",
                  "2024-01-04": "16.0",
                  "2024-01-05": "9.0",
                  "2024-01-06": "13.0",
                  "2024-01-07": "11.0",
                  "2024-01-08": "",
                  "Empty Column 11": "",
                  "Empty Column 12": "",
                  "Empty Column 13": "",
                  "Empty Column 14": "",
                  "Empty Column 15": "",
                  "Empty Column 16": "",
                  "Empty Column 17": "",
                  "Empty Column 18": "",
                  "Empty Column 19": "",
                  "Empty Column 20": "",
                  "Empty Column 21": "",
                  "Empty Column 22": "",
                  "Empty Column 23": "",
                  "Empty Column 24": "",
                  "Empty Column 25": "",
                  "Empty Column 26": "",
                  "Empty Column 27": "",
                  "Empty Column 28": "",
                  "Empty Column 29": "",
                  "Empty Column 30": "",
                  "Empty Column 31": "",
                  "Empty Column 32": "",
                  "Empty Column 33": "",
                  "_deepnote_index_column": 92
                },
                {
                  "Page": "/healing-pines-recovery-elizabeth-colorado/",
                  "2024-01-01": "1.0",
                  "2024-01-02": "3.0",
                  "2024-01-03": "8.0",
                  "2024-01-04": "2.0",
                  "2024-01-05": "2.0",
                  "2024-01-06": "9.0",
                  "2024-01-07": "3.0",
                  "2024-01-08": "1.0",
                  "Empty Column 11": "",
                  "Empty Column 12": "",
                  "Empty Column 13": "",
                  "Empty Column 14": "",
                  "Empty Column 15": "",
                  "Empty Column 16": "",
                  "Empty Column 17": "",
                  "Empty Column 18": "",
                  "Empty Column 19": "",
                  "Empty Column 20": "",
                  "Empty Column 21": "",
                  "Empty Column 22": "",
                  "Empty Column 23": "",
                  "Empty Column 24": "",
                  "Empty Column 25": "",
                  "Empty Column 26": "",
                  "Empty Column 27": "",
                  "Empty Column 28": "",
                  "Empty Column 29": "",
                  "Empty Column 30": "",
                  "Empty Column 31": "",
                  "Empty Column 32": "",
                  "Empty Column 33": "",
                  "_deepnote_index_column": 93
                },
                {
                  "Page": "/heights-treatment-los-angeles-los-angeles-california/",
                  "2024-01-01": "1.0",
                  "2024-01-02": "1.0",
                  "2024-01-03": "2.0",
                  "2024-01-04": "1.0",
                  "2024-01-05": "",
                  "2024-01-06": "6.0",
                  "2024-01-07": "1.0",
                  "2024-01-08": "",
                  "Empty Column 11": "",
                  "Empty Column 12": "",
                  "Empty Column 13": "",
                  "Empty Column 14": "",
                  "Empty Column 15": "",
                  "Empty Column 16": "",
                  "Empty Column 17": "",
                  "Empty Column 18": "",
                  "Empty Column 19": "",
                  "Empty Column 20": "",
                  "Empty Column 21": "",
                  "Empty Column 22": "",
                  "Empty Column 23": "",
                  "Empty Column 24": "",
                  "Empty Column 25": "",
                  "Empty Column 26": "",
                  "Empty Column 27": "",
                  "Empty Column 28": "",
                  "Empty Column 29": "",
                  "Empty Column 30": "",
                  "Empty Column 31": "",
                  "Empty Column 32": "",
                  "Empty Column 33": "",
                  "_deepnote_index_column": 94
                },
                {
                  "Page": "/heritage-counseling-portugal/",
                  "2024-01-01": "12.0",
                  "2024-01-02": "10.0",
                  "2024-01-03": "15.0",
                  "2024-01-04": "24.0",
                  "2024-01-05": "11.0",
                  "2024-01-06": "22.0",
                  "2024-01-07": "21.0",
                  "2024-01-08": "",
                  "Empty Column 11": "",
                  "Empty Column 12": "",
                  "Empty Column 13": "",
                  "Empty Column 14": "",
                  "Empty Column 15": "",
                  "Empty Column 16": "",
                  "Empty Column 17": "",
                  "Empty Column 18": "",
                  "Empty Column 19": "",
                  "Empty Column 20": "",
                  "Empty Column 21": "",
                  "Empty Column 22": "",
                  "Empty Column 23": "",
                  "Empty Column 24": "",
                  "Empty Column 25": "",
                  "Empty Column 26": "",
                  "Empty Column 27": "",
                  "Empty Column 28": "",
                  "Empty Column 29": "",
                  "Empty Column 30": "",
                  "Empty Column 31": "",
                  "Empty Column 32": "",
                  "Empty Column 33": "",
                  "_deepnote_index_column": 95
                },
                {
                  "Page": "/holdfast-recovery-prescott-arizona/",
                  "2024-01-01": "2.0",
                  "2024-01-02": "2.0",
                  "2024-01-03": "2.0",
                  "2024-01-04": "1.0",
                  "2024-01-05": "5.0",
                  "2024-01-06": "4.0",
                  "2024-01-07": "4.0",
                  "2024-01-08": "",
                  "Empty Column 11": "",
                  "Empty Column 12": "",
                  "Empty Column 13": "",
                  "Empty Column 14": "",
                  "Empty Column 15": "",
                  "Empty Column 16": "",
                  "Empty Column 17": "",
                  "Empty Column 18": "",
                  "Empty Column 19": "",
                  "Empty Column 20": "",
                  "Empty Column 21": "",
                  "Empty Column 22": "",
                  "Empty Column 23": "",
                  "Empty Column 24": "",
                  "Empty Column 25": "",
                  "Empty Column 26": "",
                  "Empty Column 27": "",
                  "Empty Column 28": "",
                  "Empty Column 29": "",
                  "Empty Column 30": "",
                  "Empty Column 31": "",
                  "Empty Column 32": "",
                  "Empty Column 33": "",
                  "_deepnote_index_column": 96
                },
                {
                  "Page": "/holina-koh-phangan-thailand/",
                  "2024-01-01": "11.0",
                  "2024-01-02": "22.0",
                  "2024-01-03": "15.0",
                  "2024-01-04": "8.0",
                  "2024-01-05": "8.0",
                  "2024-01-06": "24.0",
                  "2024-01-07": "18.0",
                  "2024-01-08": "",
                  "Empty Column 11": "",
                  "Empty Column 12": "",
                  "Empty Column 13": "",
                  "Empty Column 14": "",
                  "Empty Column 15": "",
                  "Empty Column 16": "",
                  "Empty Column 17": "",
                  "Empty Column 18": "",
                  "Empty Column 19": "",
                  "Empty Column 20": "",
                  "Empty Column 21": "",
                  "Empty Column 22": "",
                  "Empty Column 23": "",
                  "Empty Column 24": "",
                  "Empty Column 25": "",
                  "Empty Column 26": "",
                  "Empty Column 27": "",
                  "Empty Column 28": "",
                  "Empty Column 29": "",
                  "Empty Column 30": "",
                  "Empty Column 31": "",
                  "Empty Column 32": "",
                  "Empty Column 33": "",
                  "_deepnote_index_column": 97
                },
                {
                  "Page": "/hollywood-hills-recovery-california/",
                  "2024-01-01": "4.0",
                  "2024-01-02": "1.0",
                  "2024-01-03": "1.0",
                  "2024-01-04": "5.0",
                  "2024-01-05": "5.0",
                  "2024-01-06": "4.0",
                  "2024-01-07": "8.0",
                  "2024-01-08": "1.0",
                  "Empty Column 11": "",
                  "Empty Column 12": "",
                  "Empty Column 13": "",
                  "Empty Column 14": "",
                  "Empty Column 15": "",
                  "Empty Column 16": "",
                  "Empty Column 17": "",
                  "Empty Column 18": "",
                  "Empty Column 19": "",
                  "Empty Column 20": "",
                  "Empty Column 21": "",
                  "Empty Column 22": "",
                  "Empty Column 23": "",
                  "Empty Column 24": "",
                  "Empty Column 25": "",
                  "Empty Column 26": "",
                  "Empty Column 27": "",
                  "Empty Column 28": "",
                  "Empty Column 29": "",
                  "Empty Column 30": "",
                  "Empty Column 31": "",
                  "Empty Column 32": "",
                  "Empty Column 33": "",
                  "_deepnote_index_column": 98
                },
                {
                  "Page": "/hope-rehabs-new-delhi-india/",
                  "2024-01-01": "",
                  "2024-01-02": "",
                  "2024-01-03": "1.0",
                  "2024-01-04": "1.0",
                  "2024-01-05": "1.0",
                  "2024-01-06": "7.0",
                  "2024-01-07": "7.0",
                  "2024-01-08": "1.0",
                  "Empty Column 11": "",
                  "Empty Column 12": "",
                  "Empty Column 13": "",
                  "Empty Column 14": "",
                  "Empty Column 15": "",
                  "Empty Column 16": "",
                  "Empty Column 17": "",
                  "Empty Column 18": "",
                  "Empty Column 19": "",
                  "Empty Column 20": "",
                  "Empty Column 21": "",
                  "Empty Column 22": "",
                  "Empty Column 23": "",
                  "Empty Column 24": "",
                  "Empty Column 25": "",
                  "Empty Column 26": "",
                  "Empty Column 27": "",
                  "Empty Column 28": "",
                  "Empty Column 29": "",
                  "Empty Column 30": "",
                  "Empty Column 31": "",
                  "Empty Column 32": "",
                  "Empty Column 33": "",
                  "_deepnote_index_column": 99
                }
              ]
            },
            "text/plain": "                                             Page 2024-01-01 2024-01-02  \\\n0                                  /1000-islands/       28.0       18.0   \n1                     /90210-recovery-california/        5.0        2.0   \n2                   /abhasa-rehabilitation-india/       15.0       11.0   \n3      /abhasa-rehabilitation-thondamuthur-india/        8.0        6.0   \n4                       /abhasa-wellness-retreat/        7.0        5.0   \n..                                            ...        ...        ...   \n250  /wilmington-treatment-center-north-carolina/        1.0        3.0   \n251                    /wish-recovery-california/       21.0       13.0   \n252                  /within-center-austin-texas/        4.0        3.0   \n253                    /zeus-rehab-warsaw-poland/                   1.0   \n254                /zinnia-healing-singer-island/        3.0        3.0   \n\n    2024-01-03 2024-01-04 2024-01-05 2024-01-06 2024-01-07 2024-01-08  \\\n0         18.0       12.0       10.0       13.0       27.0        6.0   \n1          4.0        4.0        2.0        6.0        7.0              \n2          7.0        8.0        7.0       12.0       16.0        1.0   \n3          3.0        6.0        1.0       12.0       11.0              \n4          7.0        2.0        3.0       13.0       12.0        1.0   \n..         ...        ...        ...        ...        ...        ...   \n250                   2.0        2.0        3.0        1.0              \n251       16.0       17.0       17.0       33.0       30.0              \n252       11.0       13.0        8.0        8.0       19.0        1.0   \n253        2.0        3.0        7.0       13.0       12.0              \n254        4.0        2.0        5.0        3.0        2.0              \n\n    Empty Column 11  ... Empty Column 24 Empty Column 25 Empty Column 26  \\\n0                    ...                                                   \n1                    ...                                                   \n2                    ...                                                   \n3                    ...                                                   \n4                    ...                                                   \n..              ...  ...             ...             ...             ...   \n250                  ...                                                   \n251                  ...                                                   \n252                  ...                                                   \n253                  ...                                                   \n254                  ...                                                   \n\n    Empty Column 27 Empty Column 28 Empty Column 29 Empty Column 30  \\\n0                                                                     \n1                                                                     \n2                                                                     \n3                                                                     \n4                                                                     \n..              ...             ...             ...             ...   \n250                                                                   \n251                                                                   \n252                                                                   \n253                                                                   \n254                                                                   \n\n    Empty Column 31 Empty Column 32 Empty Column 33  \n0                                                    \n1                                                    \n2                                                    \n3                                                    \n4                                                    \n..              ...             ...             ...  \n250                                                  \n251                                                  \n252                                                  \n253                                                  \n254                                                  \n\n[255 rows x 32 columns]",
            "text/html": "<div>\n<style scoped>\n    .dataframe tbody tr th:only-of-type {\n        vertical-align: middle;\n    }\n\n    .dataframe tbody tr th {\n        vertical-align: top;\n    }\n\n    .dataframe thead th {\n        text-align: right;\n    }\n</style>\n<table border=\"1\" class=\"dataframe\">\n  <thead>\n    <tr style=\"text-align: right;\">\n      <th></th>\n      <th>Page</th>\n      <th>2024-01-01</th>\n      <th>2024-01-02</th>\n      <th>2024-01-03</th>\n      <th>2024-01-04</th>\n      <th>2024-01-05</th>\n      <th>2024-01-06</th>\n      <th>2024-01-07</th>\n      <th>2024-01-08</th>\n      <th>Empty Column 11</th>\n      <th>...</th>\n      <th>Empty Column 24</th>\n      <th>Empty Column 25</th>\n      <th>Empty Column 26</th>\n      <th>Empty Column 27</th>\n      <th>Empty Column 28</th>\n      <th>Empty Column 29</th>\n      <th>Empty Column 30</th>\n      <th>Empty Column 31</th>\n      <th>Empty Column 32</th>\n      <th>Empty Column 33</th>\n    </tr>\n  </thead>\n  <tbody>\n    <tr>\n      <th>0</th>\n      <td>/1000-islands/</td>\n      <td>28.0</td>\n      <td>18.0</td>\n      <td>18.0</td>\n      <td>12.0</td>\n      <td>10.0</td>\n      <td>13.0</td>\n      <td>27.0</td>\n      <td>6.0</td>\n      <td></td>\n      <td>...</td>\n      <td></td>\n      <td></td>\n      <td></td>\n      <td></td>\n      <td></td>\n      <td></td>\n      <td></td>\n      <td></td>\n      <td></td>\n      <td></td>\n    </tr>\n    <tr>\n      <th>1</th>\n      <td>/90210-recovery-california/</td>\n      <td>5.0</td>\n      <td>2.0</td>\n      <td>4.0</td>\n      <td>4.0</td>\n      <td>2.0</td>\n      <td>6.0</td>\n      <td>7.0</td>\n      <td></td>\n      <td></td>\n      <td>...</td>\n      <td></td>\n      <td></td>\n      <td></td>\n      <td></td>\n      <td></td>\n      <td></td>\n      <td></td>\n      <td></td>\n      <td></td>\n      <td></td>\n    </tr>\n    <tr>\n      <th>2</th>\n      <td>/abhasa-rehabilitation-india/</td>\n      <td>15.0</td>\n      <td>11.0</td>\n      <td>7.0</td>\n      <td>8.0</td>\n      <td>7.0</td>\n      <td>12.0</td>\n      <td>16.0</td>\n      <td>1.0</td>\n      <td></td>\n      <td>...</td>\n      <td></td>\n      <td></td>\n      <td></td>\n      <td></td>\n      <td></td>\n      <td></td>\n      <td></td>\n      <td></td>\n      <td></td>\n      <td></td>\n    </tr>\n    <tr>\n      <th>3</th>\n      <td>/abhasa-rehabilitation-thondamuthur-india/</td>\n      <td>8.0</td>\n      <td>6.0</td>\n      <td>3.0</td>\n      <td>6.0</td>\n      <td>1.0</td>\n      <td>12.0</td>\n      <td>11.0</td>\n      <td></td>\n      <td></td>\n      <td>...</td>\n      <td></td>\n      <td></td>\n      <td></td>\n      <td></td>\n      <td></td>\n      <td></td>\n      <td></td>\n      <td></td>\n      <td></td>\n      <td></td>\n    </tr>\n    <tr>\n      <th>4</th>\n      <td>/abhasa-wellness-retreat/</td>\n      <td>7.0</td>\n      <td>5.0</td>\n      <td>7.0</td>\n      <td>2.0</td>\n      <td>3.0</td>\n      <td>13.0</td>\n      <td>12.0</td>\n      <td>1.0</td>\n      <td></td>\n      <td>...</td>\n      <td></td>\n      <td></td>\n      <td></td>\n      <td></td>\n      <td></td>\n      <td></td>\n      <td></td>\n      <td></td>\n      <td></td>\n      <td></td>\n    </tr>\n    <tr>\n      <th>...</th>\n      <td>...</td>\n      <td>...</td>\n      <td>...</td>\n      <td>...</td>\n      <td>...</td>\n      <td>...</td>\n      <td>...</td>\n      <td>...</td>\n      <td>...</td>\n      <td>...</td>\n      <td>...</td>\n      <td>...</td>\n      <td>...</td>\n      <td>...</td>\n      <td>...</td>\n      <td>...</td>\n      <td>...</td>\n      <td>...</td>\n      <td>...</td>\n      <td>...</td>\n      <td>...</td>\n    </tr>\n    <tr>\n      <th>250</th>\n      <td>/wilmington-treatment-center-north-carolina/</td>\n      <td>1.0</td>\n      <td>3.0</td>\n      <td></td>\n      <td>2.0</td>\n      <td>2.0</td>\n      <td>3.0</td>\n      <td>1.0</td>\n      <td></td>\n      <td></td>\n      <td>...</td>\n      <td></td>\n      <td></td>\n      <td></td>\n      <td></td>\n      <td></td>\n      <td></td>\n      <td></td>\n      <td></td>\n      <td></td>\n      <td></td>\n    </tr>\n    <tr>\n      <th>251</th>\n      <td>/wish-recovery-california/</td>\n      <td>21.0</td>\n      <td>13.0</td>\n      <td>16.0</td>\n      <td>17.0</td>\n      <td>17.0</td>\n      <td>33.0</td>\n      <td>30.0</td>\n      <td></td>\n      <td></td>\n      <td>...</td>\n      <td></td>\n      <td></td>\n      <td></td>\n      <td></td>\n      <td></td>\n      <td></td>\n      <td></td>\n      <td></td>\n      <td></td>\n      <td></td>\n    </tr>\n    <tr>\n      <th>252</th>\n      <td>/within-center-austin-texas/</td>\n      <td>4.0</td>\n      <td>3.0</td>\n      <td>11.0</td>\n      <td>13.0</td>\n      <td>8.0</td>\n      <td>8.0</td>\n      <td>19.0</td>\n      <td>1.0</td>\n      <td></td>\n      <td>...</td>\n      <td></td>\n      <td></td>\n      <td></td>\n      <td></td>\n      <td></td>\n      <td></td>\n      <td></td>\n      <td></td>\n      <td></td>\n      <td></td>\n    </tr>\n    <tr>\n      <th>253</th>\n      <td>/zeus-rehab-warsaw-poland/</td>\n      <td></td>\n      <td>1.0</td>\n      <td>2.0</td>\n      <td>3.0</td>\n      <td>7.0</td>\n      <td>13.0</td>\n      <td>12.0</td>\n      <td></td>\n      <td></td>\n      <td>...</td>\n      <td></td>\n      <td></td>\n      <td></td>\n      <td></td>\n      <td></td>\n      <td></td>\n      <td></td>\n      <td></td>\n      <td></td>\n      <td></td>\n    </tr>\n    <tr>\n      <th>254</th>\n      <td>/zinnia-healing-singer-island/</td>\n      <td>3.0</td>\n      <td>3.0</td>\n      <td>4.0</td>\n      <td>2.0</td>\n      <td>5.0</td>\n      <td>3.0</td>\n      <td>2.0</td>\n      <td></td>\n      <td></td>\n      <td>...</td>\n      <td></td>\n      <td></td>\n      <td></td>\n      <td></td>\n      <td></td>\n      <td></td>\n      <td></td>\n      <td></td>\n      <td></td>\n      <td></td>\n    </tr>\n  </tbody>\n</table>\n<p>255 rows × 32 columns</p>\n</div>"
          },
          "metadata": {}
        }
      ],
      "execution_count": null,
      "block_group": "c622e8455132422ea9b69790f43f3aa4"
    },
    {
      "cell_type": "markdown",
      "source": "### Send Data to ADPB Sheet",
      "metadata": {
        "formattedRanges": [],
        "cell_id": "1ca3abb9bdf84de8869342d8312105e2",
        "deepnote_cell_type": "text-cell-h3"
      },
      "block_group": "a283bdd11e614f51add8b2e054cbd412"
    },
    {
      "cell_type": "markdown",
      "source": "Sending data to AdvertisingPartners_RatesAndBudgets using the GoogleSheets API and pygsheets:",
      "metadata": {
        "formattedRanges": [],
        "cell_id": "4fdfe51dc7ce4ef99120945057ce5227",
        "deepnote_cell_type": "text-cell-p"
      },
      "block_group": "d316aa7c60ce42ad91c730f7c97cd099"
    },
    {
      "cell_type": "code",
      "source": "show_doc(write_to_gsheet)",
      "metadata": {
        "source_hash": "3aa11b53",
        "execution_start": 1704756400116,
        "execution_millis": 11,
        "deepnote_to_be_reexecuted": false,
        "cell_id": "38a15070292c472cb0ce7152e611ac9a",
        "deepnote_cell_type": "code"
      },
      "outputs": [
        {
          "output_type": "execute_result",
          "execution_count": 12,
          "data": {
            "text/plain": "---\n\n### write_to_gsheet\n\n>      write_to_gsheet (service_file_path:str, spreadsheet_id:str,\n>                       sheet_name:str, data_df:pandas.core.frame.DataFrame)\n\nFunction takes data_df and writes it to the provided spreadsheet_id\nand sheet_name using your credentials under service_file_path\n\n|    | **Type** | **Details** |\n| -- | -------- | ----------- |\n| service_file_path | str | Path to credentials json file |\n| spreadsheet_id | str | ID of spreadhseet. Found in url to gsheet after '/d/' |\n| sheet_name | str | Name location where you want the data sent. |\n| data_df | DataFrame | Data to be send. |",
            "text/markdown": "---\n\n### write_to_gsheet\n\n>      write_to_gsheet (service_file_path:str, spreadsheet_id:str,\n>                       sheet_name:str, data_df:pandas.core.frame.DataFrame)\n\nFunction takes data_df and writes it to the provided spreadsheet_id\nand sheet_name using your credentials under service_file_path\n\n|    | **Type** | **Details** |\n| -- | -------- | ----------- |\n| service_file_path | str | Path to credentials json file |\n| spreadsheet_id | str | ID of spreadhseet. Found in url to gsheet after '/d/' |\n| sheet_name | str | Name location where you want the data sent. |\n| data_df | DataFrame | Data to be send. |"
          },
          "metadata": {}
        }
      ],
      "execution_count": 12,
      "block_group": "4462def24ce6493788c15a4ccafe3ff4"
    },
    {
      "cell_type": "code",
      "source": "write_to_gsheet('/work/keveldata-5f76a71e9aaf.json','1G5Mo3wrT_SrbFt5lyjKDne4C-Hj0cfjxCaW9mGPLQXU',\"PPV Data\",finished_data)",
      "metadata": {
        "source_hash": null,
        "execution_start": 1704742898808,
        "execution_millis": 3212,
        "deepnote_to_be_reexecuted": false,
        "cell_id": "df53e7ca5e434501b4c959f7f3744d9a",
        "deepnote_cell_type": "code"
      },
      "outputs": [],
      "execution_count": null,
      "block_group": "6801cdd9bab94cc18e56292ac35ff6f8"
    },
    {
      "cell_type": "code",
      "source": "today = datetime.now(ct_timezone)\n\ndirectory = \"/datasets/coopers-google-drive/Projects/revops_data/ppv_history/\"\n\nif not os.path.exists(directory):\n    os.makedirs(directory)\n    \ndf_changes.to_csv(f\"{directory}/{today.strftime('%Y_%m_%d')}_history.csv\")",
      "metadata": {
        "source_hash": null,
        "execution_start": 1704742909150,
        "execution_millis": 1461,
        "deepnote_to_be_reexecuted": false,
        "cell_id": "7cd53e3b6e5a45f9a0e470f5124e1cd0",
        "deepnote_cell_type": "code"
      },
      "outputs": [],
      "execution_count": null,
      "block_group": "438a24bc47ea4744988c3f56cf5a88e1"
    },
    {
      "cell_type": "markdown",
      "source": "<a style='text-decoration:none;line-height:16px;display:flex;color:#5B5B62;padding:10px;justify-content:end;' href='https://deepnote.com?utm_source=created-in-deepnote-cell&projectId=6d4ba941-f702-478c-87bf-a3e3e8035885' target=\"_blank\">\n<img alt='Created in deepnote.com' style='display:inline;max-height:16px;margin:0px;margin-right:7.5px;' src='data:image/svg+xml;base64,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' > </img>\nCreated in <span style='font-weight:600;margin-left:4px;'>Deepnote</span></a>",
      "metadata": {
        "created_in_deepnote_cell": true,
        "deepnote_cell_type": "markdown"
      }
    }
  ],
  "nbformat": 4,
  "nbformat_minor": 0,
  "metadata": {
    "deepnote_persisted_session": {
      "createdAt": "2024-01-08T23:20:58.161Z"
    },
    "deepnote_full_width": false,
    "deepnote_notebook_id": "e86f70b7bad14e099baf001ac6db502c",
    "deepnote_execution_queue": []
  }
}