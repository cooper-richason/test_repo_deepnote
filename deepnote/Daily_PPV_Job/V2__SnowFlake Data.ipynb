{
  "cells": [
    {
      "cell_type": "code",
      "source": "import os\nimport requests\nimport os.path\nimport csv\nimport json\nimport pytz\nimport pygsheets\n\nfrom datetime import datetime, timedelta\nimport pandas as pd\n\n\nheaders = {\n    'X-PW-AccessToken':os.environ[\"COPPER_API_KEY\"],\n    'X-PW-Application':'developer_api',\n    'X-PW-UserEmail':'cooper@rehabpath.com',\n    'Content-Type':'application/json'\n}\n\ndef refresh_custom_fields(return_results = False):\n    \"\"\"\n    Function to refresh the custom_field_json file and related dictionary. Option to \n    return resulting dictionary:\n\n    return_results: True to return results, False to just update local file\n    \"\"\"\n    # Fetching custom fields:\n    list_fields = requests.get('https://api.copper.com/developer_api/v1/custom_field_definitions',headers=headers)\n    \n    # Was the API request a success?\n    if list_fields.status_code != 200:\n        print('Error fetching custom fields.')\n        if return_results:\n            print('Returning previous version.')\n            with open('custom_fields.json', encoding=\"utf-8\") as f:\n                return json.load(f)\n    \n    # Obtaining response text and initializing dictionary:\n    list_fields_json = list_fields.json()\n    custom_field_dict = {}\n\n    for item in list_fields_json:\n        item_dict = {}\n        for sub_item in ['name','data_type','available_on','is_filterable']:\n            item_dict[sub_item] = item[sub_item] \n\n        item_options = {}\n\n        if 'options' in item:\n            for sub_item in item['options']:\n                sub_item_name = sub_item['name']\n                sub_item_id = sub_item['id']\n\n                item_options[sub_item_id] = sub_item_name\n        \n            item_dict['options'] = item_options\n        item_id = item['id']\n        custom_field_dict[item_id] = item_dict\n    \n    # Updating local file:\n    with open('custom_fields.json', 'w') as file:\n        json.dump(custom_field_dict, file, indent=4)\n    \n    #Option to return results or just update local file:\n    if return_results == True:\n        return custom_field_dict\n    else:\n        print('Successfully Updated File!')\n        pass\n\ncustom_fields = refresh_custom_fields(True)\n\ndef get_cf_info(cf_id,cf_info):\n    \"\"\"\n    Function to get the custome field information based on the field id.\n\n    cf_id (int or string) is the id_number of the custome field\n    cf_info can be a single string or list of strings like 'name' or ['name','data_type','is_filterable']\n    \"\"\"\n\n    if isinstance(cf_id,str):\n        cf_id = int(cf_id)      \n\n    # Check if cf_info item(s) are valid\n    if isinstance(cf_info, list):\n        for item_name in cf_info:\n            # Remove faulty items:\n            if item_name not in ['name','data_type','available_on','is_filterable','options']:\n                cf_info.pop(item_name)\n                print(f'Invalid cf_info: {cf_info}')\n            \n            # Cancel function if no valid items\n            if len(cf_info) == 0:\n                pass\n    elif cf_info not in ['name','data_type','available_on','is_filterable','options']:\n        print(f'Invalid cf_info: {cf_info}'); pass\n\n    if isinstance(cf_info,list):\n        return_list = []\n        for item_name in cf_info:\n            value = custom_fields[cf_id].get(item_name)\n            return_list.append(value)\n        return return_list\n    else:\n        value = custom_fields[cf_id].get(cf_info)\n        return value\n\ndef get_cf_options(cf_id):\n    return custom_fields.get(cf_id).get('options')\n\ndef cf_option_name(cf_id,option_id):\n    return get_cf_options(cf_id).get(option_id)\n\ndef reformat_company_data(company_data):\n    \"\"\"\n    Function to reformat the company data recieved from Copper in their JSON response\n    \"\"\"\n\n    native_items = ['id', 'name', 'address', 'assignee_id', 'contact_type_id']\n\n    output_dict = {}\n\n    for item in native_items:\n        output_dict[item] = company_data.get(item, None)\n    \n    custom_field_data = company_data['custom_fields']\n\n    for dict_item in custom_field_data:\n        item_id = dict_item['custom_field_definition_id']\n        item_name = custom_fields_dict.get(item_id, None)\n\n        if item_name not in Custom_Fields or item_name is None:\n            continue\n        \n        if item_name is not None:\n            item_value = dict_item['value']\n            output_dict[item_name] = item_value\n    \n    return output_dict\n\ndef write_to_gsheet(service_file_path, spreadsheet_id, sheet_name, data_df):\n    \"\"\"\n    this function takes data_df and writes it under spreadsheet_id\n    and sheet_name using your credentials under service_file_path\n    \"\"\"\n    gc = pygsheets.authorize(service_file=service_file_path)\n    sh = gc.open_by_key(spreadsheet_id)\n    try:\n        sh.add_worksheet(sheet_name)\n    except:\n        pass\n    wks_write = sh.worksheet_by_title(sheet_name)\n    wks_write.clear('A1',None,'*')\n    wks_write.set_dataframe(data_df, (1,1), encoding='utf-8', fit=True)\n    wks_write.frozen_rows = 1\n\ncustom_fields_dict = {}\n\nfor item in custom_fields.keys():\n    item_name = custom_fields[item].get('name')\n    custom_fields_dict[item] = item_name\n\ncustom_fields_df = pd.DataFrame(list(custom_fields_dict.items()),columns = ['id','name'])\n\ncustom_fields_list = list(custom_fields_df['name'])",
      "metadata": {
        "source_hash": null,
        "is_code_hidden": false,
        "execution_start": 1704755780241,
        "execution_millis": 690,
        "deepnote_to_be_reexecuted": false,
        "deepnote_app_is_code_hidden": true,
        "cell_id": "8a05950e75c643ba950b7f4ea1a1fdce",
        "deepnote_cell_type": "code"
      },
      "outputs": [],
      "execution_count": null,
      "block_group": "219a4a35eb8045f291ba253140777f6b"
    },
    {
      "cell_type": "markdown",
      "source": "# Daily Job to Get PPV Values",
      "metadata": {
        "formattedRanges": [],
        "cell_id": "f1baf8a6a63a4430b71525ae6ea3eae3",
        "deepnote_cell_type": "text-cell-h1"
      },
      "block_group": "e82de278b5b34c41bc4b09cdae43e558"
    },
    {
      "cell_type": "markdown",
      "source": "Daily job to pull GA4 pageviews from snowflake and combine it with data from Copper to get the total PPVs by day for all advertier and send the results to `AdvertisingPartners_RatesAndBudgets`.\n\n**Data from Snowflake:**\n- Pageviews by `slug` by day\n\n**Data from Coppper:**\n- Center `slug` - to pair to GA4 data\n- Center `GoLive Date` - to discard PPVs before a advertier goes GoLive\n- Center `Page` - similar to slug, but how the data was been historically reported.",
      "metadata": {
        "cell_id": "02f3f6a1b0b946c5b7b7cfbe600fb369",
        "deepnote_cell_type": "markdown"
      },
      "block_group": "7464b3fa18b7441e83b51341ed2a833c"
    },
    {
      "cell_type": "markdown",
      "source": "### Getting Data from Copper",
      "metadata": {
        "formattedRanges": [],
        "cell_id": "afdf8d470c374f2a93c4a54ee11b5813",
        "deepnote_cell_type": "text-cell-h3"
      },
      "block_group": "50e31b5514f445abab06b66309413621"
    },
    {
      "cell_type": "markdown",
      "source": "Let's start by getting the Copper data for all companies with the status of `Advertiser`, `Onboarding-CS`,`Onboarding-AdOps`, `Paused`, or `Churning`.  We can do this by searching for comapnies with these values in the field. Note, that we need to use the id for the custome field, 588393, and the ids for all of the statuses.",
      "metadata": {
        "cell_id": "d77c6f307aec41f699a14a2e52bdcce3",
        "deepnote_cell_type": "markdown"
      },
      "block_group": "a0ce17d7c2d14624a55e1301d616a07b"
    },
    {
      "cell_type": "code",
      "source": "total_pages = page = 1\ncombined_results = []\n\nwhile page <= total_pages:\n    page_params = {\n        \"page_size\": 100,\n        \"page_number\": page,\n        \"custom_fields\": [\n            {\"custom_field_definition_id\": 588393,                  # Company Status - custom field\n            \"value\": [1806073, 1806063,1806064,1824709,1806067]    # List of ids for allowed statuses\n        }\n        ]}\n    result = requests.post('https://api.copper.com/developer_api/v1/companies/search',headers=headers,json=page_params)\n    \n    if result.status_code == 200:\n        total_pages = (int(result.headers['X-PW-TOTAL'])//100)+1\n        print(f\"Getting page {page} of {total_pages}.\")\n        result_json = result.json()\n        combined_results.extend(result_json)\n        page +=1\n\n    else:\n        print(f\"Issue with page {page}. Stopping.\")\n        break",
      "metadata": {
        "source_hash": null,
        "execution_start": 1704755780934,
        "execution_millis": 7961,
        "deepnote_to_be_reexecuted": false,
        "cell_id": "cb3d690834e2449aa191bd755ea7f820",
        "deepnote_cell_type": "code"
      },
      "outputs": [
        {
          "name": "stdout",
          "text": "Getting page 1 of 3.\nGetting page 2 of 3.\nGetting page 3 of 3.\n",
          "output_type": "stream"
        }
      ],
      "execution_count": null,
      "block_group": "02f76ab1040c49d48aa28f60e7963e68"
    },
    {
      "cell_type": "markdown",
      "source": "Now that we have the data we want, we need to do some data cleaning to dates and custom fields and discard information we don't want. First, let's loop through the results, which are in a json/dict format, turn them into a flat list, and finally turn the list into a dataframe.",
      "metadata": {
        "cell_id": "55df67d36d8d46e8bb88c0fc9855875f",
        "deepnote_cell_type": "markdown"
      },
      "block_group": "71ca407047674b22b0498713582b6c3e"
    },
    {
      "cell_type": "code",
      "source": "Custom_Fields = ['Page','GoLive Date','Profile Slug']",
      "metadata": {
        "source_hash": null,
        "execution_start": 1704755788889,
        "execution_millis": 27,
        "deepnote_variable_name": "Custom_Fields",
        "deepnote_variable_value": [
          "Page",
          "GoLive Date",
          "Profile Slug"
        ],
        "deepnote_to_be_reexecuted": false,
        "deepnote_variable_options": [
          "Which RehabPath Website?",
          "WhatsApp",
          "Remarks",
          "Follow up status",
          "Call notes",
          "Center Claimed Status",
          "Paid Subscriptions",
          "Parent of",
          "Child of",
          "Claimed Status",
          "Date Added to LuxuryRehabs.com",
          "Primary Account Contact",
          "Primary Contact Account",
          "LR Profile URL",
          "Business Contact",
          "Business Contact",
          "Admissions Email",
          "Last Charge",
          "Monthly Spending Cap",
          "Pre-Qualification Rating (out of 45)",
          "Verified",
          "Base Rate Monthly Revenue",
          "Monthly Budget (LuxuryRehabs)",
          "Billing PPV Rate (LuxuryRehabs)",
          "First Month PPV Estimate",
          "Max Monthly PPV Estimate",
          "LEGACY_Customer Success Contact",
          "% of Profile Complete",
          "# of Highlights",
          "# of News Items",
          "# of Content Panels",
          "Provider Admissions phone # linked to CTM",
          "Call Tracking CTM - # listed in Profile",
          "Additional Email Domain #1",
          "LegitScript Certified ?",
          "What CRM for Admissions ?",
          "Additional Email Domain #2",
          "Additional Email Domain #3",
          "Pictures of Staff in Profile",
          "Provided Logo ?",
          "Has Youtube Videos ?",
          "Inquiries List",
          "# of Confirmed Admits",
          "Onboarding Meeting Date",
          "Date of First Confirmed Admit",
          "Total # of beds in facility",
          "Current Plan Effective Date",
          "Date Claimed",
          "Campaign Health",
          "Customer Health (old)",
          "Current # of Reviews in Profile",
          "Regional PPV Rate",
          "Uses Parent Budget",
          "Plan Type",
          "Center Group",
          "Performance Report",
          "Last Performance Meeting Date",
          "Profile Slug",
          "Chargify Subscription ID",
          "Currency",
          "Month Spend to Date (USD)",
          "Current Budget Effective Date (LuxuryRehabs)",
          "Update Billing PPV Rate (LuxuryRehabs)",
          "New Billing PPV Rate Effective Date (LuxuryRehabs)",
          "Billing PPV Rate (rehabs.in)",
          "Monthly Budget (Rehabs.in)",
          "Target Cost Per Admit",
          "Accepts Insurance",
          "Combined Address",
          "Country",
          "Bulk Update",
          "Ad Targeting Preferences",
          "Previous Budget",
          "Update Monthly Budget",
          "Meeting Type",
          "Billing Reconciliation Reviewed",
          "Last Date Verified",
          "Top Hitlist",
          "Opportunity Type",
          "Last Month Leads",
          "Conversion Score",
          "Customer Health Check-In",
          "Discovery Meeting Date",
          "Restricted Budget",
          "Reason for Restricted Budget",
          "GoLive Date",
          "Customer Pulse",
          "Budget Increase Last 90 Days (Temporary)",
          "Last Month PoB",
          "Current Month PoB",
          "Delivery Potential",
          "Primary Contact Email",
          "Target Date",
          "Last Month Calls",
          "Last Month Treatment Inquires",
          "Last Month Outbound Links",
          "Last Month Spend",
          "Last Month VOB",
          "Notes",
          "Customer Pulse Date",
          "Page",
          "Closed Date",
          "Customer Defined CPA",
          "Budget Effective Date",
          "Customer Health",
          "Last Month Admits",
          "Admits 2 months ago (if not previously documented)",
          "Admits 3 months ago (if not previously documented)",
          "Contract End Date",
          "Virtual Tour Date",
          "Virtual Tour Link",
          "Onboarding Meeting Link",
          "Discovery Meeting Link",
          "PPV Rate",
          "CS Contact",
          "Customer Success Accounts",
          "Exclude Marketing Comm (Parent)",
          "Is Parent Entity",
          "Company Status",
          "State",
          "Prepayment",
          "Contract Period",
          "Monthly Profile Views",
          "AdRank Multiplier",
          "Last Month Link Leads",
          "Last Month Cost per Lead",
          "Do Not Update Prepayment",
          "Unsubscribe",
          "Inactive Records",
          "Active Record",
          "Created On",
          "Capped",
          "Hubspot (Current Month PoB)",
          "HubSpot Sync",
          "Admits Last 3 Mon",
          "3 Month CPA",
          "CPA Ratio",
          "Primary Account Contact",
          "Expansion Notes (old)",
          "Expansion Notes Updated Date",
          "Expansion Notes",
          "Tracking Attribution",
          "Churn Retro Notes",
          "Churn Request Date",
          "Try To Win Customer Back?",
          "Agency Partner (Commission)",
          "Primary Churn Reason",
          "Churn Reasons",
          "Risk Factors old",
          "Next Steps old",
          "Churn Date",
          "Attribution Notes",
          "Risk Factors",
          "Next Steps",
          "Performance Report (Old-UA)",
          "Agency Partner",
          "LEGACY_Account Owner",
          "Performance Manager",
          "Receives Agency Partner Commissions",
          "Executive Sponsor",
          "Onboarding Start Date"
        ],
        "deepnote_variable_select_type": "from-variable",
        "deepnote_allow_multiple_values": true,
        "deepnote_variable_custom_options": [],
        "deepnote_variable_selected_variable": "custom_fields_list",
        "cell_id": "55a9267bc2b64d8ea1cf6c806c9b43be",
        "deepnote_cell_type": "input-select"
      },
      "outputs": [],
      "execution_count": null,
      "block_group": "9dcd89fb7a8d4784b40c8bf90aad53d6"
    },
    {
      "cell_type": "code",
      "source": "cleaned_data = []\n\nfor idx in range(len(combined_results)):\n    results = reformat_company_data(combined_results[idx]) # using a function I wrote. See hidden section.\n    cleaned_data.append(results)\n\ncleaned_data_df = pd.DataFrame(cleaned_data)\nlist_slugs = list(set(cleaned_data_df['Profile Slug']))\ncleaned_data_df.drop(columns=['id','name','address','assignee_id','contact_type_id'],inplace=True)",
      "metadata": {
        "source_hash": null,
        "execution_start": 1704755788892,
        "execution_millis": 24,
        "deepnote_to_be_reexecuted": false,
        "cell_id": "55b104a2ad8e457190d565d77840567a",
        "deepnote_cell_type": "code"
      },
      "outputs": [],
      "execution_count": null,
      "block_group": "cc9102f498b048bea36fbed3f335599b"
    },
    {
      "cell_type": "markdown",
      "source": "Now that we have a dataframe, let's change the data formate from a unix timestamp to a human readable date.",
      "metadata": {
        "cell_id": "faba965cacc64460899f33374bac0ae5",
        "deepnote_cell_type": "markdown"
      },
      "block_group": "96882f778f6b43cb9350dc05a17d8d58"
    },
    {
      "cell_type": "code",
      "source": "ct_timezone = pytz.timezone('US/Central')\ncleaned_data_df['GoLive Date'] = cleaned_data_df['GoLive Date'].apply(lambda x: pd.to_datetime(x, unit='s'))\ncleaned_data_df",
      "metadata": {
        "source_hash": null,
        "execution_start": 1704755788906,
        "execution_millis": 62,
        "deepnote_to_be_reexecuted": false,
        "cell_id": "7e7c8dbc8694478c99bd3e3550df3928",
        "deepnote_cell_type": "code"
      },
      "outputs": [
        {
          "output_type": "execute_result",
          "execution_count": 5,
          "data": {
            "application/vnd.deepnote.dataframe.v3+json": {
              "column_count": 3,
              "row_count": 298,
              "columns": [
                {
                  "name": "Profile Slug",
                  "dtype": "object",
                  "stats": {
                    "unique_count": 258,
                    "nan_count": 40,
                    "categories": [
                      {
                        "name": "1000-islands",
                        "count": 1
                      },
                      {
                        "name": "257 others",
                        "count": 257
                      },
                      {
                        "name": "Missing",
                        "count": 40
                      }
                    ]
                  }
                },
                {
                  "name": "GoLive Date",
                  "dtype": "datetime64[ns]",
                  "stats": {
                    "unique_count": 178,
                    "nan_count": 28,
                    "min": "1999-12-24 06:00:00",
                    "max": "2024-01-08 06:00:00",
                    "histogram": [
                      {
                        "bin_start": 946015200000000000,
                        "bin_end": 1021883040000000000,
                        "count": 67
                      },
                      {
                        "bin_start": 1021883040000000000,
                        "bin_end": 1097750880000000000,
                        "count": 0
                      },
                      {
                        "bin_start": 1097750880000000000,
                        "bin_end": 1173618720000000000,
                        "count": 0
                      },
                      {
                        "bin_start": 1173618720000000000,
                        "bin_end": 1249486560000000000,
                        "count": 0
                      },
                      {
                        "bin_start": 1249486560000000000,
                        "bin_end": 1325354400000000000,
                        "count": 0
                      },
                      {
                        "bin_start": 1325354400000000000,
                        "bin_end": 1401222240000000000,
                        "count": 0
                      },
                      {
                        "bin_start": 1401222240000000000,
                        "bin_end": 1477090080000000000,
                        "count": 0
                      },
                      {
                        "bin_start": 1477090080000000000,
                        "bin_end": 1552957920000000000,
                        "count": 0
                      },
                      {
                        "bin_start": 1552957920000000000,
                        "bin_end": 1628825760000000000,
                        "count": 0
                      },
                      {
                        "bin_start": 1628825760000000000,
                        "bin_end": 1704693600000000000,
                        "count": 203
                      }
                    ]
                  }
                },
                {
                  "name": "Page",
                  "dtype": "object",
                  "stats": {
                    "unique_count": 258,
                    "nan_count": 40,
                    "categories": [
                      {
                        "name": "/1000-islands/",
                        "count": 1
                      },
                      {
                        "name": "257 others",
                        "count": 257
                      },
                      {
                        "name": "Missing",
                        "count": 40
                      }
                    ]
                  }
                },
                {
                  "name": "_deepnote_index_column",
                  "dtype": "int64"
                }
              ],
              "rows": [
                {
                  "Profile Slug": "1000-islands",
                  "GoLive Date": "1999-12-28 06:00:00",
                  "Page": "/1000-islands/",
                  "_deepnote_index_column": 0
                },
                {
                  "Profile Slug": "90210-recovery-california",
                  "GoLive Date": "1999-12-31 06:00:00",
                  "Page": "/90210-recovery-california/",
                  "_deepnote_index_column": 1
                },
                {
                  "Profile Slug": "abhasa-rehabilitation-thondamuthur-india",
                  "GoLive Date": "2023-03-25 05:00:00",
                  "Page": "/abhasa-rehabilitation-thondamuthur-india/",
                  "_deepnote_index_column": 2
                },
                {
                  "Profile Slug": "None",
                  "GoLive Date": "2023-02-28 06:00:00",
                  "Page": "None",
                  "_deepnote_index_column": 3
                },
                {
                  "Profile Slug": "abhasa-wellness-retreat",
                  "GoLive Date": "2022-10-16 05:00:00",
                  "Page": "/abhasa-wellness-retreat/",
                  "_deepnote_index_column": 4
                },
                {
                  "Profile Slug": "abhasa-rehabilitation-india",
                  "GoLive Date": "2022-10-12 05:00:00",
                  "Page": "/abhasa-rehabilitation-india/",
                  "_deepnote_index_column": 5
                },
                {
                  "Profile Slug": "absolute-awakenings-new-jersey",
                  "GoLive Date": "2023-12-21 06:00:00",
                  "Page": "/absolute-awakenings-new-jersey/",
                  "_deepnote_index_column": 6
                },
                {
                  "Profile Slug": "None",
                  "GoLive Date": "1999-12-24 06:00:00",
                  "Page": "None",
                  "_deepnote_index_column": 7
                },
                {
                  "Profile Slug": "acqua-recovery",
                  "GoLive Date": "2023-12-22 06:00:00",
                  "Page": "/acqua-recovery/",
                  "_deepnote_index_column": 8
                },
                {
                  "Profile Slug": "adcare-rhode-island",
                  "GoLive Date": "2000-01-01 06:00:00",
                  "Page": "/adcare-rhode-island/",
                  "_deepnote_index_column": 9
                }
              ]
            },
            "text/plain": "                                 Profile Slug         GoLive Date  \\\n0                                1000-islands 1999-12-28 06:00:00   \n1                   90210-recovery-california 1999-12-31 06:00:00   \n2    abhasa-rehabilitation-thondamuthur-india 2023-03-25 05:00:00   \n3                                        None 2023-02-28 06:00:00   \n4                     abhasa-wellness-retreat 2022-10-16 05:00:00   \n..                                        ...                 ...   \n293                  wish-recovery-california 2023-07-14 05:00:00   \n294                within-center-austin-texas 2023-10-08 05:00:00   \n295                  zeus-rehab-warsaw-poland 2024-01-04 23:00:00   \n296              zinnia-healing-singer-island 2023-05-05 05:00:00   \n297                                      None 2023-05-04 05:00:00   \n\n                                           Page  \n0                                /1000-islands/  \n1                   /90210-recovery-california/  \n2    /abhasa-rehabilitation-thondamuthur-india/  \n3                                          None  \n4                     /abhasa-wellness-retreat/  \n..                                          ...  \n293                  /wish-recovery-california/  \n294                /within-center-austin-texas/  \n295                  /zeus-rehab-warsaw-poland/  \n296              /zinnia-healing-singer-island/  \n297                                        None  \n\n[298 rows x 3 columns]",
            "text/html": "<div>\n<style scoped>\n    .dataframe tbody tr th:only-of-type {\n        vertical-align: middle;\n    }\n\n    .dataframe tbody tr th {\n        vertical-align: top;\n    }\n\n    .dataframe thead th {\n        text-align: right;\n    }\n</style>\n<table border=\"1\" class=\"dataframe\">\n  <thead>\n    <tr style=\"text-align: right;\">\n      <th></th>\n      <th>Profile Slug</th>\n      <th>GoLive Date</th>\n      <th>Page</th>\n    </tr>\n  </thead>\n  <tbody>\n    <tr>\n      <th>0</th>\n      <td>1000-islands</td>\n      <td>1999-12-28 06:00:00</td>\n      <td>/1000-islands/</td>\n    </tr>\n    <tr>\n      <th>1</th>\n      <td>90210-recovery-california</td>\n      <td>1999-12-31 06:00:00</td>\n      <td>/90210-recovery-california/</td>\n    </tr>\n    <tr>\n      <th>2</th>\n      <td>abhasa-rehabilitation-thondamuthur-india</td>\n      <td>2023-03-25 05:00:00</td>\n      <td>/abhasa-rehabilitation-thondamuthur-india/</td>\n    </tr>\n    <tr>\n      <th>3</th>\n      <td>None</td>\n      <td>2023-02-28 06:00:00</td>\n      <td>None</td>\n    </tr>\n    <tr>\n      <th>4</th>\n      <td>abhasa-wellness-retreat</td>\n      <td>2022-10-16 05:00:00</td>\n      <td>/abhasa-wellness-retreat/</td>\n    </tr>\n    <tr>\n      <th>...</th>\n      <td>...</td>\n      <td>...</td>\n      <td>...</td>\n    </tr>\n    <tr>\n      <th>293</th>\n      <td>wish-recovery-california</td>\n      <td>2023-07-14 05:00:00</td>\n      <td>/wish-recovery-california/</td>\n    </tr>\n    <tr>\n      <th>294</th>\n      <td>within-center-austin-texas</td>\n      <td>2023-10-08 05:00:00</td>\n      <td>/within-center-austin-texas/</td>\n    </tr>\n    <tr>\n      <th>295</th>\n      <td>zeus-rehab-warsaw-poland</td>\n      <td>2024-01-04 23:00:00</td>\n      <td>/zeus-rehab-warsaw-poland/</td>\n    </tr>\n    <tr>\n      <th>296</th>\n      <td>zinnia-healing-singer-island</td>\n      <td>2023-05-05 05:00:00</td>\n      <td>/zinnia-healing-singer-island/</td>\n    </tr>\n    <tr>\n      <th>297</th>\n      <td>None</td>\n      <td>2023-05-04 05:00:00</td>\n      <td>None</td>\n    </tr>\n  </tbody>\n</table>\n<p>298 rows × 3 columns</p>\n</div>"
          },
          "metadata": {}
        }
      ],
      "execution_count": null,
      "block_group": "b5bc9eb5f0de445fa76b86a08de74891"
    },
    {
      "cell_type": "markdown",
      "source": "### Getting Views from Snowflake",
      "metadata": {
        "formattedRanges": [],
        "cell_id": "b9356e5fa8434d60a480b2462b58fe62",
        "deepnote_cell_type": "text-cell-h3"
      },
      "block_group": "da6b7685d59e4e2894cff8ee96fe5d1f"
    },
    {
      "cell_type": "markdown",
      "source": "We can pull all of the pageviews / ppvs data from snowflake by inserting dynamic values into the SQL query. We want all of the data for yesterday's month and year. This get's the whole month of data even when yesterday was the last day of the month.",
      "metadata": {
        "cell_id": "047c87e892a24d9090854843b0cef586",
        "deepnote_cell_type": "markdown"
      },
      "block_group": "fcf24330df4949acabc3f8c5954ac39e"
    },
    {
      "cell_type": "code",
      "source": "yesterday = datetime.now(ct_timezone)-timedelta(1)\nsearch_year = yesterday.year\nsearch_month = yesterday.month",
      "metadata": {
        "source_hash": null,
        "execution_start": 1704755789012,
        "execution_millis": 23,
        "deepnote_to_be_reexecuted": false,
        "cell_id": "0eb8922aa2864ae98cf21272e80df0e7",
        "deepnote_cell_type": "code"
      },
      "outputs": [],
      "execution_count": null,
      "block_group": "fffa9c586c114e58b55d7e9ebeec04db"
    },
    {
      "cell_type": "markdown",
      "source": "We can insert dynamic values into the SQL querry by using double curly bracekts {{example}}.",
      "metadata": {
        "cell_id": "e8b0bf091dcc4c9abd956f670ee5998e",
        "deepnote_cell_type": "markdown"
      },
      "block_group": "fdca8a4bb022408082335d03064a28fd"
    },
    {
      "cell_type": "code",
      "source": "views_df = _deepnote_execute_sql('SELECT * \\nFROM RP_PROD_DL.\"CLEAN_TABLES_GA4\".CENTER_DAILY_VIEWS \\nWHERE YEAR(AS_OF_DATE) = {{search_year}} AND MONTH(AS_OF_DATE) = {{search_month}};', 'SQL_5E90C4C2_A521_4993_A1E9_D77837A4FD79', audit_sql_comment='', sql_cache_mode='cache_disabled')\nviews_df",
      "metadata": {
        "source_hash": null,
        "execution_start": 1704755789013,
        "execution_millis": 3819,
        "sql_integration_id": "5e90c4c2-a521-4993-a1e9-d77837a4fd79",
        "deepnote_variable_name": "views_df",
        "deepnote_to_be_reexecuted": false,
        "cell_id": "2ef8ccad13aa41b09bee6365f2d84e16",
        "deepnote_cell_type": "sql",
        "deepnote_sql_source": "SELECT * \nFROM RP_PROD_DL.\"CLEAN_TABLES_GA4\".CENTER_DAILY_VIEWS \nWHERE YEAR(AS_OF_DATE) = {{search_year}} AND MONTH(AS_OF_DATE) = {{search_month}};"
      },
      "outputs": [
        {
          "data": {
            "application/vnd.deepnote.sql-output-metadata+json": {
              "status": "success_no_cache",
              "size_in_bytes": 12300492
            }
          },
          "metadata": {},
          "output_type": "display_data"
        },
        {
          "output_type": "execute_result",
          "execution_count": 7,
          "data": {
            "application/vnd.deepnote.dataframe.v3+json": {
              "column_count": 6,
              "row_count": 38079,
              "columns": [
                {
                  "name": "as_of_date",
                  "dtype": "object",
                  "stats": {
                    "unique_count": 8,
                    "nan_count": 0,
                    "categories": [
                      {
                        "name": "2024-01-07",
                        "count": 6294
                      },
                      {
                        "name": "2024-01-06",
                        "count": 6120
                      },
                      {
                        "name": "6 others",
                        "count": 25665
                      }
                    ]
                  }
                },
                {
                  "name": "slug",
                  "dtype": "object",
                  "stats": {
                    "unique_count": 3403,
                    "nan_count": 0,
                    "categories": [
                      {
                        "name": "",
                        "count": 1247
                      },
                      {
                        "name": "united-states",
                        "count": 1024
                      },
                      {
                        "name": "3401 others",
                        "count": 35808
                      }
                    ]
                  }
                },
                {
                  "name": "property_id",
                  "dtype": "object"
                },
                {
                  "name": "region",
                  "dtype": "object"
                },
                {
                  "name": "city",
                  "dtype": "object"
                },
                {
                  "name": "number_of_views",
                  "dtype": "int64"
                },
                {
                  "name": "_deepnote_index_column",
                  "dtype": "int64"
                }
              ],
              "rows": [
                {
                  "as_of_date": "2024-01-04",
                  "slug": "browse",
                  "property_id": "278764105",
                  "region": "Florida",
                  "city": "Orlando",
                  "number_of_views": 14,
                  "_deepnote_index_column": 0
                },
                {
                  "as_of_date": "2024-01-04",
                  "slug": "houston",
                  "property_id": "278764105",
                  "region": "Texas",
                  "city": "Houston",
                  "number_of_views": 8,
                  "_deepnote_index_column": 1
                },
                {
                  "as_of_date": "2024-01-04",
                  "slug": "",
                  "property_id": "278764105",
                  "region": "California",
                  "city": "Irvine",
                  "number_of_views": 3,
                  "_deepnote_index_column": 2
                },
                {
                  "as_of_date": "2024-01-04",
                  "slug": "ohlhoff-california",
                  "property_id": "278764105",
                  "region": "California",
                  "city": "San Francisco",
                  "number_of_views": 3,
                  "_deepnote_index_column": 3
                },
                {
                  "as_of_date": "2024-01-04",
                  "slug": "condition",
                  "property_id": "278764105",
                  "region": "Texas",
                  "city": "Keller",
                  "number_of_views": 2,
                  "_deepnote_index_column": 4
                },
                {
                  "as_of_date": "2024-01-04",
                  "slug": "holina-koh-phangan-thailand",
                  "property_id": "278764105",
                  "region": "England",
                  "city": "Reading",
                  "number_of_views": 4,
                  "_deepnote_index_column": 5
                },
                {
                  "as_of_date": "2024-01-04",
                  "slug": "blue-sky-behavioral-health-connecticut",
                  "property_id": "278764105",
                  "region": "New York",
                  "city": "New York",
                  "number_of_views": 2,
                  "_deepnote_index_column": 6
                },
                {
                  "as_of_date": "2024-01-04",
                  "slug": "yellowbrick-illinois",
                  "property_id": "278764105",
                  "region": "Nebraska",
                  "city": "Tekamah",
                  "number_of_views": 2,
                  "_deepnote_index_column": 7
                },
                {
                  "as_of_date": "2024-01-04",
                  "slug": "thailand",
                  "property_id": "278764105",
                  "region": "North Carolina",
                  "city": "Charlotte",
                  "number_of_views": 3,
                  "_deepnote_index_column": 8
                },
                {
                  "as_of_date": "2024-01-04",
                  "slug": "provider-services",
                  "property_id": "278764105",
                  "region": "Wisconsin",
                  "city": "Madison",
                  "number_of_views": 2,
                  "_deepnote_index_column": 9
                }
              ]
            },
            "text/plain": "       as_of_date                        slug property_id         region  \\\n0      2024-01-04                      browse   278764105        Florida   \n1      2024-01-04                     houston   278764105          Texas   \n2      2024-01-04                               278764105     California   \n3      2024-01-04          ohlhoff-california   278764105     California   \n4      2024-01-04                   condition   278764105          Texas   \n...           ...                         ...         ...            ...   \n38074  2024-01-03                   therapies   278764105     California   \n38075  2024-01-03                               278764105  Massachusetts   \n38076  2024-01-02                   wisconsin   278764105      Wisconsin   \n38077  2024-01-02  searidge-foundation-canada   278764105    Nova Scotia   \n38078  2024-01-02                 reflections   278764105       Michigan   \n\n                city  number_of_views  \n0            Orlando               14  \n1            Houston                8  \n2             Irvine                3  \n3      San Francisco                3  \n4             Keller                2  \n...              ...              ...  \n38074      Camarillo                3  \n38075       Monterey                2  \n38076       Waukesha                1  \n38077      Dartmouth                1  \n38078      Ann Arbor                1  \n\n[38079 rows x 6 columns]",
            "text/html": "<div>\n<style scoped>\n    .dataframe tbody tr th:only-of-type {\n        vertical-align: middle;\n    }\n\n    .dataframe tbody tr th {\n        vertical-align: top;\n    }\n\n    .dataframe thead th {\n        text-align: right;\n    }\n</style>\n<table border=\"1\" class=\"dataframe\">\n  <thead>\n    <tr style=\"text-align: right;\">\n      <th></th>\n      <th>as_of_date</th>\n      <th>slug</th>\n      <th>property_id</th>\n      <th>region</th>\n      <th>city</th>\n      <th>number_of_views</th>\n    </tr>\n  </thead>\n  <tbody>\n    <tr>\n      <th>0</th>\n      <td>2024-01-04</td>\n      <td>browse</td>\n      <td>278764105</td>\n      <td>Florida</td>\n      <td>Orlando</td>\n      <td>14</td>\n    </tr>\n    <tr>\n      <th>1</th>\n      <td>2024-01-04</td>\n      <td>houston</td>\n      <td>278764105</td>\n      <td>Texas</td>\n      <td>Houston</td>\n      <td>8</td>\n    </tr>\n    <tr>\n      <th>2</th>\n      <td>2024-01-04</td>\n      <td></td>\n      <td>278764105</td>\n      <td>California</td>\n      <td>Irvine</td>\n      <td>3</td>\n    </tr>\n    <tr>\n      <th>3</th>\n      <td>2024-01-04</td>\n      <td>ohlhoff-california</td>\n      <td>278764105</td>\n      <td>California</td>\n      <td>San Francisco</td>\n      <td>3</td>\n    </tr>\n    <tr>\n      <th>4</th>\n      <td>2024-01-04</td>\n      <td>condition</td>\n      <td>278764105</td>\n      <td>Texas</td>\n      <td>Keller</td>\n      <td>2</td>\n    </tr>\n    <tr>\n      <th>...</th>\n      <td>...</td>\n      <td>...</td>\n      <td>...</td>\n      <td>...</td>\n      <td>...</td>\n      <td>...</td>\n    </tr>\n    <tr>\n      <th>38074</th>\n      <td>2024-01-03</td>\n      <td>therapies</td>\n      <td>278764105</td>\n      <td>California</td>\n      <td>Camarillo</td>\n      <td>3</td>\n    </tr>\n    <tr>\n      <th>38075</th>\n      <td>2024-01-03</td>\n      <td></td>\n      <td>278764105</td>\n      <td>Massachusetts</td>\n      <td>Monterey</td>\n      <td>2</td>\n    </tr>\n    <tr>\n      <th>38076</th>\n      <td>2024-01-02</td>\n      <td>wisconsin</td>\n      <td>278764105</td>\n      <td>Wisconsin</td>\n      <td>Waukesha</td>\n      <td>1</td>\n    </tr>\n    <tr>\n      <th>38077</th>\n      <td>2024-01-02</td>\n      <td>searidge-foundation-canada</td>\n      <td>278764105</td>\n      <td>Nova Scotia</td>\n      <td>Dartmouth</td>\n      <td>1</td>\n    </tr>\n    <tr>\n      <th>38078</th>\n      <td>2024-01-02</td>\n      <td>reflections</td>\n      <td>278764105</td>\n      <td>Michigan</td>\n      <td>Ann Arbor</td>\n      <td>1</td>\n    </tr>\n  </tbody>\n</table>\n<p>38079 rows × 6 columns</p>\n</div>"
          },
          "metadata": {}
        }
      ],
      "execution_count": null,
      "block_group": "ae7d116e5d2b4f4b83e71d4e7013d5d0"
    },
    {
      "cell_type": "markdown",
      "source": "Now that we have the data, let's again do some data cleaning. We need to turn `as_of_date` into a date datatype, discard data for non-advertisers and listing pages, and transform the data into a table.",
      "metadata": {
        "cell_id": "e0011ba2474a4ac0b07b45dffb867991",
        "deepnote_cell_type": "markdown"
      },
      "block_group": "95cbb1b694874545bc006cd5d4b76526"
    },
    {
      "cell_type": "code",
      "source": "# Formating Date:\nviews_df['as_of_date'] = views_df['as_of_date'].astype(str)\n\n# Discarding unneeded data:\nfiltered_views = views_df[views_df['slug'].isin(list_slugs)][['as_of_date', 'slug', 'number_of_views']]\n\n# Formating into a table:\npivoted_views = filtered_views.groupby(['slug', 'as_of_date'])['number_of_views'].sum().unstack().reset_index()\npivoted_views.rename(columns={'slug':'Profile Slug'},inplace=True)\npivoted_views",
      "metadata": {
        "source_hash": null,
        "execution_start": 1704755792856,
        "execution_millis": 47,
        "deepnote_to_be_reexecuted": false,
        "cell_id": "eb020c89738843449d49700921bfefe6",
        "deepnote_cell_type": "code"
      },
      "outputs": [
        {
          "output_type": "execute_result",
          "execution_count": 8,
          "data": {
            "application/vnd.deepnote.dataframe.v3+json": {
              "column_count": 9,
              "row_count": 255,
              "columns": [
                {
                  "name": "Profile Slug",
                  "dtype": "object",
                  "stats": {
                    "unique_count": 255,
                    "nan_count": 0,
                    "categories": [
                      {
                        "name": "1000-islands",
                        "count": 1
                      },
                      {
                        "name": "90210-recovery-california",
                        "count": 1
                      },
                      {
                        "name": "253 others",
                        "count": 253
                      }
                    ]
                  }
                },
                {
                  "name": "2024-01-01",
                  "dtype": "float64",
                  "stats": {
                    "unique_count": 22,
                    "nan_count": 47,
                    "min": "1.0",
                    "max": "30.0",
                    "histogram": [
                      {
                        "bin_start": 1,
                        "bin_end": 3.9,
                        "count": 98
                      },
                      {
                        "bin_start": 3.9,
                        "bin_end": 6.8,
                        "count": 47
                      },
                      {
                        "bin_start": 6.8,
                        "bin_end": 9.7,
                        "count": 30
                      },
                      {
                        "bin_start": 9.7,
                        "bin_end": 12.6,
                        "count": 16
                      },
                      {
                        "bin_start": 12.6,
                        "bin_end": 15.5,
                        "count": 3
                      },
                      {
                        "bin_start": 15.5,
                        "bin_end": 18.4,
                        "count": 1
                      },
                      {
                        "bin_start": 18.4,
                        "bin_end": 21.3,
                        "count": 4
                      },
                      {
                        "bin_start": 21.3,
                        "bin_end": 24.2,
                        "count": 5
                      },
                      {
                        "bin_start": 24.2,
                        "bin_end": 27.099999999999998,
                        "count": 0
                      },
                      {
                        "bin_start": 27.099999999999998,
                        "bin_end": 30,
                        "count": 4
                      }
                    ]
                  }
                },
                {
                  "name": "2024-01-02",
                  "dtype": "float64",
                  "stats": {
                    "unique_count": 28,
                    "nan_count": 32,
                    "min": "1.0",
                    "max": "40.0",
                    "histogram": [
                      {
                        "bin_start": 1,
                        "bin_end": 4.9,
                        "count": 98
                      },
                      {
                        "bin_start": 4.9,
                        "bin_end": 8.8,
                        "count": 62
                      },
                      {
                        "bin_start": 8.8,
                        "bin_end": 12.7,
                        "count": 32
                      },
                      {
                        "bin_start": 12.7,
                        "bin_end": 16.6,
                        "count": 12
                      },
                      {
                        "bin_start": 16.6,
                        "bin_end": 20.5,
                        "count": 8
                      },
                      {
                        "bin_start": 20.5,
                        "bin_end": 24.4,
                        "count": 6
                      },
                      {
                        "bin_start": 24.4,
                        "bin_end": 28.3,
                        "count": 1
                      },
                      {
                        "bin_start": 28.3,
                        "bin_end": 32.2,
                        "count": 1
                      },
                      {
                        "bin_start": 32.2,
                        "bin_end": 36.1,
                        "count": 1
                      },
                      {
                        "bin_start": 36.1,
                        "bin_end": 40,
                        "count": 2
                      }
                    ]
                  }
                },
                {
                  "name": "2024-01-03",
                  "dtype": "float64",
                  "stats": {
                    "unique_count": 30,
                    "nan_count": 20,
                    "min": "1.0",
                    "max": "53.0",
                    "histogram": [
                      {
                        "bin_start": 1,
                        "bin_end": 6.2,
                        "count": 154
                      },
                      {
                        "bin_start": 6.2,
                        "bin_end": 11.4,
                        "count": 38
                      },
                      {
                        "bin_start": 11.4,
                        "bin_end": 16.6,
                        "count": 24
                      },
                      {
                        "bin_start": 16.6,
                        "bin_end": 21.8,
                        "count": 8
                      },
                      {
                        "bin_start": 21.8,
                        "bin_end": 27,
                        "count": 5
                      },
                      {
                        "bin_start": 27,
                        "bin_end": 32.2,
                        "count": 4
                      },
                      {
                        "bin_start": 32.2,
                        "bin_end": 37.4,
                        "count": 1
                      },
                      {
                        "bin_start": 37.4,
                        "bin_end": 42.6,
                        "count": 0
                      },
                      {
                        "bin_start": 42.6,
                        "bin_end": 47.800000000000004,
                        "count": 0
                      },
                      {
                        "bin_start": 47.800000000000004,
                        "bin_end": 53,
                        "count": 1
                      }
                    ]
                  }
                },
                {
                  "name": "2024-01-04",
                  "dtype": "float64",
                  "stats": {
                    "unique_count": 31,
                    "nan_count": 30,
                    "min": "1.0",
                    "max": "50.0",
                    "histogram": [
                      {
                        "bin_start": 1,
                        "bin_end": 5.9,
                        "count": 137
                      },
                      {
                        "bin_start": 5.9,
                        "bin_end": 10.8,
                        "count": 43
                      },
                      {
                        "bin_start": 10.8,
                        "bin_end": 15.700000000000001,
                        "count": 22
                      },
                      {
                        "bin_start": 15.700000000000001,
                        "bin_end": 20.6,
                        "count": 9
                      },
                      {
                        "bin_start": 20.6,
                        "bin_end": 25.5,
                        "count": 5
                      },
                      {
                        "bin_start": 25.5,
                        "bin_end": 30.400000000000002,
                        "count": 4
                      },
                      {
                        "bin_start": 30.400000000000002,
                        "bin_end": 35.300000000000004,
                        "count": 3
                      },
                      {
                        "bin_start": 35.300000000000004,
                        "bin_end": 40.2,
                        "count": 0
                      },
                      {
                        "bin_start": 40.2,
                        "bin_end": 45.1,
                        "count": 0
                      },
                      {
                        "bin_start": 45.1,
                        "bin_end": 50,
                        "count": 2
                      }
                    ]
                  }
                },
                {
                  "name": "2024-01-05",
                  "dtype": "float64",
                  "stats": {
                    "unique_count": 27,
                    "nan_count": 26,
                    "min": "1.0",
                    "max": "37.0",
                    "histogram": [
                      {
                        "bin_start": 1,
                        "bin_end": 4.6,
                        "count": 106
                      },
                      {
                        "bin_start": 4.6,
                        "bin_end": 8.2,
                        "count": 62
                      },
                      {
                        "bin_start": 8.2,
                        "bin_end": 11.8,
                        "count": 21
                      },
                      {
                        "bin_start": 11.8,
                        "bin_end": 15.4,
                        "count": 20
                      },
                      {
                        "bin_start": 15.4,
                        "bin_end": 19,
                        "count": 7
                      },
                      {
                        "bin_start": 19,
                        "bin_end": 22.6,
                        "count": 3
                      },
                      {
                        "bin_start": 22.6,
                        "bin_end": 26.2,
                        "count": 5
                      },
                      {
                        "bin_start": 26.2,
                        "bin_end": 29.8,
                        "count": 2
                      },
                      {
                        "bin_start": 29.8,
                        "bin_end": 33.4,
                        "count": 1
                      },
                      {
                        "bin_start": 33.4,
                        "bin_end": 37,
                        "count": 2
                      }
                    ]
                  }
                },
                {
                  "name": "2024-01-06",
                  "dtype": "float64",
                  "stats": {
                    "unique_count": 32,
                    "nan_count": 31,
                    "min": "1.0",
                    "max": "48.0",
                    "histogram": [
                      {
                        "bin_start": 1,
                        "bin_end": 5.7,
                        "count": 114
                      },
                      {
                        "bin_start": 5.7,
                        "bin_end": 10.4,
                        "count": 51
                      },
                      {
                        "bin_start": 10.4,
                        "bin_end": 15.100000000000001,
                        "count": 28
                      },
                      {
                        "bin_start": 15.100000000000001,
                        "bin_end": 19.8,
                        "count": 8
                      },
                      {
                        "bin_start": 19.8,
                        "bin_end": 24.5,
                        "count": 12
                      },
                      {
                        "bin_start": 24.5,
                        "bin_end": 29.200000000000003,
                        "count": 5
                      },
                      {
                        "bin_start": 29.200000000000003,
                        "bin_end": 33.9,
                        "count": 2
                      },
                      {
                        "bin_start": 33.9,
                        "bin_end": 38.6,
                        "count": 2
                      },
                      {
                        "bin_start": 38.6,
                        "bin_end": 43.300000000000004,
                        "count": 1
                      },
                      {
                        "bin_start": 43.300000000000004,
                        "bin_end": 48,
                        "count": 1
                      }
                    ]
                  }
                },
                {
                  "name": "2024-01-07",
                  "dtype": "float64",
                  "stats": {
                    "unique_count": 34,
                    "nan_count": 29,
                    "min": "1.0",
                    "max": "57.0",
                    "histogram": [
                      {
                        "bin_start": 1,
                        "bin_end": 6.6,
                        "count": 118
                      },
                      {
                        "bin_start": 6.6,
                        "bin_end": 12.2,
                        "count": 63
                      },
                      {
                        "bin_start": 12.2,
                        "bin_end": 17.799999999999997,
                        "count": 17
                      },
                      {
                        "bin_start": 17.799999999999997,
                        "bin_end": 23.4,
                        "count": 14
                      },
                      {
                        "bin_start": 23.4,
                        "bin_end": 29,
                        "count": 7
                      },
                      {
                        "bin_start": 29,
                        "bin_end": 34.599999999999994,
                        "count": 2
                      },
                      {
                        "bin_start": 34.599999999999994,
                        "bin_end": 40.199999999999996,
                        "count": 2
                      },
                      {
                        "bin_start": 40.199999999999996,
                        "bin_end": 45.8,
                        "count": 2
                      },
                      {
                        "bin_start": 45.8,
                        "bin_end": 51.4,
                        "count": 0
                      },
                      {
                        "bin_start": 51.4,
                        "bin_end": 57,
                        "count": 1
                      }
                    ]
                  }
                },
                {
                  "name": "2024-01-08",
                  "dtype": "float64",
                  "stats": {
                    "unique_count": 6,
                    "nan_count": 156,
                    "min": "1.0",
                    "max": "8.0",
                    "histogram": [
                      {
                        "bin_start": 1,
                        "bin_end": 1.7,
                        "count": 79
                      },
                      {
                        "bin_start": 1.7,
                        "bin_end": 2.4,
                        "count": 11
                      },
                      {
                        "bin_start": 2.4,
                        "bin_end": 3.0999999999999996,
                        "count": 6
                      },
                      {
                        "bin_start": 3.0999999999999996,
                        "bin_end": 3.8,
                        "count": 0
                      },
                      {
                        "bin_start": 3.8,
                        "bin_end": 4.5,
                        "count": 1
                      },
                      {
                        "bin_start": 4.5,
                        "bin_end": 5.199999999999999,
                        "count": 0
                      },
                      {
                        "bin_start": 5.199999999999999,
                        "bin_end": 5.8999999999999995,
                        "count": 0
                      },
                      {
                        "bin_start": 5.8999999999999995,
                        "bin_end": 6.6,
                        "count": 1
                      },
                      {
                        "bin_start": 6.6,
                        "bin_end": 7.3,
                        "count": 0
                      },
                      {
                        "bin_start": 7.3,
                        "bin_end": 8,
                        "count": 1
                      }
                    ]
                  }
                },
                {
                  "name": "_deepnote_index_column",
                  "dtype": "int64"
                }
              ],
              "rows": [
                {
                  "Profile Slug": "1000-islands",
                  "2024-01-01": 28,
                  "2024-01-02": 18,
                  "2024-01-03": 18,
                  "2024-01-04": 12,
                  "2024-01-05": 10,
                  "2024-01-06": 13,
                  "2024-01-07": 27,
                  "2024-01-08": 6,
                  "_deepnote_index_column": 0
                },
                {
                  "Profile Slug": "90210-recovery-california",
                  "2024-01-01": 5,
                  "2024-01-02": 2,
                  "2024-01-03": 4,
                  "2024-01-04": 4,
                  "2024-01-05": 2,
                  "2024-01-06": 6,
                  "2024-01-07": 7,
                  "2024-01-08": "nan",
                  "_deepnote_index_column": 1
                },
                {
                  "Profile Slug": "abhasa-rehabilitation-india",
                  "2024-01-01": 15,
                  "2024-01-02": 11,
                  "2024-01-03": 7,
                  "2024-01-04": 8,
                  "2024-01-05": 7,
                  "2024-01-06": 12,
                  "2024-01-07": 16,
                  "2024-01-08": 1,
                  "_deepnote_index_column": 2
                },
                {
                  "Profile Slug": "abhasa-rehabilitation-thondamuthur-india",
                  "2024-01-01": 8,
                  "2024-01-02": 6,
                  "2024-01-03": 3,
                  "2024-01-04": 6,
                  "2024-01-05": 1,
                  "2024-01-06": 12,
                  "2024-01-07": 11,
                  "2024-01-08": "nan",
                  "_deepnote_index_column": 3
                },
                {
                  "Profile Slug": "abhasa-wellness-retreat",
                  "2024-01-01": 7,
                  "2024-01-02": 5,
                  "2024-01-03": 7,
                  "2024-01-04": 2,
                  "2024-01-05": 3,
                  "2024-01-06": 13,
                  "2024-01-07": 12,
                  "2024-01-08": 1,
                  "_deepnote_index_column": 4
                },
                {
                  "Profile Slug": "absolute-awakenings-new-jersey",
                  "2024-01-01": "nan",
                  "2024-01-02": 12,
                  "2024-01-03": 1,
                  "2024-01-04": "nan",
                  "2024-01-05": 5,
                  "2024-01-06": 1,
                  "2024-01-07": 2,
                  "2024-01-08": 1,
                  "_deepnote_index_column": 5
                },
                {
                  "Profile Slug": "acqua-recovery",
                  "2024-01-01": 2,
                  "2024-01-02": 8,
                  "2024-01-03": 14,
                  "2024-01-04": 5,
                  "2024-01-05": 5,
                  "2024-01-06": 7,
                  "2024-01-07": 3,
                  "2024-01-08": "nan",
                  "_deepnote_index_column": 6
                },
                {
                  "Profile Slug": "adcare-rhode-island",
                  "2024-01-01": 7,
                  "2024-01-02": 3,
                  "2024-01-03": 1,
                  "2024-01-04": 5,
                  "2024-01-05": 9,
                  "2024-01-06": 1,
                  "2024-01-07": 7,
                  "2024-01-08": 1,
                  "_deepnote_index_column": 7
                },
                {
                  "Profile Slug": "affect2u-vosselaar-belgium",
                  "2024-01-01": 8,
                  "2024-01-02": 10,
                  "2024-01-03": 5,
                  "2024-01-04": 11,
                  "2024-01-05": 10,
                  "2024-01-06": 7,
                  "2024-01-07": 21,
                  "2024-01-08": "nan",
                  "_deepnote_index_column": 8
                },
                {
                  "Profile Slug": "agape-treatment-center-fort-lauderdale-florida",
                  "2024-01-01": 2,
                  "2024-01-02": 1,
                  "2024-01-03": 2,
                  "2024-01-04": 3,
                  "2024-01-05": 1,
                  "2024-01-06": 3,
                  "2024-01-07": 4,
                  "2024-01-08": 1,
                  "_deepnote_index_column": 9
                }
              ]
            },
            "text/plain": "as_of_date                                Profile Slug  2024-01-01  \\\n0                                         1000-islands        28.0   \n1                            90210-recovery-california         5.0   \n2                          abhasa-rehabilitation-india        15.0   \n3             abhasa-rehabilitation-thondamuthur-india         8.0   \n4                              abhasa-wellness-retreat         7.0   \n..                                                 ...         ...   \n250         wilmington-treatment-center-north-carolina         1.0   \n251                           wish-recovery-california        21.0   \n252                         within-center-austin-texas         4.0   \n253                           zeus-rehab-warsaw-poland         5.0   \n254                       zinnia-healing-singer-island         3.0   \n\nas_of_date  2024-01-02  2024-01-03  2024-01-04  2024-01-05  2024-01-06  \\\n0                 18.0        18.0        12.0        10.0        13.0   \n1                  2.0         4.0         4.0         2.0         6.0   \n2                 11.0         7.0         8.0         7.0        12.0   \n3                  6.0         3.0         6.0         1.0        12.0   \n4                  5.0         7.0         2.0         3.0        13.0   \n..                 ...         ...         ...         ...         ...   \n250                3.0         NaN         2.0         2.0         3.0   \n251               13.0        16.0        17.0        17.0        33.0   \n252                3.0        11.0        13.0         8.0         8.0   \n253                1.0         2.0         3.0         7.0        13.0   \n254                3.0         4.0         2.0         5.0         3.0   \n\nas_of_date  2024-01-07  2024-01-08  \n0                 27.0         6.0  \n1                  7.0         NaN  \n2                 16.0         1.0  \n3                 11.0         NaN  \n4                 12.0         1.0  \n..                 ...         ...  \n250                1.0         NaN  \n251               30.0         NaN  \n252               19.0         1.0  \n253               12.0         NaN  \n254                2.0         NaN  \n\n[255 rows x 9 columns]",
            "text/html": "<div>\n<style scoped>\n    .dataframe tbody tr th:only-of-type {\n        vertical-align: middle;\n    }\n\n    .dataframe tbody tr th {\n        vertical-align: top;\n    }\n\n    .dataframe thead th {\n        text-align: right;\n    }\n</style>\n<table border=\"1\" class=\"dataframe\">\n  <thead>\n    <tr style=\"text-align: right;\">\n      <th>as_of_date</th>\n      <th>Profile Slug</th>\n      <th>2024-01-01</th>\n      <th>2024-01-02</th>\n      <th>2024-01-03</th>\n      <th>2024-01-04</th>\n      <th>2024-01-05</th>\n      <th>2024-01-06</th>\n      <th>2024-01-07</th>\n      <th>2024-01-08</th>\n    </tr>\n  </thead>\n  <tbody>\n    <tr>\n      <th>0</th>\n      <td>1000-islands</td>\n      <td>28.0</td>\n      <td>18.0</td>\n      <td>18.0</td>\n      <td>12.0</td>\n      <td>10.0</td>\n      <td>13.0</td>\n      <td>27.0</td>\n      <td>6.0</td>\n    </tr>\n    <tr>\n      <th>1</th>\n      <td>90210-recovery-california</td>\n      <td>5.0</td>\n      <td>2.0</td>\n      <td>4.0</td>\n      <td>4.0</td>\n      <td>2.0</td>\n      <td>6.0</td>\n      <td>7.0</td>\n      <td>NaN</td>\n    </tr>\n    <tr>\n      <th>2</th>\n      <td>abhasa-rehabilitation-india</td>\n      <td>15.0</td>\n      <td>11.0</td>\n      <td>7.0</td>\n      <td>8.0</td>\n      <td>7.0</td>\n      <td>12.0</td>\n      <td>16.0</td>\n      <td>1.0</td>\n    </tr>\n    <tr>\n      <th>3</th>\n      <td>abhasa-rehabilitation-thondamuthur-india</td>\n      <td>8.0</td>\n      <td>6.0</td>\n      <td>3.0</td>\n      <td>6.0</td>\n      <td>1.0</td>\n      <td>12.0</td>\n      <td>11.0</td>\n      <td>NaN</td>\n    </tr>\n    <tr>\n      <th>4</th>\n      <td>abhasa-wellness-retreat</td>\n      <td>7.0</td>\n      <td>5.0</td>\n      <td>7.0</td>\n      <td>2.0</td>\n      <td>3.0</td>\n      <td>13.0</td>\n      <td>12.0</td>\n      <td>1.0</td>\n    </tr>\n    <tr>\n      <th>...</th>\n      <td>...</td>\n      <td>...</td>\n      <td>...</td>\n      <td>...</td>\n      <td>...</td>\n      <td>...</td>\n      <td>...</td>\n      <td>...</td>\n      <td>...</td>\n    </tr>\n    <tr>\n      <th>250</th>\n      <td>wilmington-treatment-center-north-carolina</td>\n      <td>1.0</td>\n      <td>3.0</td>\n      <td>NaN</td>\n      <td>2.0</td>\n      <td>2.0</td>\n      <td>3.0</td>\n      <td>1.0</td>\n      <td>NaN</td>\n    </tr>\n    <tr>\n      <th>251</th>\n      <td>wish-recovery-california</td>\n      <td>21.0</td>\n      <td>13.0</td>\n      <td>16.0</td>\n      <td>17.0</td>\n      <td>17.0</td>\n      <td>33.0</td>\n      <td>30.0</td>\n      <td>NaN</td>\n    </tr>\n    <tr>\n      <th>252</th>\n      <td>within-center-austin-texas</td>\n      <td>4.0</td>\n      <td>3.0</td>\n      <td>11.0</td>\n      <td>13.0</td>\n      <td>8.0</td>\n      <td>8.0</td>\n      <td>19.0</td>\n      <td>1.0</td>\n    </tr>\n    <tr>\n      <th>253</th>\n      <td>zeus-rehab-warsaw-poland</td>\n      <td>5.0</td>\n      <td>1.0</td>\n      <td>2.0</td>\n      <td>3.0</td>\n      <td>7.0</td>\n      <td>13.0</td>\n      <td>12.0</td>\n      <td>NaN</td>\n    </tr>\n    <tr>\n      <th>254</th>\n      <td>zinnia-healing-singer-island</td>\n      <td>3.0</td>\n      <td>3.0</td>\n      <td>4.0</td>\n      <td>2.0</td>\n      <td>5.0</td>\n      <td>3.0</td>\n      <td>2.0</td>\n      <td>NaN</td>\n    </tr>\n  </tbody>\n</table>\n<p>255 rows × 9 columns</p>\n</div>"
          },
          "metadata": {}
        }
      ],
      "execution_count": null,
      "block_group": "abca522adceb4da5b81f9246206046b2"
    },
    {
      "cell_type": "markdown",
      "source": "### Removing PPVs Before GoLive Dates",
      "metadata": {
        "formattedRanges": [],
        "cell_id": "0dcae43e181347179365ac61b0ad6aaa",
        "deepnote_cell_type": "text-cell-h3"
      },
      "block_group": "f3554a7d721f4098a1841aa0d78d7c33"
    },
    {
      "cell_type": "markdown",
      "source": "Our PPV data is now ready to be combined with the GoLive dates. This will allow us to search whether a column is before a center's GoLive date. If it is, we're going to set the PPVs on that day to zero.",
      "metadata": {
        "cell_id": "06442e7ba79643f286af6cf353b565f3",
        "deepnote_cell_type": "markdown"
      },
      "block_group": "edae58c7d2a74ce7bf7043b9c434e103"
    },
    {
      "cell_type": "code",
      "source": "# Mergeing/joining our two dataframes:\nmerged_df = pd.merge(pivoted_views, cleaned_data_df, on='Profile Slug', how='left')\nlist_cols = merged_df.columns[1:-1]\n\n# Discarding extra columns and moving 'Page' to front:\nmerged_df = merged_df[['Page'] + list(list_cols)]",
      "metadata": {
        "source_hash": null,
        "execution_start": 1704755792904,
        "execution_millis": 9,
        "deepnote_to_be_reexecuted": false,
        "cell_id": "6224ed48730148fbb1ef8adbe1b41eee",
        "deepnote_cell_type": "code"
      },
      "outputs": [],
      "execution_count": null,
      "block_group": "6ee90474b0dd4566893412dd077c99be"
    },
    {
      "cell_type": "markdown",
      "source": "Since GoLive Date has been moved, we need to turn it into a date, again, but it is already formated correctly from our ealier work. \n\nWe are then ready to use the column dates and `Go Live Dates` to discard PPVs before a center was live.",
      "metadata": {
        "cell_id": "4e5382d4db334035963ab4801af2955b",
        "deepnote_cell_type": "markdown"
      },
      "block_group": "534a4b5d3b7d4f978b3fb1894d1beb82"
    },
    {
      "cell_type": "code",
      "source": "merged_df['GoLive Date'] = pd.to_datetime(merged_df['GoLive Date'], errors='coerce')\n\n# GoLive Date Checks:\nfor index, row in merged_df.iterrows():\n    go_live_date = row['GoLive Date']\n    if pd.isnull(go_live_date):\n        # If GoLive Date is missing, set all date columns to 0\n        merged_df.loc[index, list_cols] = ''\n    else:\n        for col in list_cols:\n            col_date = pd.to_datetime(col, errors='coerce') + timedelta(1)\n            if go_live_date > col_date:\n                merged_df.at[index, col] = ''",
      "metadata": {
        "source_hash": null,
        "execution_start": 1704755792947,
        "execution_millis": 173,
        "deepnote_to_be_reexecuted": false,
        "cell_id": "711e0c5990b446908f04f9eeffc88687",
        "deepnote_cell_type": "code"
      },
      "outputs": [],
      "execution_count": null,
      "block_group": "a61e9c0060a543b2bb0a9de9d7c90516"
    },
    {
      "cell_type": "markdown",
      "source": "Because of the quirks of Google Sheets, I'm going to add empty columns to the date of the dataframe to ensure the total number of columns is always equal to 33. This ensures that Dave's formulas for finding the PPVs still work.",
      "metadata": {
        "cell_id": "ea80a08db1d94394a5372dbb73d23c12",
        "deepnote_cell_type": "markdown"
      },
      "block_group": "5171fa2905134fc7a48698b127c77bb4"
    },
    {
      "cell_type": "code",
      "source": "def ensure_32_columns(df):\n    current_column_count = df.shape[1]\n    columns_to_add = 33 - current_column_count\n\n    for i in range(columns_to_add):\n        df[f'Empty Column {current_column_count + i + 1}'] = pd.NA\n\n    return df\n\n\nmerged_df = ensure_32_columns(merged_df)\nmerged_df = merged_df.where(pd.notnull(merged_df), '')",
      "metadata": {
        "source_hash": null,
        "execution_start": 1704755793171,
        "execution_millis": 9,
        "deepnote_to_be_reexecuted": false,
        "cell_id": "3008b0168d8c4858827f1d02a916a38a",
        "deepnote_cell_type": "code"
      },
      "outputs": [],
      "execution_count": null,
      "block_group": "765e39523cbe4328933dd5eb37da541e"
    },
    {
      "cell_type": "markdown",
      "source": "After dropping `Go Live Date`, or data is finalized and ready to be sent to the APRB sheet:",
      "metadata": {
        "cell_id": "27fa5a844fb64e4e991ac76494f0e47c",
        "deepnote_cell_type": "markdown"
      },
      "block_group": "45bc9eac37a04dcabb700de2d8247e75"
    },
    {
      "cell_type": "code",
      "source": "finished_data = merged_df.drop(columns=['GoLive Date'])\nfinished_data",
      "metadata": {
        "source_hash": null,
        "execution_start": 1704755793172,
        "execution_millis": 25,
        "deepnote_to_be_reexecuted": false,
        "cell_id": "411c763ce70d4d9ca4876ca9de910647",
        "deepnote_cell_type": "code"
      },
      "outputs": [
        {
          "output_type": "execute_result",
          "execution_count": 12,
          "data": {
            "application/vnd.deepnote.dataframe.v3+json": {
              "column_count": 32,
              "row_count": 255,
              "columns": [
                {
                  "name": "Page",
                  "dtype": "object",
                  "stats": {
                    "unique_count": 255,
                    "nan_count": 0,
                    "categories": [
                      {
                        "name": "/1000-islands/",
                        "count": 1
                      },
                      {
                        "name": "/90210-recovery-california/",
                        "count": 1
                      },
                      {
                        "name": "253 others",
                        "count": 253
                      }
                    ]
                  }
                },
                {
                  "name": "2024-01-01",
                  "dtype": "object",
                  "stats": {
                    "unique_count": 23,
                    "nan_count": 0,
                    "categories": [
                      {
                        "name": "",
                        "count": 60
                      },
                      {
                        "name": "2.0",
                        "count": 33
                      },
                      {
                        "name": "21 others",
                        "count": 162
                      }
                    ]
                  }
                },
                {
                  "name": "2024-01-02",
                  "dtype": "object",
                  "stats": {
                    "unique_count": 29,
                    "nan_count": 0,
                    "categories": [
                      {
                        "name": "",
                        "count": 47
                      },
                      {
                        "name": "1.0",
                        "count": 31
                      },
                      {
                        "name": "27 others",
                        "count": 177
                      }
                    ]
                  }
                },
                {
                  "name": "2024-01-03",
                  "dtype": "object",
                  "stats": {
                    "unique_count": 31,
                    "nan_count": 0,
                    "categories": [
                      {
                        "name": "",
                        "count": 39
                      },
                      {
                        "name": "2.0",
                        "count": 35
                      },
                      {
                        "name": "29 others",
                        "count": 181
                      }
                    ]
                  }
                },
                {
                  "name": "2024-01-04",
                  "dtype": "object",
                  "stats": {
                    "unique_count": 32,
                    "nan_count": 0,
                    "categories": [
                      {
                        "name": "",
                        "count": 47
                      },
                      {
                        "name": "5.0",
                        "count": 27
                      },
                      {
                        "name": "30 others",
                        "count": 181
                      }
                    ]
                  }
                },
                {
                  "name": "2024-01-05",
                  "dtype": "object",
                  "stats": {
                    "unique_count": 28,
                    "nan_count": 0,
                    "categories": [
                      {
                        "name": "",
                        "count": 45
                      },
                      {
                        "name": "2.0",
                        "count": 29
                      },
                      {
                        "name": "26 others",
                        "count": 181
                      }
                    ]
                  }
                },
                {
                  "name": "2024-01-06",
                  "dtype": "object",
                  "stats": {
                    "unique_count": 33,
                    "nan_count": 0,
                    "categories": [
                      {
                        "name": "",
                        "count": 48
                      },
                      {
                        "name": "1.0",
                        "count": 26
                      },
                      {
                        "name": "31 others",
                        "count": 181
                      }
                    ]
                  }
                },
                {
                  "name": "2024-01-07",
                  "dtype": "object",
                  "stats": {
                    "unique_count": 35,
                    "nan_count": 0,
                    "categories": [
                      {
                        "name": "",
                        "count": 43
                      },
                      {
                        "name": "2.0",
                        "count": 24
                      },
                      {
                        "name": "33 others",
                        "count": 188
                      }
                    ]
                  }
                },
                {
                  "name": "2024-01-08",
                  "dtype": "object",
                  "stats": {
                    "unique_count": 7,
                    "nan_count": 0,
                    "categories": [
                      {
                        "name": "",
                        "count": 163
                      },
                      {
                        "name": "1.0",
                        "count": 72
                      },
                      {
                        "name": "5 others",
                        "count": 20
                      }
                    ]
                  }
                },
                {
                  "name": "Empty Column 11",
                  "dtype": "object",
                  "stats": {
                    "unique_count": 1,
                    "nan_count": 0,
                    "categories": [
                      {
                        "name": "",
                        "count": 255
                      }
                    ]
                  }
                },
                {
                  "name": "Empty Column 12",
                  "dtype": "object",
                  "stats": {
                    "unique_count": 1,
                    "nan_count": 0,
                    "categories": [
                      {
                        "name": "",
                        "count": 255
                      }
                    ]
                  }
                },
                {
                  "name": "Empty Column 13",
                  "dtype": "object",
                  "stats": {
                    "unique_count": 1,
                    "nan_count": 0,
                    "categories": [
                      {
                        "name": "",
                        "count": 255
                      }
                    ]
                  }
                },
                {
                  "name": "Empty Column 14",
                  "dtype": "object",
                  "stats": {
                    "unique_count": 1,
                    "nan_count": 0,
                    "categories": [
                      {
                        "name": "",
                        "count": 255
                      }
                    ]
                  }
                },
                {
                  "name": "Empty Column 15",
                  "dtype": "object",
                  "stats": {
                    "unique_count": 1,
                    "nan_count": 0,
                    "categories": [
                      {
                        "name": "",
                        "count": 255
                      }
                    ]
                  }
                },
                {
                  "name": "Empty Column 16",
                  "dtype": "object",
                  "stats": {
                    "unique_count": 1,
                    "nan_count": 0,
                    "categories": [
                      {
                        "name": "",
                        "count": 255
                      }
                    ]
                  }
                },
                {
                  "name": "Empty Column 17",
                  "dtype": "object",
                  "stats": {
                    "unique_count": 1,
                    "nan_count": 0,
                    "categories": [
                      {
                        "name": "",
                        "count": 255
                      }
                    ]
                  }
                },
                {
                  "name": "Empty Column 18",
                  "dtype": "object",
                  "stats": {
                    "unique_count": 1,
                    "nan_count": 0,
                    "categories": [
                      {
                        "name": "",
                        "count": 255
                      }
                    ]
                  }
                },
                {
                  "name": "Empty Column 19",
                  "dtype": "object",
                  "stats": {
                    "unique_count": 1,
                    "nan_count": 0,
                    "categories": [
                      {
                        "name": "",
                        "count": 255
                      }
                    ]
                  }
                },
                {
                  "name": "Empty Column 20",
                  "dtype": "object",
                  "stats": {
                    "unique_count": 1,
                    "nan_count": 0,
                    "categories": [
                      {
                        "name": "",
                        "count": 255
                      }
                    ]
                  }
                },
                {
                  "name": "Empty Column 21",
                  "dtype": "object",
                  "stats": {
                    "unique_count": 1,
                    "nan_count": 0,
                    "categories": [
                      {
                        "name": "",
                        "count": 255
                      }
                    ]
                  }
                },
                {
                  "name": "Empty Column 22",
                  "dtype": "object",
                  "stats": {
                    "unique_count": 1,
                    "nan_count": 0,
                    "categories": [
                      {
                        "name": "",
                        "count": 255
                      }
                    ]
                  }
                },
                {
                  "name": "Empty Column 23",
                  "dtype": "object",
                  "stats": {
                    "unique_count": 1,
                    "nan_count": 0,
                    "categories": [
                      {
                        "name": "",
                        "count": 255
                      }
                    ]
                  }
                },
                {
                  "name": "Empty Column 24",
                  "dtype": "object",
                  "stats": {
                    "unique_count": 1,
                    "nan_count": 0,
                    "categories": [
                      {
                        "name": "",
                        "count": 255
                      }
                    ]
                  }
                },
                {
                  "name": "Empty Column 25",
                  "dtype": "object",
                  "stats": {
                    "unique_count": 1,
                    "nan_count": 0,
                    "categories": [
                      {
                        "name": "",
                        "count": 255
                      }
                    ]
                  }
                },
                {
                  "name": "Empty Column 26",
                  "dtype": "object",
                  "stats": {
                    "unique_count": 1,
                    "nan_count": 0,
                    "categories": [
                      {
                        "name": "",
                        "count": 255
                      }
                    ]
                  }
                },
                {
                  "name": "Empty Column 27",
                  "dtype": "object",
                  "stats": {
                    "unique_count": 1,
                    "nan_count": 0,
                    "categories": [
                      {
                        "name": "",
                        "count": 255
                      }
                    ]
                  }
                },
                {
                  "name": "Empty Column 28",
                  "dtype": "object",
                  "stats": {
                    "unique_count": 1,
                    "nan_count": 0,
                    "categories": [
                      {
                        "name": "",
                        "count": 255
                      }
                    ]
                  }
                },
                {
                  "name": "Empty Column 29",
                  "dtype": "object",
                  "stats": {
                    "unique_count": 1,
                    "nan_count": 0,
                    "categories": [
                      {
                        "name": "",
                        "count": 255
                      }
                    ]
                  }
                },
                {
                  "name": "Empty Column 30",
                  "dtype": "object",
                  "stats": {
                    "unique_count": 1,
                    "nan_count": 0,
                    "categories": [
                      {
                        "name": "",
                        "count": 255
                      }
                    ]
                  }
                },
                {
                  "name": "Empty Column 31",
                  "dtype": "object",
                  "stats": {
                    "unique_count": 1,
                    "nan_count": 0,
                    "categories": [
                      {
                        "name": "",
                        "count": 255
                      }
                    ]
                  }
                },
                {
                  "name": "Empty Column 32",
                  "dtype": "object",
                  "stats": {
                    "unique_count": 1,
                    "nan_count": 0,
                    "categories": [
                      {
                        "name": "",
                        "count": 255
                      }
                    ]
                  }
                },
                {
                  "name": "Empty Column 33",
                  "dtype": "object",
                  "stats": {
                    "unique_count": 1,
                    "nan_count": 0,
                    "categories": [
                      {
                        "name": "",
                        "count": 255
                      }
                    ]
                  }
                },
                {
                  "name": "_deepnote_index_column",
                  "dtype": "int64"
                }
              ],
              "rows": [
                {
                  "Page": "/1000-islands/",
                  "2024-01-01": "28.0",
                  "2024-01-02": "18.0",
                  "2024-01-03": "18.0",
                  "2024-01-04": "12.0",
                  "2024-01-05": "10.0",
                  "2024-01-06": "13.0",
                  "2024-01-07": "27.0",
                  "2024-01-08": "6.0",
                  "Empty Column 11": "",
                  "Empty Column 12": "",
                  "Empty Column 13": "",
                  "Empty Column 14": "",
                  "Empty Column 15": "",
                  "Empty Column 16": "",
                  "Empty Column 17": "",
                  "Empty Column 18": "",
                  "Empty Column 19": "",
                  "Empty Column 20": "",
                  "Empty Column 21": "",
                  "Empty Column 22": "",
                  "Empty Column 23": "",
                  "Empty Column 24": "",
                  "Empty Column 25": "",
                  "Empty Column 26": "",
                  "Empty Column 27": "",
                  "Empty Column 28": "",
                  "Empty Column 29": "",
                  "Empty Column 30": "",
                  "Empty Column 31": "",
                  "Empty Column 32": "",
                  "Empty Column 33": "",
                  "_deepnote_index_column": 0
                },
                {
                  "Page": "/90210-recovery-california/",
                  "2024-01-01": "5.0",
                  "2024-01-02": "2.0",
                  "2024-01-03": "4.0",
                  "2024-01-04": "4.0",
                  "2024-01-05": "2.0",
                  "2024-01-06": "6.0",
                  "2024-01-07": "7.0",
                  "2024-01-08": "",
                  "Empty Column 11": "",
                  "Empty Column 12": "",
                  "Empty Column 13": "",
                  "Empty Column 14": "",
                  "Empty Column 15": "",
                  "Empty Column 16": "",
                  "Empty Column 17": "",
                  "Empty Column 18": "",
                  "Empty Column 19": "",
                  "Empty Column 20": "",
                  "Empty Column 21": "",
                  "Empty Column 22": "",
                  "Empty Column 23": "",
                  "Empty Column 24": "",
                  "Empty Column 25": "",
                  "Empty Column 26": "",
                  "Empty Column 27": "",
                  "Empty Column 28": "",
                  "Empty Column 29": "",
                  "Empty Column 30": "",
                  "Empty Column 31": "",
                  "Empty Column 32": "",
                  "Empty Column 33": "",
                  "_deepnote_index_column": 1
                },
                {
                  "Page": "/abhasa-rehabilitation-india/",
                  "2024-01-01": "15.0",
                  "2024-01-02": "11.0",
                  "2024-01-03": "7.0",
                  "2024-01-04": "8.0",
                  "2024-01-05": "7.0",
                  "2024-01-06": "12.0",
                  "2024-01-07": "16.0",
                  "2024-01-08": "1.0",
                  "Empty Column 11": "",
                  "Empty Column 12": "",
                  "Empty Column 13": "",
                  "Empty Column 14": "",
                  "Empty Column 15": "",
                  "Empty Column 16": "",
                  "Empty Column 17": "",
                  "Empty Column 18": "",
                  "Empty Column 19": "",
                  "Empty Column 20": "",
                  "Empty Column 21": "",
                  "Empty Column 22": "",
                  "Empty Column 23": "",
                  "Empty Column 24": "",
                  "Empty Column 25": "",
                  "Empty Column 26": "",
                  "Empty Column 27": "",
                  "Empty Column 28": "",
                  "Empty Column 29": "",
                  "Empty Column 30": "",
                  "Empty Column 31": "",
                  "Empty Column 32": "",
                  "Empty Column 33": "",
                  "_deepnote_index_column": 2
                },
                {
                  "Page": "/abhasa-rehabilitation-thondamuthur-india/",
                  "2024-01-01": "8.0",
                  "2024-01-02": "6.0",
                  "2024-01-03": "3.0",
                  "2024-01-04": "6.0",
                  "2024-01-05": "1.0",
                  "2024-01-06": "12.0",
                  "2024-01-07": "11.0",
                  "2024-01-08": "",
                  "Empty Column 11": "",
                  "Empty Column 12": "",
                  "Empty Column 13": "",
                  "Empty Column 14": "",
                  "Empty Column 15": "",
                  "Empty Column 16": "",
                  "Empty Column 17": "",
                  "Empty Column 18": "",
                  "Empty Column 19": "",
                  "Empty Column 20": "",
                  "Empty Column 21": "",
                  "Empty Column 22": "",
                  "Empty Column 23": "",
                  "Empty Column 24": "",
                  "Empty Column 25": "",
                  "Empty Column 26": "",
                  "Empty Column 27": "",
                  "Empty Column 28": "",
                  "Empty Column 29": "",
                  "Empty Column 30": "",
                  "Empty Column 31": "",
                  "Empty Column 32": "",
                  "Empty Column 33": "",
                  "_deepnote_index_column": 3
                },
                {
                  "Page": "/abhasa-wellness-retreat/",
                  "2024-01-01": "7.0",
                  "2024-01-02": "5.0",
                  "2024-01-03": "7.0",
                  "2024-01-04": "2.0",
                  "2024-01-05": "3.0",
                  "2024-01-06": "13.0",
                  "2024-01-07": "12.0",
                  "2024-01-08": "1.0",
                  "Empty Column 11": "",
                  "Empty Column 12": "",
                  "Empty Column 13": "",
                  "Empty Column 14": "",
                  "Empty Column 15": "",
                  "Empty Column 16": "",
                  "Empty Column 17": "",
                  "Empty Column 18": "",
                  "Empty Column 19": "",
                  "Empty Column 20": "",
                  "Empty Column 21": "",
                  "Empty Column 22": "",
                  "Empty Column 23": "",
                  "Empty Column 24": "",
                  "Empty Column 25": "",
                  "Empty Column 26": "",
                  "Empty Column 27": "",
                  "Empty Column 28": "",
                  "Empty Column 29": "",
                  "Empty Column 30": "",
                  "Empty Column 31": "",
                  "Empty Column 32": "",
                  "Empty Column 33": "",
                  "_deepnote_index_column": 4
                },
                {
                  "Page": "/absolute-awakenings-new-jersey/",
                  "2024-01-01": "",
                  "2024-01-02": "12.0",
                  "2024-01-03": "1.0",
                  "2024-01-04": "",
                  "2024-01-05": "5.0",
                  "2024-01-06": "1.0",
                  "2024-01-07": "2.0",
                  "2024-01-08": "1.0",
                  "Empty Column 11": "",
                  "Empty Column 12": "",
                  "Empty Column 13": "",
                  "Empty Column 14": "",
                  "Empty Column 15": "",
                  "Empty Column 16": "",
                  "Empty Column 17": "",
                  "Empty Column 18": "",
                  "Empty Column 19": "",
                  "Empty Column 20": "",
                  "Empty Column 21": "",
                  "Empty Column 22": "",
                  "Empty Column 23": "",
                  "Empty Column 24": "",
                  "Empty Column 25": "",
                  "Empty Column 26": "",
                  "Empty Column 27": "",
                  "Empty Column 28": "",
                  "Empty Column 29": "",
                  "Empty Column 30": "",
                  "Empty Column 31": "",
                  "Empty Column 32": "",
                  "Empty Column 33": "",
                  "_deepnote_index_column": 5
                },
                {
                  "Page": "/acqua-recovery/",
                  "2024-01-01": "2.0",
                  "2024-01-02": "8.0",
                  "2024-01-03": "14.0",
                  "2024-01-04": "5.0",
                  "2024-01-05": "5.0",
                  "2024-01-06": "7.0",
                  "2024-01-07": "3.0",
                  "2024-01-08": "",
                  "Empty Column 11": "",
                  "Empty Column 12": "",
                  "Empty Column 13": "",
                  "Empty Column 14": "",
                  "Empty Column 15": "",
                  "Empty Column 16": "",
                  "Empty Column 17": "",
                  "Empty Column 18": "",
                  "Empty Column 19": "",
                  "Empty Column 20": "",
                  "Empty Column 21": "",
                  "Empty Column 22": "",
                  "Empty Column 23": "",
                  "Empty Column 24": "",
                  "Empty Column 25": "",
                  "Empty Column 26": "",
                  "Empty Column 27": "",
                  "Empty Column 28": "",
                  "Empty Column 29": "",
                  "Empty Column 30": "",
                  "Empty Column 31": "",
                  "Empty Column 32": "",
                  "Empty Column 33": "",
                  "_deepnote_index_column": 6
                },
                {
                  "Page": "/adcare-rhode-island/",
                  "2024-01-01": "7.0",
                  "2024-01-02": "3.0",
                  "2024-01-03": "1.0",
                  "2024-01-04": "5.0",
                  "2024-01-05": "9.0",
                  "2024-01-06": "1.0",
                  "2024-01-07": "7.0",
                  "2024-01-08": "1.0",
                  "Empty Column 11": "",
                  "Empty Column 12": "",
                  "Empty Column 13": "",
                  "Empty Column 14": "",
                  "Empty Column 15": "",
                  "Empty Column 16": "",
                  "Empty Column 17": "",
                  "Empty Column 18": "",
                  "Empty Column 19": "",
                  "Empty Column 20": "",
                  "Empty Column 21": "",
                  "Empty Column 22": "",
                  "Empty Column 23": "",
                  "Empty Column 24": "",
                  "Empty Column 25": "",
                  "Empty Column 26": "",
                  "Empty Column 27": "",
                  "Empty Column 28": "",
                  "Empty Column 29": "",
                  "Empty Column 30": "",
                  "Empty Column 31": "",
                  "Empty Column 32": "",
                  "Empty Column 33": "",
                  "_deepnote_index_column": 7
                },
                {
                  "Page": "/affect2u-vosselaar-belgium/",
                  "2024-01-01": "8.0",
                  "2024-01-02": "10.0",
                  "2024-01-03": "5.0",
                  "2024-01-04": "11.0",
                  "2024-01-05": "10.0",
                  "2024-01-06": "7.0",
                  "2024-01-07": "21.0",
                  "2024-01-08": "",
                  "Empty Column 11": "",
                  "Empty Column 12": "",
                  "Empty Column 13": "",
                  "Empty Column 14": "",
                  "Empty Column 15": "",
                  "Empty Column 16": "",
                  "Empty Column 17": "",
                  "Empty Column 18": "",
                  "Empty Column 19": "",
                  "Empty Column 20": "",
                  "Empty Column 21": "",
                  "Empty Column 22": "",
                  "Empty Column 23": "",
                  "Empty Column 24": "",
                  "Empty Column 25": "",
                  "Empty Column 26": "",
                  "Empty Column 27": "",
                  "Empty Column 28": "",
                  "Empty Column 29": "",
                  "Empty Column 30": "",
                  "Empty Column 31": "",
                  "Empty Column 32": "",
                  "Empty Column 33": "",
                  "_deepnote_index_column": 8
                },
                {
                  "Page": "/agape-treatment-center-fort-lauderdale-florida/",
                  "2024-01-01": "",
                  "2024-01-02": "",
                  "2024-01-03": "",
                  "2024-01-04": "",
                  "2024-01-05": "",
                  "2024-01-06": "",
                  "2024-01-07": "",
                  "2024-01-08": "",
                  "Empty Column 11": "",
                  "Empty Column 12": "",
                  "Empty Column 13": "",
                  "Empty Column 14": "",
                  "Empty Column 15": "",
                  "Empty Column 16": "",
                  "Empty Column 17": "",
                  "Empty Column 18": "",
                  "Empty Column 19": "",
                  "Empty Column 20": "",
                  "Empty Column 21": "",
                  "Empty Column 22": "",
                  "Empty Column 23": "",
                  "Empty Column 24": "",
                  "Empty Column 25": "",
                  "Empty Column 26": "",
                  "Empty Column 27": "",
                  "Empty Column 28": "",
                  "Empty Column 29": "",
                  "Empty Column 30": "",
                  "Empty Column 31": "",
                  "Empty Column 32": "",
                  "Empty Column 33": "",
                  "_deepnote_index_column": 9
                }
              ]
            },
            "text/plain": "                                             Page 2024-01-01 2024-01-02  \\\n0                                  /1000-islands/       28.0       18.0   \n1                     /90210-recovery-california/        5.0        2.0   \n2                   /abhasa-rehabilitation-india/       15.0       11.0   \n3      /abhasa-rehabilitation-thondamuthur-india/        8.0        6.0   \n4                       /abhasa-wellness-retreat/        7.0        5.0   \n..                                            ...        ...        ...   \n250  /wilmington-treatment-center-north-carolina/        1.0        3.0   \n251                    /wish-recovery-california/       21.0       13.0   \n252                  /within-center-austin-texas/        4.0        3.0   \n253                    /zeus-rehab-warsaw-poland/                         \n254                /zinnia-healing-singer-island/        3.0        3.0   \n\n    2024-01-03 2024-01-04 2024-01-05 2024-01-06 2024-01-07 2024-01-08  \\\n0         18.0       12.0       10.0       13.0       27.0        6.0   \n1          4.0        4.0        2.0        6.0        7.0              \n2          7.0        8.0        7.0       12.0       16.0        1.0   \n3          3.0        6.0        1.0       12.0       11.0              \n4          7.0        2.0        3.0       13.0       12.0        1.0   \n..         ...        ...        ...        ...        ...        ...   \n250                   2.0        2.0        3.0        1.0              \n251       16.0       17.0       17.0       33.0       30.0              \n252       11.0       13.0        8.0        8.0       19.0        1.0   \n253                   3.0        7.0       13.0       12.0              \n254        4.0        2.0        5.0        3.0        2.0              \n\n    Empty Column 11  ... Empty Column 24 Empty Column 25 Empty Column 26  \\\n0                    ...                                                   \n1                    ...                                                   \n2                    ...                                                   \n3                    ...                                                   \n4                    ...                                                   \n..              ...  ...             ...             ...             ...   \n250                  ...                                                   \n251                  ...                                                   \n252                  ...                                                   \n253                  ...                                                   \n254                  ...                                                   \n\n    Empty Column 27 Empty Column 28 Empty Column 29 Empty Column 30  \\\n0                                                                     \n1                                                                     \n2                                                                     \n3                                                                     \n4                                                                     \n..              ...             ...             ...             ...   \n250                                                                   \n251                                                                   \n252                                                                   \n253                                                                   \n254                                                                   \n\n    Empty Column 31 Empty Column 32 Empty Column 33  \n0                                                    \n1                                                    \n2                                                    \n3                                                    \n4                                                    \n..              ...             ...             ...  \n250                                                  \n251                                                  \n252                                                  \n253                                                  \n254                                                  \n\n[255 rows x 32 columns]",
            "text/html": "<div>\n<style scoped>\n    .dataframe tbody tr th:only-of-type {\n        vertical-align: middle;\n    }\n\n    .dataframe tbody tr th {\n        vertical-align: top;\n    }\n\n    .dataframe thead th {\n        text-align: right;\n    }\n</style>\n<table border=\"1\" class=\"dataframe\">\n  <thead>\n    <tr style=\"text-align: right;\">\n      <th></th>\n      <th>Page</th>\n      <th>2024-01-01</th>\n      <th>2024-01-02</th>\n      <th>2024-01-03</th>\n      <th>2024-01-04</th>\n      <th>2024-01-05</th>\n      <th>2024-01-06</th>\n      <th>2024-01-07</th>\n      <th>2024-01-08</th>\n      <th>Empty Column 11</th>\n      <th>...</th>\n      <th>Empty Column 24</th>\n      <th>Empty Column 25</th>\n      <th>Empty Column 26</th>\n      <th>Empty Column 27</th>\n      <th>Empty Column 28</th>\n      <th>Empty Column 29</th>\n      <th>Empty Column 30</th>\n      <th>Empty Column 31</th>\n      <th>Empty Column 32</th>\n      <th>Empty Column 33</th>\n    </tr>\n  </thead>\n  <tbody>\n    <tr>\n      <th>0</th>\n      <td>/1000-islands/</td>\n      <td>28.0</td>\n      <td>18.0</td>\n      <td>18.0</td>\n      <td>12.0</td>\n      <td>10.0</td>\n      <td>13.0</td>\n      <td>27.0</td>\n      <td>6.0</td>\n      <td></td>\n      <td>...</td>\n      <td></td>\n      <td></td>\n      <td></td>\n      <td></td>\n      <td></td>\n      <td></td>\n      <td></td>\n      <td></td>\n      <td></td>\n      <td></td>\n    </tr>\n    <tr>\n      <th>1</th>\n      <td>/90210-recovery-california/</td>\n      <td>5.0</td>\n      <td>2.0</td>\n      <td>4.0</td>\n      <td>4.0</td>\n      <td>2.0</td>\n      <td>6.0</td>\n      <td>7.0</td>\n      <td></td>\n      <td></td>\n      <td>...</td>\n      <td></td>\n      <td></td>\n      <td></td>\n      <td></td>\n      <td></td>\n      <td></td>\n      <td></td>\n      <td></td>\n      <td></td>\n      <td></td>\n    </tr>\n    <tr>\n      <th>2</th>\n      <td>/abhasa-rehabilitation-india/</td>\n      <td>15.0</td>\n      <td>11.0</td>\n      <td>7.0</td>\n      <td>8.0</td>\n      <td>7.0</td>\n      <td>12.0</td>\n      <td>16.0</td>\n      <td>1.0</td>\n      <td></td>\n      <td>...</td>\n      <td></td>\n      <td></td>\n      <td></td>\n      <td></td>\n      <td></td>\n      <td></td>\n      <td></td>\n      <td></td>\n      <td></td>\n      <td></td>\n    </tr>\n    <tr>\n      <th>3</th>\n      <td>/abhasa-rehabilitation-thondamuthur-india/</td>\n      <td>8.0</td>\n      <td>6.0</td>\n      <td>3.0</td>\n      <td>6.0</td>\n      <td>1.0</td>\n      <td>12.0</td>\n      <td>11.0</td>\n      <td></td>\n      <td></td>\n      <td>...</td>\n      <td></td>\n      <td></td>\n      <td></td>\n      <td></td>\n      <td></td>\n      <td></td>\n      <td></td>\n      <td></td>\n      <td></td>\n      <td></td>\n    </tr>\n    <tr>\n      <th>4</th>\n      <td>/abhasa-wellness-retreat/</td>\n      <td>7.0</td>\n      <td>5.0</td>\n      <td>7.0</td>\n      <td>2.0</td>\n      <td>3.0</td>\n      <td>13.0</td>\n      <td>12.0</td>\n      <td>1.0</td>\n      <td></td>\n      <td>...</td>\n      <td></td>\n      <td></td>\n      <td></td>\n      <td></td>\n      <td></td>\n      <td></td>\n      <td></td>\n      <td></td>\n      <td></td>\n      <td></td>\n    </tr>\n    <tr>\n      <th>...</th>\n      <td>...</td>\n      <td>...</td>\n      <td>...</td>\n      <td>...</td>\n      <td>...</td>\n      <td>...</td>\n      <td>...</td>\n      <td>...</td>\n      <td>...</td>\n      <td>...</td>\n      <td>...</td>\n      <td>...</td>\n      <td>...</td>\n      <td>...</td>\n      <td>...</td>\n      <td>...</td>\n      <td>...</td>\n      <td>...</td>\n      <td>...</td>\n      <td>...</td>\n      <td>...</td>\n    </tr>\n    <tr>\n      <th>250</th>\n      <td>/wilmington-treatment-center-north-carolina/</td>\n      <td>1.0</td>\n      <td>3.0</td>\n      <td></td>\n      <td>2.0</td>\n      <td>2.0</td>\n      <td>3.0</td>\n      <td>1.0</td>\n      <td></td>\n      <td></td>\n      <td>...</td>\n      <td></td>\n      <td></td>\n      <td></td>\n      <td></td>\n      <td></td>\n      <td></td>\n      <td></td>\n      <td></td>\n      <td></td>\n      <td></td>\n    </tr>\n    <tr>\n      <th>251</th>\n      <td>/wish-recovery-california/</td>\n      <td>21.0</td>\n      <td>13.0</td>\n      <td>16.0</td>\n      <td>17.0</td>\n      <td>17.0</td>\n      <td>33.0</td>\n      <td>30.0</td>\n      <td></td>\n      <td></td>\n      <td>...</td>\n      <td></td>\n      <td></td>\n      <td></td>\n      <td></td>\n      <td></td>\n      <td></td>\n      <td></td>\n      <td></td>\n      <td></td>\n      <td></td>\n    </tr>\n    <tr>\n      <th>252</th>\n      <td>/within-center-austin-texas/</td>\n      <td>4.0</td>\n      <td>3.0</td>\n      <td>11.0</td>\n      <td>13.0</td>\n      <td>8.0</td>\n      <td>8.0</td>\n      <td>19.0</td>\n      <td>1.0</td>\n      <td></td>\n      <td>...</td>\n      <td></td>\n      <td></td>\n      <td></td>\n      <td></td>\n      <td></td>\n      <td></td>\n      <td></td>\n      <td></td>\n      <td></td>\n      <td></td>\n    </tr>\n    <tr>\n      <th>253</th>\n      <td>/zeus-rehab-warsaw-poland/</td>\n      <td></td>\n      <td></td>\n      <td></td>\n      <td>3.0</td>\n      <td>7.0</td>\n      <td>13.0</td>\n      <td>12.0</td>\n      <td></td>\n      <td></td>\n      <td>...</td>\n      <td></td>\n      <td></td>\n      <td></td>\n      <td></td>\n      <td></td>\n      <td></td>\n      <td></td>\n      <td></td>\n      <td></td>\n      <td></td>\n    </tr>\n    <tr>\n      <th>254</th>\n      <td>/zinnia-healing-singer-island/</td>\n      <td>3.0</td>\n      <td>3.0</td>\n      <td>4.0</td>\n      <td>2.0</td>\n      <td>5.0</td>\n      <td>3.0</td>\n      <td>2.0</td>\n      <td></td>\n      <td></td>\n      <td>...</td>\n      <td></td>\n      <td></td>\n      <td></td>\n      <td></td>\n      <td></td>\n      <td></td>\n      <td></td>\n      <td></td>\n      <td></td>\n      <td></td>\n    </tr>\n  </tbody>\n</table>\n<p>255 rows × 32 columns</p>\n</div>"
          },
          "metadata": {}
        }
      ],
      "execution_count": null,
      "block_group": "c622e8455132422ea9b69790f43f3aa4"
    },
    {
      "cell_type": "markdown",
      "source": "### Send Data to ADPB Sheet",
      "metadata": {
        "formattedRanges": [],
        "cell_id": "347c03dc66c442a886d653c688e52b7c",
        "deepnote_cell_type": "text-cell-h3"
      },
      "block_group": "a283bdd11e614f51add8b2e054cbd412"
    },
    {
      "cell_type": "markdown",
      "source": "Sending data to AdvertisingPartners_RatesAndBudgets using the GoogleSheets API and pygsheets:",
      "metadata": {
        "formattedRanges": [],
        "cell_id": "ea9ab1a1bc314166a7fde4b48a571763",
        "deepnote_cell_type": "text-cell-p"
      },
      "block_group": "d316aa7c60ce42ad91c730f7c97cd099"
    },
    {
      "cell_type": "code",
      "source": "write_to_gsheet('/work/keveldata-5f76a71e9aaf.json','1G5Mo3wrT_SrbFt5lyjKDne4C-Hj0cfjxCaW9mGPLQXU',\"PPV Data\",finished_data)",
      "metadata": {
        "source_hash": null,
        "execution_start": 1704755793198,
        "execution_millis": 4099,
        "deepnote_to_be_reexecuted": false,
        "cell_id": "344c3f9c5de045988fb37cde0f1ff13e",
        "deepnote_cell_type": "code"
      },
      "outputs": [],
      "execution_count": null,
      "block_group": "6801cdd9bab94cc18e56292ac35ff6f8"
    },
    {
      "cell_type": "markdown",
      "source": "<a style='text-decoration:none;line-height:16px;display:flex;color:#5B5B62;padding:10px;justify-content:end;' href='https://deepnote.com?utm_source=created-in-deepnote-cell&projectId=6d4ba941-f702-478c-87bf-a3e3e8035885' target=\"_blank\">\n<img alt='Created in deepnote.com' style='display:inline;max-height:16px;margin:0px;margin-right:7.5px;' src='data:image/svg+xml;base64,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' > </img>\nCreated in <span style='font-weight:600;margin-left:4px;'>Deepnote</span></a>",
      "metadata": {
        "created_in_deepnote_cell": true,
        "deepnote_cell_type": "markdown"
      }
    }
  ],
  "nbformat": 4,
  "nbformat_minor": 0,
  "metadata": {
    "deepnote_persisted_session": {
      "createdAt": "2024-01-08T23:20:59.333Z"
    },
    "deepnote_full_width": false,
    "deepnote_notebook_id": "2a3081eeb5d74848945c8a5784d7955c",
    "deepnote_execution_queue": []
  }
}