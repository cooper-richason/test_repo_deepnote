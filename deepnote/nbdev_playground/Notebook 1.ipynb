{
  "cells": [
    {
      "cell_type": "markdown",
      "source": "# Title of Notebook\n> Subtitle goes here",
      "metadata": {
        "cell_id": "8c756ac0f4a247b796fb5756a7210f82",
        "deepnote_cell_type": "markdown"
      },
      "block_group": "e0b815e2220f481d9402ccf9d163256e"
    },
    {
      "cell_type": "code",
      "source": "from nbdev import *",
      "metadata": {
        "source_hash": "11b310d2",
        "execution_start": 1704754058696,
        "execution_millis": 5,
        "deepnote_to_be_reexecuted": false,
        "cell_id": "bc4c11db14a44f75bf84768fb1558677",
        "deepnote_cell_type": "code"
      },
      "outputs": [],
      "execution_count": 4,
      "block_group": "bc4c11db14a44f75bf84768fb1558677"
    },
    {
      "cell_type": "code",
      "source": "import requests\nimport pandas as pd\nimport os\nimport json\nfrom datetime import datetime\nimport pytz  # For working with time zones\n\n\nheaders = {\n    'X-PW-AccessToken':os.environ[\"COPPER_API_KEY\"],\n    'X-PW-Application':'developer_api',\n    'X-PW-UserEmail':'cooper@rehabpath.com',\n    'Content-Type':'application/json'\n}\n\ndef refresh_custom_fields(return_results:bool = False, #Whether you would like results returned\n):\n    \"\"\"\n    Function to refresh the custom_field_json file and related dictionary. Option to \n    return resulting dictionary.\n    \"\"\"\n    # Fetching custom fields:\n    list_fields = requests.get('https://api.copper.com/developer_api/v1/custom_field_definitions',headers=headers)\n    \n    # Was the API request a success?\n    if list_fields.status_code != 200:\n        print('Error fetching custom fields.')\n        if return_results:\n            print('Returning previous version.')\n            with open('custom_fields.json', encoding=\"utf-8\") as f:\n                return json.load(f)\n    \n    # Obtaining response text and initializing dictionary:\n    list_fields_json = list_fields.json()\n    custom_field_dict = {}\n\n    for item in list_fields_json:\n        item_dict = {}\n        for sub_item in ['name','data_type','available_on','is_filterable']:\n            item_dict[sub_item] = item[sub_item] \n\n        item_options = {}\n\n        if 'options' in item:\n            for sub_item in item['options']:\n                sub_item_name = sub_item['name']\n                sub_item_id = sub_item['id']\n\n                item_options[sub_item_id] = sub_item_name\n        \n            item_dict['options'] = item_options\n        item_id = item['id']\n        custom_field_dict[item_id] = item_dict\n    \n    # Updating local file:\n    with open('custom_fields.json', 'w') as file:\n        json.dump(custom_field_dict, file, indent=4)\n    \n    #Option to return results or just update local file:\n    if return_results == True:\n        return custom_field_dict\n    else:\n        print('Successfully Updated File!')\n        pass\n\ncustom_fields = refresh_custom_fields(True)\n\ndef get_cf_info(cf_id:str,     #ID of custom field\n                cf_info:list,  #Designed information about field, list if multiple items\n)->list: #Returns list if cf_info is list. Otherwise, returns value\n    \"\"\"\n    Function to get the custom field information based on the field id. Can be supplied with a sigular value for 'cf_info' or multiple as a list.\n    \"\"\"\n\n    if isinstance(cf_id,str):\n        cf_id = int(cf_id)      \n\n    # Check if cf_info item(s) are valid\n    if isinstance(cf_info, list):\n        for item_name in cf_info:\n            # Remove faulty items:\n            if item_name not in ['name','data_type','available_on','is_filterable','options']:\n                cf_info.pop(item_name)\n                print(f'Invalid cf_info: {cf_info}')\n            \n            # Cancel function if no valid items\n            if len(cf_info) == 0:\n                pass\n    elif cf_info not in ['name','data_type','available_on','is_filterable','options']:\n        print(f'Invalid cf_info: {cf_info}'); pass\n\n    if isinstance(cf_info,list):\n        return_list = []\n        for item_name in cf_info:\n            value = custom_fields[cf_id].get(item_name)\n            return_list.append(value)\n        return return_list\n    else:\n        value = custom_fields[cf_id].get(cf_info)\n        return value\n\ndef get_cf_options(cf_id:str, #Coppper ID for custom field\n)->dict: # Returns dictionary of options for field\n    return custom_fields.get(cf_id).get('options')\n\ndef cf_option_name(cf_id:str, #Coppper ID for custom field\noption_id:str, #Coppper ID for option\n)->str: #Returns name/value of option\n    return get_cf_options(cf_id).get(option_id)\n\ndef reformat_company_data(company_data:list, # Company data as a list of dictonaries\n):\n    \"\"\"\n    Function to reformat the company data recieved from Copper in their JSON response\n    \"\"\"\n\n    native_items = ['id', 'name', 'address', 'assignee_id', 'contact_type_id']\n\n    output_dict = {}\n\n    for item in native_items:\n        output_dict[item] = company_data.get(item, None)\n    \n    custom_field_data = company_data['custom_fields']\n\n    for dict_item in custom_field_data:\n        item_id = dict_item['custom_field_definition_id']\n        item_name = custom_fields_dict.get(item_id, None)\n\n        if item_name not in Custom_Fields or item_name is None:\n            continue\n        \n        if item_name is not None:\n            item_value = dict_item['value']\n            output_dict[item_name] = item_value\n    \n    return output_dict\n",
      "metadata": {
        "source_hash": "8bcef44d",
        "execution_start": 1704754686268,
        "execution_millis": 417,
        "deepnote_to_be_reexecuted": false,
        "cell_id": "8cd4e20043c346938d98bceed288dafe",
        "deepnote_cell_type": "code"
      },
      "outputs": [],
      "execution_count": 17,
      "block_group": "fae94781cd5b4e2aa2b2d4f4a7042109"
    },
    {
      "cell_type": "code",
      "source": "show_doc(refresh_custom_fields)",
      "metadata": {
        "source_hash": "971973a5",
        "execution_start": 1704754101122,
        "execution_millis": 264,
        "deepnote_to_be_reexecuted": false,
        "cell_id": "b95b90bcf4894f329b30bb40116ac298",
        "deepnote_cell_type": "code"
      },
      "outputs": [
        {
          "output_type": "execute_result",
          "execution_count": 10,
          "data": {
            "text/plain": "---\n\n### refresh_custom_fields\n\n>      refresh_custom_fields (return_results:bool=False)\n\nFunction to refresh the custom_field_json file and related dictionary. Option to \nreturn resulting dictionary.\n\n|    | **Type** | **Default** | **Details** |\n| -- | -------- | ----------- | ----------- |\n| return_results | bool | False | Whether you would like results returned |",
            "text/markdown": "---\n\n### refresh_custom_fields\n\n>      refresh_custom_fields (return_results:bool=False)\n\nFunction to refresh the custom_field_json file and related dictionary. Option to \nreturn resulting dictionary.\n\n|    | **Type** | **Default** | **Details** |\n| -- | -------- | ----------- | ----------- |\n| return_results | bool | False | Whether you would like results returned |"
          },
          "metadata": {}
        }
      ],
      "execution_count": 10,
      "block_group": "bd94049da913429eacc9d929c797ccf4"
    },
    {
      "cell_type": "code",
      "source": "show_doc(get_cf_info)",
      "metadata": {
        "source_hash": "7a44fc08",
        "execution_start": 1704754391849,
        "execution_millis": 7,
        "deepnote_to_be_reexecuted": false,
        "cell_id": "d3c2ac1730c74a2ca06c919fdc9b73c8",
        "deepnote_cell_type": "code"
      },
      "outputs": [
        {
          "output_type": "execute_result",
          "execution_count": 16,
          "data": {
            "text/plain": "---\n\n### get_cf_info\n\n>      get_cf_info (cf_id:str, cf_info:list)\n\nFunction to get the custom field information based on the field id. Can be supplied with a sigular value for 'cf_info' or multiple as a list\n\n|    | **Type** | **Details** |\n| -- | -------- | ----------- |\n| cf_id | str | ID of custom field |\n| cf_info | list | Designed information about field, list if multiple items |\n| **Returns** | **list** | **Returns list if cf_info is list. Otherwise, returns value** |",
            "text/markdown": "---\n\n### get_cf_info\n\n>      get_cf_info (cf_id:str, cf_info:list)\n\nFunction to get the custom field information based on the field id. Can be supplied with a sigular value for 'cf_info' or multiple as a list\n\n|    | **Type** | **Details** |\n| -- | -------- | ----------- |\n| cf_id | str | ID of custom field |\n| cf_info | list | Designed information about field, list if multiple items |\n| **Returns** | **list** | **Returns list if cf_info is list. Otherwise, returns value** |"
          },
          "metadata": {}
        }
      ],
      "execution_count": 16,
      "block_group": "5500bf4811e0448d994caed9e37da0fc"
    },
    {
      "cell_type": "code",
      "source": "",
      "metadata": {
        "cell_id": "f4289ba465314016a64dde7885b0c9cc",
        "deepnote_cell_type": "code"
      },
      "outputs": [],
      "execution_count": null,
      "block_group": "75943ab1d3424755864a9263b86fbef7"
    },
    {
      "cell_type": "markdown",
      "source": "<a style='text-decoration:none;line-height:16px;display:flex;color:#5B5B62;padding:10px;justify-content:end;' href='https://deepnote.com?utm_source=created-in-deepnote-cell&projectId=00c552c7-bcb7-4815-8ee3-8291f5703f52' target=\"_blank\">\n<img alt='Created in deepnote.com' style='display:inline;max-height:16px;margin:0px;margin-right:7.5px;' src='data:image/svg+xml;base64,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' > </img>\nCreated in <span style='font-weight:600;margin-left:4px;'>Deepnote</span></a>",
      "metadata": {
        "created_in_deepnote_cell": true,
        "deepnote_cell_type": "markdown"
      }
    }
  ],
  "nbformat": 4,
  "nbformat_minor": 0,
  "metadata": {
    "deepnote_notebook_id": "6c78a92d62674ee4976df95f571bcaa0",
    "deepnote_execution_queue": []
  }
}